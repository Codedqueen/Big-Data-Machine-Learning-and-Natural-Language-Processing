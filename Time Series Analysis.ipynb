{
 "cells": [
  {
   "cell_type": "markdown",
   "id": "370529cb-7968-47ac-a7fc-2568fa6ce72c",
   "metadata": {},
   "source": [
    "### Week 13: Time Series Analysis "
   ]
  },
  {
   "cell_type": "markdown",
   "id": "01a55030-ffb6-4cdf-99cf-293f864f690e",
   "metadata": {},
   "source": [
    "Time Series Forecasting\n",
    "\n",
    "Time series forecasting occurs when you make scientific predictions based on historical time stamped data. \n",
    "\n",
    "It involves building models through historical analysis and using them to make observations and drive future strategic decision-making.\n",
    "\n",
    "An important distinction in forecasting is that at the time of the work, the future outcome is completely unavailable and can only be estimated through careful analysis and evidence-based priors.\n",
    "\n",
    "Types of models to use\n",
    "\n",
    "​\n",
    "ARIMA\n",
    "moving average( PACF)\n",
    "\n",
    "​\n",
    "auto regressive and intergrated moving average ( ACF for moving average)\n",
    "\n",
    "​\n",
    "base line model \n",
    "you can check whether base line or ARIMA model is better \n",
    "​\n",
    "Diference between machine learning and time series. \n",
    "\n",
    "Time series has to do with trends and seasons and it has just two few columns and it does not deal on dependent and independent variable.\n",
    "\n",
    "import warnings\n",
    "warnings.filterwarnings(\"ignore\")\n",
    "\n",
    "install the prediction on a list so as to test it\n",
    "\n",
    ".\n",
    "trends are patterns , we have upward and downward trend.\n",
    "\n",
    "5 ,3-6 and you put it in a loop.\n",
    "\n",
    "size dont have a bracket \n",
    "sampoo.size and shape are characterictics of the data,so they dont carry bracket\n",
    "\n",
    "​\n",
    "Sampoo.describe() is a function and you can manipulate it. \n",
    "​\n",
    "We smoothen our time series using the moving average\n",
    "​\n",
    "it uses the rolling function to achieve it\n",
    "\n",
    "​\n",
    "for e.g you choose 5 windows, ti will find the average of the 5 and plot the average as the point so as to have a smoother time series.\n",
    "\n",
    "​\n",
    "shift () shift the index by desired number  using the base line model. base model is an initial model, when we now access other models we can now choose to accept it or reject it.\n",
    "\n",
    "​\n",
    "We concatinate ie combine \n",
    "\n",
    "​\n",
    "THe drop any function is temporary, if you want it to be permament, you need to put inplace=True else if you run the code again ,it will return to the old code.\n",
    "\n",
    "​\n",
    "we now import the mean square metrics to calculate the error\n",
    "​\n",
    "We will implement the square root to give us our error\n",
    "\n",
    "​\n",
    "Auto regressive intergrated moving average (ARIMA)\n",
    "\n",
    "​\n",
    "ACF : Auto regression\n",
    "\n",
    "​\n",
    "PCAF  : Moving Average\n",
    "intergrated \n",
    "\n",
    "p auto regression\n",
    "\n",
    "d is the degree of differential\n",
    "\n",
    "​\n",
    "Moving average is the auto correllation\n",
    "in a situation you dont know the pvalue to use , you can use a range 0-5 ,6-10 and you put it in a loop.\n",
    "\n",
    "A baseline model is essentially a simple model that acts as a reference in a machine learning project.\n",
    "Its main function is to contextualize the results of trained models. Baseline models usually lack complexity and may have little predictive power. Regardless, their inclusion is a necessity for many reasons\n",
    "\n",
    "The CONCAT function combines the text from multiple ranges and/or strings, but it doesn't provide delimiter or IgnoreEmpty arguments. CONCAT replaces the CONCATENATE function. However, the CONCATENATE function will stay available for compatibility with earlier versions of Excel.\n",
    "\n"
   ]
  },
  {
   "cell_type": "markdown",
   "id": "4626a0aa-3e59-4874-b4ae-8adcd627c8bf",
   "metadata": {},
   "source": [
    "We will be looking at the new dataset for forecasting and analyzing it within the python.\n",
    "we use pandas for the import of dataset\n",
    "we use matplotlib.pyplot to plot the data\n",
    "we use %matplotlib inline for graphiics like line chart within the command language.\n",
    "\n",
    "The %matplotlib inline enables “inline plotting”, where plotted graphics appear in your notebook. Suppose we want to draw a simple line graph using the following code. The code works fine, but it doesn't show the line graph inline with the code"
   ]
  },
  {
   "cell_type": "markdown",
   "id": "a0a23239-270d-426e-a753-3959724dc368",
   "metadata": {},
   "source": [
    "##### import necessary libraries"
   ]
  },
  {
   "cell_type": "code",
   "execution_count": 1,
   "id": "d1d485c2-4b96-42ba-8402-b2c63496d1c8",
   "metadata": {},
   "outputs": [],
   "source": [
    "import pandas as pd\n",
    "import matplotlib.pyplot as plt\n",
    "%matplotlib inline"
   ]
  },
  {
   "cell_type": "code",
   "execution_count": 2,
   "id": "a46f9bd5-cd12-479f-91e0-fc427e9e293c",
   "metadata": {},
   "outputs": [],
   "source": [
    "shampoo = pd.read_csv(\"C:\\\\Users\\\\user\\\\Downloads\\\\Shampoo.csv\")"
   ]
  },
  {
   "cell_type": "code",
   "execution_count": 3,
   "id": "a1eab2c2-0536-497d-8853-622279332961",
   "metadata": {},
   "outputs": [
    {
     "data": {
      "text/html": [
       "<div>\n",
       "<style scoped>\n",
       "    .dataframe tbody tr th:only-of-type {\n",
       "        vertical-align: middle;\n",
       "    }\n",
       "\n",
       "    .dataframe tbody tr th {\n",
       "        vertical-align: top;\n",
       "    }\n",
       "\n",
       "    .dataframe thead th {\n",
       "        text-align: right;\n",
       "    }\n",
       "</style>\n",
       "<table border=\"1\" class=\"dataframe\">\n",
       "  <thead>\n",
       "    <tr style=\"text-align: right;\">\n",
       "      <th></th>\n",
       "      <th>Month</th>\n",
       "      <th>Sales</th>\n",
       "    </tr>\n",
       "  </thead>\n",
       "  <tbody>\n",
       "    <tr>\n",
       "      <th>0</th>\n",
       "      <td>1-01</td>\n",
       "      <td>266.0</td>\n",
       "    </tr>\n",
       "    <tr>\n",
       "      <th>1</th>\n",
       "      <td>1-02</td>\n",
       "      <td>145.9</td>\n",
       "    </tr>\n",
       "    <tr>\n",
       "      <th>2</th>\n",
       "      <td>1-03</td>\n",
       "      <td>183.1</td>\n",
       "    </tr>\n",
       "    <tr>\n",
       "      <th>3</th>\n",
       "      <td>1-04</td>\n",
       "      <td>119.3</td>\n",
       "    </tr>\n",
       "    <tr>\n",
       "      <th>4</th>\n",
       "      <td>1-05</td>\n",
       "      <td>180.3</td>\n",
       "    </tr>\n",
       "  </tbody>\n",
       "</table>\n",
       "</div>"
      ],
      "text/plain": [
       "  Month  Sales\n",
       "0  1-01  266.0\n",
       "1  1-02  145.9\n",
       "2  1-03  183.1\n",
       "3  1-04  119.3\n",
       "4  1-05  180.3"
      ]
     },
     "execution_count": 3,
     "metadata": {},
     "output_type": "execute_result"
    }
   ],
   "source": [
    "shampoo.head()"
   ]
  },
  {
   "cell_type": "code",
   "execution_count": 4,
   "id": "d3f99bb5-27d1-4659-9894-f440729d0efe",
   "metadata": {},
   "outputs": [
    {
     "data": {
      "text/plain": [
       "pandas.core.frame.DataFrame"
      ]
     },
     "execution_count": 4,
     "metadata": {},
     "output_type": "execute_result"
    }
   ],
   "source": [
    "type(shampoo)"
   ]
  },
  {
   "cell_type": "markdown",
   "id": "f8da0e21-f136-440c-8a16-1a2b26c637d9",
   "metadata": {},
   "source": [
    "How you can import a csv file as a time series dataset? To check your knowledge on data manipulation process.\n",
    "\n",
    "first, we need to keep our index as month because once we do that, we can do a better manipulation of the data, lets say you want to saerch for only  month two , we first do month 1, 01 , month 2 ,02 and we continuue to th last month, but we can do a better manipulation if we have the months through the index.\n",
    "\n",
    "we need to make suer this is going into series instead of data frame\n",
    "so after passing the pd.file we include ,index_col=[0],parse_dates=True ( we are specifying that there is a date column and we want it to be a property, and then the imported  parameter which will convert it into the time series  squeeze=True, by default is false but i want it to be true\n",
    "If you want to see all the parameters , just press shift+ tab tab"
   ]
  },
  {
   "cell_type": "code",
   "execution_count": 5,
   "id": "e3818eed-9afd-49f6-ada5-a7328d740e1e",
   "metadata": {},
   "outputs": [],
   "source": [
    "shampoo = pd.read_csv(\"C:\\\\Users\\\\user\\\\Downloads\\\\Shampoo.csv\",index_col=[0],parse_dates=True,squeeze=True)"
   ]
  },
  {
   "cell_type": "code",
   "execution_count": 6,
   "id": "1db0df1f-479b-4678-9adc-9e864957c571",
   "metadata": {},
   "outputs": [
    {
     "data": {
      "text/plain": [
       "pandas.core.series.Series"
      ]
     },
     "execution_count": 6,
     "metadata": {},
     "output_type": "execute_result"
    }
   ],
   "source": [
    "type(shampoo)"
   ]
  },
  {
   "cell_type": "markdown",
   "id": "9e196a3f-f1ce-4c9e-ad3a-08150d51ad56",
   "metadata": {},
   "source": [
    "Now it is pandas series instead of dataframe.\n",
    "\n",
    "+ Interview question when you are importing dataframe how you can convert it to time series"
   ]
  },
  {
   "cell_type": "markdown",
   "id": "77d47f4b-e0f9-4f6b-bf1d-0816470ba2f7",
   "metadata": {},
   "source": [
    "+ Next, is how to plot the data"
   ]
  },
  {
   "cell_type": "code",
   "execution_count": 7,
   "id": "903a4333-f20d-4869-b0f8-e8f021c76a50",
   "metadata": {},
   "outputs": [
    {
     "data": {
      "text/plain": [
       "<AxesSubplot:xlabel='Month'>"
      ]
     },
     "execution_count": 7,
     "metadata": {},
     "output_type": "execute_result"
    },
    {
     "data": {
      "image/png": "[encoded data removed]",
      "text/plain": [
       "<Figure size 432x288 with 1 Axes>"
      ]
     },
     "metadata": {
      "needs_background": "light"
     },
     "output_type": "display_data"
    }
   ],
   "source": [
    "shampoo.plot()"
   ]
  },
  {
   "cell_type": "markdown",
   "id": "167df61a-4999-4d98-a8b6-21962230711b",
   "metadata": {},
   "source": [
    "is a clear variation that a trend is present.\n",
    "You can as well decide to show just the lines with dot or circles use shampoo.plot(style = 'k.')\n",
    "sometimes, the dot representation is an easier one an sometimes the line representation is. But here we didint specify the parameters"
   ]
  },
  {
   "cell_type": "code",
   "execution_count": 8,
   "id": "32656bda-f186-4223-83b0-398483cb1a18",
   "metadata": {},
   "outputs": [
    {
     "data": {
      "text/plain": [
       "<AxesSubplot:xlabel='Month'>"
      ]
     },
     "execution_count": 8,
     "metadata": {},
     "output_type": "execute_result"
    },
    {
     "data": {
      "image/png": "[encoded data removed]",
      "text/plain": [
       "<Figure size 432x288 with 1 Axes>"
      ]
     },
     "metadata": {
      "needs_background": "light"
     },
     "output_type": "display_data"
    }
   ],
   "source": [
    "shampoo.plot(style = 'k.')"
   ]
  },
  {
   "cell_type": "code",
   "execution_count": 9,
   "id": "3fe75211-b9bd-45eb-b150-d3f1a4c1ab0d",
   "metadata": {},
   "outputs": [
    {
     "data": {
      "text/plain": [
       "36"
      ]
     },
     "execution_count": 9,
     "metadata": {},
     "output_type": "execute_result"
    }
   ],
   "source": [
    "# To find out how many datpoints it has\n",
    "shampoo.size"
   ]
  },
  {
   "cell_type": "code",
   "execution_count": 10,
   "id": "7b7f1e1d-84e3-49fa-b20d-82deaaf2e8c2",
   "metadata": {},
   "outputs": [
    {
     "data": {
      "text/plain": [
       "count     36.000000\n",
       "mean     312.600000\n",
       "std      148.937164\n",
       "min      119.300000\n",
       "25%      192.450000\n",
       "50%      280.150000\n",
       "75%      411.100000\n",
       "max      682.000000\n",
       "Name: Sales, dtype: float64"
      ]
     },
     "execution_count": 10,
     "metadata": {},
     "output_type": "execute_result"
    }
   ],
   "source": [
    "# use describe function to find out the statistics of the data point\n",
    "shampoo.describe()"
   ]
  },
  {
   "cell_type": "markdown",
   "id": "a4d57042-dc77-4dd2-bb3e-32c3b3126eff",
   "metadata": {},
   "source": [
    "describe () is a method but shamoo.size is a property\n",
    "\n",
    "Interview Question\n",
    "What is the difference betww\\een mean and median?\n",
    "mean is taking all the value and dividing by th ecount of value \n",
    "median is the middle value or 50% in an ordered list, first you need to put evert thing in an order, It should be an ordered list.\n",
    "\n",
    "The mean (average) of a data set is found by adding all numbers in the data set and then dividing by the number of values in the set. The median is the middle value when a data set is ordered from least to greatest. The mode is the number that occurs most often in a data set."
   ]
  },
  {
   "cell_type": "markdown",
   "id": "67925656-3585-4bf4-ba70-0cbce58c144f",
   "metadata": {},
   "source": [
    "+ Interview question: In which scenario will you use mean or median\n",
    "\n",
    "\n",
    "It’s best to use the mean to describe the center of a dataset when the distribution is mostly symmetrical and there are no outliers.\n",
    "\n",
    "When the data are skewed, the median is more useful because the mean will be distorted by outliers.”"
   ]
  },
  {
   "cell_type": "markdown",
   "id": "8ba11ebb-03f6-46ca-949c-965f07888e8b",
   "metadata": {},
   "source": [
    "Both the mean and the median can be used to describe where the “center” of a dataset is located.\n",
    "\n",
    "It’s best to use the mean when the distribution of the data values is symmetrical and there are no clear outliers.\n",
    "\n",
    "It’s best to use the median when the the distribution of data values is skewed or when there are clear outliers."
   ]
  },
  {
   "cell_type": "markdown",
   "id": "b5266cc2-c5d5-49e3-957e-712278583072",
   "metadata": {},
   "source": [
    "Mode is the most distributed value in the column.\n",
    "These are measures of central tendency in statistics."
   ]
  },
  {
   "cell_type": "markdown",
   "id": "06aea151-52a1-4a40-b6cf-3e2dd058ca50",
   "metadata": {},
   "source": [
    "Next is smothing of time series , which means calculating the moving average.\n",
    "\n",
    "window = means how many days moving average do you want to use ,5 or 6 days moving average , here we will use 10"
   ]
  },
  {
   "cell_type": "code",
   "execution_count": 11,
   "id": "c05fec28-b1b1-4f31-9b51-babd1673d231",
   "metadata": {},
   "outputs": [],
   "source": [
    "# Create a moving average\n",
    "shampoo_ma = shampoo.rolling(window=10).mean()"
   ]
  },
  {
   "cell_type": "code",
   "execution_count": 12,
   "id": "2ebff684-bcc5-4cc7-8862-9b8d86fabd36",
   "metadata": {},
   "outputs": [
    {
     "data": {
      "text/plain": [
       "<AxesSubplot:xlabel='Month'>"
      ]
     },
     "execution_count": 12,
     "metadata": {},
     "output_type": "execute_result"
    },
    {
     "data": {
      "image/png": "[encoded data removed]",
      "text/plain": [
       "<Figure size 432x288 with 1 Axes>"
      ]
     },
     "metadata": {
      "needs_background": "light"
     },
     "output_type": "display_data"
    }
   ],
   "source": [
    "shampoo_ma.plot()"
   ]
  },
  {
   "cell_type": "markdown",
   "id": "f9c849a3-0c56-493a-a9e1-91dd7497fe6f",
   "metadata": {},
   "source": [
    "Some of the values have gone we used 10 , the values started from 10, 11, 12 ,13 etc.\n",
    "This a very smooth as compared to the first one.\n",
    "So if it is not very clear, you can use the moving average.\n",
    "\n",
    "This is highly used in the stock market analysis and some business studies\n",
    "\n",
    "+ Interview question : How can you create a moving average? \n",
    "what is the down side of having a large window side and what is standard window sidze to create"
   ]
  },
  {
   "cell_type": "markdown",
   "id": "763835f7-8831-4935-acb7-885a8ef574f7",
   "metadata": {},
   "source": [
    "Next, we create a base line model\n",
    "Interview qestion: what is a base line model or naive or starting model or initial model?\n",
    "They are all command lines\n",
    "\n",
    "This means defining your base line\n",
    "It means below this , if there is any model just remove it.\n",
    "\n",
    "The assumption behind it is that the previous value is the best reflector of the next value.\n",
    "\n",
    "so for 266, 1-02 ie 2nd jan, the best predictor or reflector of the naive or base model is the previous value, so for second , it will be 266 , for 3rd jan ,it will be 145 and for 4th jan  it will be 183.1.\n",
    "\n",
    "What it basically assumes is that the previous values are related to the current values.\n",
    "What we have observed on the last day is going to reflect in the current ,even some more variation. with this assumption into the time series , we go ahead and create the naive or baseline"
   ]
  },
  {
   "cell_type": "code",
   "execution_count": 13,
   "id": "38c9bfe1-6515-432c-930e-cf313b97df93",
   "metadata": {},
   "outputs": [
    {
     "data": {
      "text/plain": [
       "Month\n",
       "1-01    266.0\n",
       "1-02    145.9\n",
       "1-03    183.1\n",
       "1-04    119.3\n",
       "1-05    180.3\n",
       "1-06    168.5\n",
       "1-07    231.8\n",
       "1-08    224.5\n",
       "1-09    192.8\n",
       "1-10    122.9\n",
       "1-11    336.5\n",
       "1-12    185.9\n",
       "2-01    194.3\n",
       "2-02    149.5\n",
       "2-03    210.1\n",
       "2-04    273.3\n",
       "2-05    191.4\n",
       "2-06    287.0\n",
       "2-07    226.0\n",
       "2-08    303.6\n",
       "2-09    289.9\n",
       "2-10    421.6\n",
       "2-11    264.5\n",
       "2-12    342.3\n",
       "3-01    339.7\n",
       "3-02    440.4\n",
       "3-03    315.9\n",
       "3-04    439.3\n",
       "3-05    401.3\n",
       "3-06    437.4\n",
       "3-07    575.5\n",
       "3-08    407.6\n",
       "3-09    682.0\n",
       "3-10    475.3\n",
       "3-11    581.3\n",
       "3-12    646.9\n",
       "Name: Sales, dtype: float64"
      ]
     },
     "execution_count": 13,
     "metadata": {},
     "output_type": "execute_result"
    }
   ],
   "source": [
    "shampoo"
   ]
  },
  {
   "cell_type": "markdown",
   "id": "1a059eac-277c-4d06-b2d4-93acfa90dcb1",
   "metadata": {},
   "source": [
    "To create the baseline, we will be using the shift method , this is because the shift method helps to shift the datapoint down\n",
    "We will be using the concat method to do this , because we are not going to creat a seperate column all together rather we will contatinate ie to create a multiple dataset.\n",
    "\n",
    "shampe,shamppp.shift(1) ,axis=1 , means to put the shift down by 1"
   ]
  },
  {
   "cell_type": "code",
   "execution_count": 14,
   "id": "e65e9806-5455-40ab-9d38-6f1394afb5bd",
   "metadata": {},
   "outputs": [],
   "source": [
    "shampoo_base = pd.concat([shampoo,shampoo.shift(1)],axis=1)"
   ]
  },
  {
   "cell_type": "code",
   "execution_count": 15,
   "id": "719c36fc-cc44-4489-9bb5-51ec057317dd",
   "metadata": {},
   "outputs": [
    {
     "data": {
      "text/html": [
       "<div>\n",
       "<style scoped>\n",
       "    .dataframe tbody tr th:only-of-type {\n",
       "        vertical-align: middle;\n",
       "    }\n",
       "\n",
       "    .dataframe tbody tr th {\n",
       "        vertical-align: top;\n",
       "    }\n",
       "\n",
       "    .dataframe thead th {\n",
       "        text-align: right;\n",
       "    }\n",
       "</style>\n",
       "<table border=\"1\" class=\"dataframe\">\n",
       "  <thead>\n",
       "    <tr style=\"text-align: right;\">\n",
       "      <th></th>\n",
       "      <th>Sales</th>\n",
       "      <th>Sales</th>\n",
       "    </tr>\n",
       "    <tr>\n",
       "      <th>Month</th>\n",
       "      <th></th>\n",
       "      <th></th>\n",
       "    </tr>\n",
       "  </thead>\n",
       "  <tbody>\n",
       "    <tr>\n",
       "      <th>1-01</th>\n",
       "      <td>266.0</td>\n",
       "      <td>NaN</td>\n",
       "    </tr>\n",
       "    <tr>\n",
       "      <th>1-02</th>\n",
       "      <td>145.9</td>\n",
       "      <td>266.0</td>\n",
       "    </tr>\n",
       "    <tr>\n",
       "      <th>1-03</th>\n",
       "      <td>183.1</td>\n",
       "      <td>145.9</td>\n",
       "    </tr>\n",
       "    <tr>\n",
       "      <th>1-04</th>\n",
       "      <td>119.3</td>\n",
       "      <td>183.1</td>\n",
       "    </tr>\n",
       "    <tr>\n",
       "      <th>1-05</th>\n",
       "      <td>180.3</td>\n",
       "      <td>119.3</td>\n",
       "    </tr>\n",
       "    <tr>\n",
       "      <th>1-06</th>\n",
       "      <td>168.5</td>\n",
       "      <td>180.3</td>\n",
       "    </tr>\n",
       "    <tr>\n",
       "      <th>1-07</th>\n",
       "      <td>231.8</td>\n",
       "      <td>168.5</td>\n",
       "    </tr>\n",
       "    <tr>\n",
       "      <th>1-08</th>\n",
       "      <td>224.5</td>\n",
       "      <td>231.8</td>\n",
       "    </tr>\n",
       "    <tr>\n",
       "      <th>1-09</th>\n",
       "      <td>192.8</td>\n",
       "      <td>224.5</td>\n",
       "    </tr>\n",
       "    <tr>\n",
       "      <th>1-10</th>\n",
       "      <td>122.9</td>\n",
       "      <td>192.8</td>\n",
       "    </tr>\n",
       "    <tr>\n",
       "      <th>1-11</th>\n",
       "      <td>336.5</td>\n",
       "      <td>122.9</td>\n",
       "    </tr>\n",
       "    <tr>\n",
       "      <th>1-12</th>\n",
       "      <td>185.9</td>\n",
       "      <td>336.5</td>\n",
       "    </tr>\n",
       "    <tr>\n",
       "      <th>2-01</th>\n",
       "      <td>194.3</td>\n",
       "      <td>185.9</td>\n",
       "    </tr>\n",
       "    <tr>\n",
       "      <th>2-02</th>\n",
       "      <td>149.5</td>\n",
       "      <td>194.3</td>\n",
       "    </tr>\n",
       "    <tr>\n",
       "      <th>2-03</th>\n",
       "      <td>210.1</td>\n",
       "      <td>149.5</td>\n",
       "    </tr>\n",
       "    <tr>\n",
       "      <th>2-04</th>\n",
       "      <td>273.3</td>\n",
       "      <td>210.1</td>\n",
       "    </tr>\n",
       "    <tr>\n",
       "      <th>2-05</th>\n",
       "      <td>191.4</td>\n",
       "      <td>273.3</td>\n",
       "    </tr>\n",
       "    <tr>\n",
       "      <th>2-06</th>\n",
       "      <td>287.0</td>\n",
       "      <td>191.4</td>\n",
       "    </tr>\n",
       "    <tr>\n",
       "      <th>2-07</th>\n",
       "      <td>226.0</td>\n",
       "      <td>287.0</td>\n",
       "    </tr>\n",
       "    <tr>\n",
       "      <th>2-08</th>\n",
       "      <td>303.6</td>\n",
       "      <td>226.0</td>\n",
       "    </tr>\n",
       "    <tr>\n",
       "      <th>2-09</th>\n",
       "      <td>289.9</td>\n",
       "      <td>303.6</td>\n",
       "    </tr>\n",
       "    <tr>\n",
       "      <th>2-10</th>\n",
       "      <td>421.6</td>\n",
       "      <td>289.9</td>\n",
       "    </tr>\n",
       "    <tr>\n",
       "      <th>2-11</th>\n",
       "      <td>264.5</td>\n",
       "      <td>421.6</td>\n",
       "    </tr>\n",
       "    <tr>\n",
       "      <th>2-12</th>\n",
       "      <td>342.3</td>\n",
       "      <td>264.5</td>\n",
       "    </tr>\n",
       "    <tr>\n",
       "      <th>3-01</th>\n",
       "      <td>339.7</td>\n",
       "      <td>342.3</td>\n",
       "    </tr>\n",
       "    <tr>\n",
       "      <th>3-02</th>\n",
       "      <td>440.4</td>\n",
       "      <td>339.7</td>\n",
       "    </tr>\n",
       "    <tr>\n",
       "      <th>3-03</th>\n",
       "      <td>315.9</td>\n",
       "      <td>440.4</td>\n",
       "    </tr>\n",
       "    <tr>\n",
       "      <th>3-04</th>\n",
       "      <td>439.3</td>\n",
       "      <td>315.9</td>\n",
       "    </tr>\n",
       "    <tr>\n",
       "      <th>3-05</th>\n",
       "      <td>401.3</td>\n",
       "      <td>439.3</td>\n",
       "    </tr>\n",
       "    <tr>\n",
       "      <th>3-06</th>\n",
       "      <td>437.4</td>\n",
       "      <td>401.3</td>\n",
       "    </tr>\n",
       "    <tr>\n",
       "      <th>3-07</th>\n",
       "      <td>575.5</td>\n",
       "      <td>437.4</td>\n",
       "    </tr>\n",
       "    <tr>\n",
       "      <th>3-08</th>\n",
       "      <td>407.6</td>\n",
       "      <td>575.5</td>\n",
       "    </tr>\n",
       "    <tr>\n",
       "      <th>3-09</th>\n",
       "      <td>682.0</td>\n",
       "      <td>407.6</td>\n",
       "    </tr>\n",
       "    <tr>\n",
       "      <th>3-10</th>\n",
       "      <td>475.3</td>\n",
       "      <td>682.0</td>\n",
       "    </tr>\n",
       "    <tr>\n",
       "      <th>3-11</th>\n",
       "      <td>581.3</td>\n",
       "      <td>475.3</td>\n",
       "    </tr>\n",
       "    <tr>\n",
       "      <th>3-12</th>\n",
       "      <td>646.9</td>\n",
       "      <td>581.3</td>\n",
       "    </tr>\n",
       "  </tbody>\n",
       "</table>\n",
       "</div>"
      ],
      "text/plain": [
       "       Sales  Sales\n",
       "Month              \n",
       "1-01   266.0    NaN\n",
       "1-02   145.9  266.0\n",
       "1-03   183.1  145.9\n",
       "1-04   119.3  183.1\n",
       "1-05   180.3  119.3\n",
       "1-06   168.5  180.3\n",
       "1-07   231.8  168.5\n",
       "1-08   224.5  231.8\n",
       "1-09   192.8  224.5\n",
       "1-10   122.9  192.8\n",
       "1-11   336.5  122.9\n",
       "1-12   185.9  336.5\n",
       "2-01   194.3  185.9\n",
       "2-02   149.5  194.3\n",
       "2-03   210.1  149.5\n",
       "2-04   273.3  210.1\n",
       "2-05   191.4  273.3\n",
       "2-06   287.0  191.4\n",
       "2-07   226.0  287.0\n",
       "2-08   303.6  226.0\n",
       "2-09   289.9  303.6\n",
       "2-10   421.6  289.9\n",
       "2-11   264.5  421.6\n",
       "2-12   342.3  264.5\n",
       "3-01   339.7  342.3\n",
       "3-02   440.4  339.7\n",
       "3-03   315.9  440.4\n",
       "3-04   439.3  315.9\n",
       "3-05   401.3  439.3\n",
       "3-06   437.4  401.3\n",
       "3-07   575.5  437.4\n",
       "3-08   407.6  575.5\n",
       "3-09   682.0  407.6\n",
       "3-10   475.3  682.0\n",
       "3-11   581.3  475.3\n",
       "3-12   646.9  581.3"
      ]
     },
     "execution_count": 15,
     "metadata": {},
     "output_type": "execute_result"
    }
   ],
   "source": [
    "shampoo_base"
   ]
  },
  {
   "cell_type": "markdown",
   "id": "edaf1136-c797-4d0b-a33d-5a4f13798291",
   "metadata": {},
   "source": [
    "The strcture of our naive or base line is created\n",
    "Now we will need to remove the nan value because if we dont ,it will give an error when we evaluate the error matric but before that we will need to give a name to the two columns.\n",
    "\n",
    "We will need to rename the columns\n",
    "\n",
    "+ INTERVIEW QUESTION\n",
    "How do you rename the column\n",
    "data manipulation techniques"
   ]
  },
  {
   "cell_type": "code",
   "execution_count": 16,
   "id": "0dd9fe65-76fe-4bd7-a293-d8dcf4886d14",
   "metadata": {},
   "outputs": [
    {
     "data": {
      "text/plain": [
       "Index(['Sales', 'Sales'], dtype='object')"
      ]
     },
     "execution_count": 16,
     "metadata": {},
     "output_type": "execute_result"
    }
   ],
   "source": [
    "shampoo_base.columns"
   ]
  },
  {
   "cell_type": "markdown",
   "id": "61847861-fa37-4d6d-bae0-1c3189a9cebe",
   "metadata": {},
   "source": [
    "We wil be using the same methodology above, we will just specify the new names we got as output"
   ]
  },
  {
   "cell_type": "code",
   "execution_count": 18,
   "id": "8a4f1a0f-3ba6-4a3c-8be4-ba4037892578",
   "metadata": {},
   "outputs": [],
   "source": [
    "#To rename the columns\n",
    "shampoo_base.columns = ['Actual_sales', 'Forecast_sales']"
   ]
  },
  {
   "cell_type": "code",
   "execution_count": 19,
   "id": "8b70b464-1f6e-408f-95ef-373dd79fc6fd",
   "metadata": {},
   "outputs": [
    {
     "data": {
      "text/html": [
       "<div>\n",
       "<style scoped>\n",
       "    .dataframe tbody tr th:only-of-type {\n",
       "        vertical-align: middle;\n",
       "    }\n",
       "\n",
       "    .dataframe tbody tr th {\n",
       "        vertical-align: top;\n",
       "    }\n",
       "\n",
       "    .dataframe thead th {\n",
       "        text-align: right;\n",
       "    }\n",
       "</style>\n",
       "<table border=\"1\" class=\"dataframe\">\n",
       "  <thead>\n",
       "    <tr style=\"text-align: right;\">\n",
       "      <th></th>\n",
       "      <th>Actual_sales</th>\n",
       "      <th>Forecast_sales</th>\n",
       "    </tr>\n",
       "    <tr>\n",
       "      <th>Month</th>\n",
       "      <th></th>\n",
       "      <th></th>\n",
       "    </tr>\n",
       "  </thead>\n",
       "  <tbody>\n",
       "    <tr>\n",
       "      <th>1-01</th>\n",
       "      <td>266.0</td>\n",
       "      <td>NaN</td>\n",
       "    </tr>\n",
       "    <tr>\n",
       "      <th>1-02</th>\n",
       "      <td>145.9</td>\n",
       "      <td>266.0</td>\n",
       "    </tr>\n",
       "    <tr>\n",
       "      <th>1-03</th>\n",
       "      <td>183.1</td>\n",
       "      <td>145.9</td>\n",
       "    </tr>\n",
       "    <tr>\n",
       "      <th>1-04</th>\n",
       "      <td>119.3</td>\n",
       "      <td>183.1</td>\n",
       "    </tr>\n",
       "    <tr>\n",
       "      <th>1-05</th>\n",
       "      <td>180.3</td>\n",
       "      <td>119.3</td>\n",
       "    </tr>\n",
       "  </tbody>\n",
       "</table>\n",
       "</div>"
      ],
      "text/plain": [
       "       Actual_sales  Forecast_sales\n",
       "Month                              \n",
       "1-01          266.0             NaN\n",
       "1-02          145.9           266.0\n",
       "1-03          183.1           145.9\n",
       "1-04          119.3           183.1\n",
       "1-05          180.3           119.3"
      ]
     },
     "execution_count": 19,
     "metadata": {},
     "output_type": "execute_result"
    }
   ],
   "source": [
    "shampoo_base.head()"
   ]
  },
  {
   "cell_type": "code",
   "execution_count": 20,
   "id": "e3a5b1b5-0381-411a-9f99-1d6202566a5a",
   "metadata": {},
   "outputs": [],
   "source": [
    "#Drop the NaN value\n",
    "# if you use this the NaN value will drop but when \n",
    "# you chech with shampp_base you will notice that the\n",
    "# missing value have come back\n",
    "#shampoo_base.dropna()"
   ]
  },
  {
   "cell_type": "code",
   "execution_count": 21,
   "id": "23fa1605-37da-49d0-b3e1-e2daa09e533c",
   "metadata": {},
   "outputs": [],
   "source": [
    "#shampoo_base"
   ]
  },
  {
   "cell_type": "code",
   "execution_count": 22,
   "id": "c244b38e-e940-4a25-880a-523ac466bb89",
   "metadata": {},
   "outputs": [],
   "source": [
    "# So what you need so as to remove the NaN value parmanently is dropna(inplace =True)\n",
    "# this saves your data\n",
    "shampoo_base.dropna(inplace=True)"
   ]
  },
  {
   "cell_type": "code",
   "execution_count": 23,
   "id": "6fb08ffc-bfb7-407c-83f8-d69b9acb61ed",
   "metadata": {},
   "outputs": [
    {
     "data": {
      "text/html": [
       "<div>\n",
       "<style scoped>\n",
       "    .dataframe tbody tr th:only-of-type {\n",
       "        vertical-align: middle;\n",
       "    }\n",
       "\n",
       "    .dataframe tbody tr th {\n",
       "        vertical-align: top;\n",
       "    }\n",
       "\n",
       "    .dataframe thead th {\n",
       "        text-align: right;\n",
       "    }\n",
       "</style>\n",
       "<table border=\"1\" class=\"dataframe\">\n",
       "  <thead>\n",
       "    <tr style=\"text-align: right;\">\n",
       "      <th></th>\n",
       "      <th>Actual_sales</th>\n",
       "      <th>Forecast_sales</th>\n",
       "    </tr>\n",
       "    <tr>\n",
       "      <th>Month</th>\n",
       "      <th></th>\n",
       "      <th></th>\n",
       "    </tr>\n",
       "  </thead>\n",
       "  <tbody>\n",
       "    <tr>\n",
       "      <th>1-02</th>\n",
       "      <td>145.9</td>\n",
       "      <td>266.0</td>\n",
       "    </tr>\n",
       "    <tr>\n",
       "      <th>1-03</th>\n",
       "      <td>183.1</td>\n",
       "      <td>145.9</td>\n",
       "    </tr>\n",
       "    <tr>\n",
       "      <th>1-04</th>\n",
       "      <td>119.3</td>\n",
       "      <td>183.1</td>\n",
       "    </tr>\n",
       "    <tr>\n",
       "      <th>1-05</th>\n",
       "      <td>180.3</td>\n",
       "      <td>119.3</td>\n",
       "    </tr>\n",
       "    <tr>\n",
       "      <th>1-06</th>\n",
       "      <td>168.5</td>\n",
       "      <td>180.3</td>\n",
       "    </tr>\n",
       "    <tr>\n",
       "      <th>1-07</th>\n",
       "      <td>231.8</td>\n",
       "      <td>168.5</td>\n",
       "    </tr>\n",
       "    <tr>\n",
       "      <th>1-08</th>\n",
       "      <td>224.5</td>\n",
       "      <td>231.8</td>\n",
       "    </tr>\n",
       "    <tr>\n",
       "      <th>1-09</th>\n",
       "      <td>192.8</td>\n",
       "      <td>224.5</td>\n",
       "    </tr>\n",
       "    <tr>\n",
       "      <th>1-10</th>\n",
       "      <td>122.9</td>\n",
       "      <td>192.8</td>\n",
       "    </tr>\n",
       "    <tr>\n",
       "      <th>1-11</th>\n",
       "      <td>336.5</td>\n",
       "      <td>122.9</td>\n",
       "    </tr>\n",
       "    <tr>\n",
       "      <th>1-12</th>\n",
       "      <td>185.9</td>\n",
       "      <td>336.5</td>\n",
       "    </tr>\n",
       "    <tr>\n",
       "      <th>2-01</th>\n",
       "      <td>194.3</td>\n",
       "      <td>185.9</td>\n",
       "    </tr>\n",
       "    <tr>\n",
       "      <th>2-02</th>\n",
       "      <td>149.5</td>\n",
       "      <td>194.3</td>\n",
       "    </tr>\n",
       "    <tr>\n",
       "      <th>2-03</th>\n",
       "      <td>210.1</td>\n",
       "      <td>149.5</td>\n",
       "    </tr>\n",
       "    <tr>\n",
       "      <th>2-04</th>\n",
       "      <td>273.3</td>\n",
       "      <td>210.1</td>\n",
       "    </tr>\n",
       "    <tr>\n",
       "      <th>2-05</th>\n",
       "      <td>191.4</td>\n",
       "      <td>273.3</td>\n",
       "    </tr>\n",
       "    <tr>\n",
       "      <th>2-06</th>\n",
       "      <td>287.0</td>\n",
       "      <td>191.4</td>\n",
       "    </tr>\n",
       "    <tr>\n",
       "      <th>2-07</th>\n",
       "      <td>226.0</td>\n",
       "      <td>287.0</td>\n",
       "    </tr>\n",
       "    <tr>\n",
       "      <th>2-08</th>\n",
       "      <td>303.6</td>\n",
       "      <td>226.0</td>\n",
       "    </tr>\n",
       "    <tr>\n",
       "      <th>2-09</th>\n",
       "      <td>289.9</td>\n",
       "      <td>303.6</td>\n",
       "    </tr>\n",
       "    <tr>\n",
       "      <th>2-10</th>\n",
       "      <td>421.6</td>\n",
       "      <td>289.9</td>\n",
       "    </tr>\n",
       "    <tr>\n",
       "      <th>2-11</th>\n",
       "      <td>264.5</td>\n",
       "      <td>421.6</td>\n",
       "    </tr>\n",
       "    <tr>\n",
       "      <th>2-12</th>\n",
       "      <td>342.3</td>\n",
       "      <td>264.5</td>\n",
       "    </tr>\n",
       "    <tr>\n",
       "      <th>3-01</th>\n",
       "      <td>339.7</td>\n",
       "      <td>342.3</td>\n",
       "    </tr>\n",
       "    <tr>\n",
       "      <th>3-02</th>\n",
       "      <td>440.4</td>\n",
       "      <td>339.7</td>\n",
       "    </tr>\n",
       "    <tr>\n",
       "      <th>3-03</th>\n",
       "      <td>315.9</td>\n",
       "      <td>440.4</td>\n",
       "    </tr>\n",
       "    <tr>\n",
       "      <th>3-04</th>\n",
       "      <td>439.3</td>\n",
       "      <td>315.9</td>\n",
       "    </tr>\n",
       "    <tr>\n",
       "      <th>3-05</th>\n",
       "      <td>401.3</td>\n",
       "      <td>439.3</td>\n",
       "    </tr>\n",
       "    <tr>\n",
       "      <th>3-06</th>\n",
       "      <td>437.4</td>\n",
       "      <td>401.3</td>\n",
       "    </tr>\n",
       "    <tr>\n",
       "      <th>3-07</th>\n",
       "      <td>575.5</td>\n",
       "      <td>437.4</td>\n",
       "    </tr>\n",
       "    <tr>\n",
       "      <th>3-08</th>\n",
       "      <td>407.6</td>\n",
       "      <td>575.5</td>\n",
       "    </tr>\n",
       "    <tr>\n",
       "      <th>3-09</th>\n",
       "      <td>682.0</td>\n",
       "      <td>407.6</td>\n",
       "    </tr>\n",
       "    <tr>\n",
       "      <th>3-10</th>\n",
       "      <td>475.3</td>\n",
       "      <td>682.0</td>\n",
       "    </tr>\n",
       "    <tr>\n",
       "      <th>3-11</th>\n",
       "      <td>581.3</td>\n",
       "      <td>475.3</td>\n",
       "    </tr>\n",
       "    <tr>\n",
       "      <th>3-12</th>\n",
       "      <td>646.9</td>\n",
       "      <td>581.3</td>\n",
       "    </tr>\n",
       "  </tbody>\n",
       "</table>\n",
       "</div>"
      ],
      "text/plain": [
       "       Actual_sales  Forecast_sales\n",
       "Month                              \n",
       "1-02          145.9           266.0\n",
       "1-03          183.1           145.9\n",
       "1-04          119.3           183.1\n",
       "1-05          180.3           119.3\n",
       "1-06          168.5           180.3\n",
       "1-07          231.8           168.5\n",
       "1-08          224.5           231.8\n",
       "1-09          192.8           224.5\n",
       "1-10          122.9           192.8\n",
       "1-11          336.5           122.9\n",
       "1-12          185.9           336.5\n",
       "2-01          194.3           185.9\n",
       "2-02          149.5           194.3\n",
       "2-03          210.1           149.5\n",
       "2-04          273.3           210.1\n",
       "2-05          191.4           273.3\n",
       "2-06          287.0           191.4\n",
       "2-07          226.0           287.0\n",
       "2-08          303.6           226.0\n",
       "2-09          289.9           303.6\n",
       "2-10          421.6           289.9\n",
       "2-11          264.5           421.6\n",
       "2-12          342.3           264.5\n",
       "3-01          339.7           342.3\n",
       "3-02          440.4           339.7\n",
       "3-03          315.9           440.4\n",
       "3-04          439.3           315.9\n",
       "3-05          401.3           439.3\n",
       "3-06          437.4           401.3\n",
       "3-07          575.5           437.4\n",
       "3-08          407.6           575.5\n",
       "3-09          682.0           407.6\n",
       "3-10          475.3           682.0\n",
       "3-11          581.3           475.3\n",
       "3-12          646.9           581.3"
      ]
     },
     "execution_count": 23,
     "metadata": {},
     "output_type": "execute_result"
    }
   ],
   "source": [
    "shampoo_base"
   ]
  },
  {
   "cell_type": "code",
   "execution_count": 24,
   "id": "8863cc3b-dd31-4fc7-aade-88c287426bd3",
   "metadata": {},
   "outputs": [
    {
     "data": {
      "text/html": [
       "<div>\n",
       "<style scoped>\n",
       "    .dataframe tbody tr th:only-of-type {\n",
       "        vertical-align: middle;\n",
       "    }\n",
       "\n",
       "    .dataframe tbody tr th {\n",
       "        vertical-align: top;\n",
       "    }\n",
       "\n",
       "    .dataframe thead th {\n",
       "        text-align: right;\n",
       "    }\n",
       "</style>\n",
       "<table border=\"1\" class=\"dataframe\">\n",
       "  <thead>\n",
       "    <tr style=\"text-align: right;\">\n",
       "      <th></th>\n",
       "      <th>Actual_sales</th>\n",
       "      <th>Forecast_sales</th>\n",
       "    </tr>\n",
       "    <tr>\n",
       "      <th>Month</th>\n",
       "      <th></th>\n",
       "      <th></th>\n",
       "    </tr>\n",
       "  </thead>\n",
       "  <tbody>\n",
       "    <tr>\n",
       "      <th>1-02</th>\n",
       "      <td>145.9</td>\n",
       "      <td>266.0</td>\n",
       "    </tr>\n",
       "    <tr>\n",
       "      <th>1-03</th>\n",
       "      <td>183.1</td>\n",
       "      <td>145.9</td>\n",
       "    </tr>\n",
       "    <tr>\n",
       "      <th>1-04</th>\n",
       "      <td>119.3</td>\n",
       "      <td>183.1</td>\n",
       "    </tr>\n",
       "    <tr>\n",
       "      <th>1-05</th>\n",
       "      <td>180.3</td>\n",
       "      <td>119.3</td>\n",
       "    </tr>\n",
       "    <tr>\n",
       "      <th>1-06</th>\n",
       "      <td>168.5</td>\n",
       "      <td>180.3</td>\n",
       "    </tr>\n",
       "  </tbody>\n",
       "</table>\n",
       "</div>"
      ],
      "text/plain": [
       "       Actual_sales  Forecast_sales\n",
       "Month                              \n",
       "1-02          145.9           266.0\n",
       "1-03          183.1           145.9\n",
       "1-04          119.3           183.1\n",
       "1-05          180.3           119.3\n",
       "1-06          168.5           180.3"
      ]
     },
     "execution_count": 24,
     "metadata": {},
     "output_type": "execute_result"
    }
   ],
   "source": [
    "\n",
    "# check you can see it is not there again\n",
    "shampoo_base.head()"
   ]
  },
  {
   "cell_type": "code",
   "execution_count": null,
   "id": "e990403d-c105-49bd-9539-f3c31026e73d",
   "metadata": {},
   "outputs": [],
   "source": []
  },
  {
   "cell_type": "code",
   "execution_count": 32,
   "id": "b6ab6321-8481-4d6d-b82f-826d1b479eeb",
   "metadata": {},
   "outputs": [],
   "source": [
    "#lets import the mean squared error metrics and \n",
    "# numpy maths for the calculation of error \n",
    "#between the actual and forecast sales\n",
    "from sklearn.metrics import mean_squared_error\n",
    "import numpy as np"
   ]
  },
  {
   "cell_type": "markdown",
   "id": "e1b8ce9c-ee25-467b-b06d-a3f0acd8a31b",
   "metadata": {},
   "source": [
    "###### Note ,the mean squared error simply gives us mean squared error,the problem here is that our error metrcs will give us the mean squared erroe and because it is squared we cannot interprete it, so to remove it we use np.sqrt , the squareroot method which will keep it in the form similar to the value we are working with or in the same matrix system in which this value is been calculated"
   ]
  },
  {
   "cell_type": "code",
   "execution_count": 33,
   "id": "b42cc515-33c3-4be7-b2eb-8d32f129e42f",
   "metadata": {},
   "outputs": [],
   "source": [
    "shampoo_error = mean_squared_error(shampoo_base.Actual_sales,shampoo_base.Forecast_sales)"
   ]
  },
  {
   "cell_type": "code",
   "execution_count": 34,
   "id": "41fd74e1-4fec-449d-8607-af50219eea69",
   "metadata": {},
   "outputs": [
    {
     "data": {
      "text/plain": [
       "11715.388285714285"
      ]
     },
     "execution_count": 34,
     "metadata": {},
     "output_type": "execute_result"
    }
   ],
   "source": [
    "shampoo_error"
   ]
  },
  {
   "cell_type": "markdown",
   "id": "967740bb-cb63-4074-8fe0-12f78a9e6fff",
   "metadata": {},
   "source": [
    "The value 11715 is not in any where related to the matrix system the dataset we have follows, thus what we need is np.sqrt(shampoo_error) so as to be able to relate it with the dataset we have."
   ]
  },
  {
   "cell_type": "code",
   "execution_count": 36,
   "id": "e66e0485-646e-4889-bfeb-10d33b76f2f8",
   "metadata": {},
   "outputs": [
    {
     "data": {
      "text/plain": [
       "108.23764726616282"
      ]
     },
     "execution_count": 36,
     "metadata": {},
     "output_type": "execute_result"
    }
   ],
   "source": [
    "np.sqrt(shampoo_error)"
   ]
  },
  {
   "cell_type": "markdown",
   "id": "9d8d189d-b21d-4d38-927b-dc94fa6a4516",
   "metadata": {},
   "source": [
    "We can create different types of mode , for example, we have \n",
    "\n",
    "+ Moving Average model\n",
    "\n",
    "+ Auto regressive model\n",
    "\n",
    "+ There is differencing you can do to make the series stationary\n",
    "\n",
    "But at the end of the day most of the practitioners basically use the ARIMA method , which is 'AUTO REGRESSIVE INTERGRATED MOVING AVERAGE'\n",
    "\n",
    "It is auto intensive\n",
    "is intergrated \n",
    "it is moving average\n",
    "\n",
    "All of thes is part of one single model\n",
    "\n",
    "+ How to create Auto regressive model using ARIMA\n",
    "\n",
    "All you need do is to specify the term or the parameter , for example you have \n",
    "ARIMA(p,d,q) , parameter p is auto regressive.\n",
    "\n",
    "Lets say we have the model\n",
    "ARIMA(0,0,2)\n",
    "\n",
    "So you can create the ARIMA or the moving average or auto regressivr or  a combination of every thing.\n",
    "\n",
    "Hence, we need to calculate the auto regressive and the moving average by having the ACF and the PACF.\n",
    "\n",
    "Note, PACF is used to evaluate the parameter for p, which is auto regressive\n",
    "\n",
    "ACF is for moving Average\n"
   ]
  },
  {
   "cell_type": "code",
   "execution_count": 37,
   "id": "29a15f17-c148-4004-9db5-7e6c459543d8",
   "metadata": {},
   "outputs": [],
   "source": [
    "from statsmodels.graphics.tsaplots import plot_acf,plot_pacf"
   ]
  },
  {
   "cell_type": "code",
   "execution_count": 38,
   "id": "d2ad4491-1c27-456a-a2b7-281f719efa32",
   "metadata": {},
   "outputs": [
    {
     "data": {
      "image/png": "[encoded data removed]",
      "text/plain": [
       "<Figure size 432x288 with 1 Axes>"
      ]
     },
     "execution_count": 38,
     "metadata": {},
     "output_type": "execute_result"
    },
    {
     "data": {
      "image/png": "[encoded data removed]",
      "text/plain": [
       "<Figure size 432x288 with 1 Axes>"
      ]
     },
     "metadata": {
      "needs_background": "light"
     },
     "output_type": "display_data"
    }
   ],
   "source": [
    "plot_acf(shampoo)"
   ]
  },
  {
   "cell_type": "markdown",
   "id": "0dbdc5a6-750a-425f-9bfe-7c0cd6c1ee7e",
   "metadata": {},
   "source": [
    "At the thumb we have 0, what it basically mean is that 266 = 266 = 0, what is the correlation between then? then the second one, 266 -- 145.9, what is the coerrelation between them .\n",
    "\n",
    "It basically calculate the correlation between the one previous and the second previous and the third previous thumb and so on, from the 3rd previous turn, it shows that it is going below the range.\n",
    "What value do you have out of this crritical range, you need to consider that.\n",
    "\n",
    "In this case the q will be the 3 ie 0,1, 2, 3\n",
    "\n",
    "We are simply differencing thumb d to make the series stationary, thumb d is usually between 0 - 2, so we will experiment it between 0-2, one may be sufficient but we can try it with 2.\n",
    "\n",
    "Ths helps to remove the seasonality function so that we can do a better prediction"
   ]
  },
  {
   "cell_type": "code",
   "execution_count": 40,
   "id": "62bc81d3-3b74-4e90-9a7d-5ea2e2869060",
   "metadata": {},
   "outputs": [
    {
     "data": {
      "image/png": "[encoded data removed]",
      "text/plain": [
       "<Figure size 432x288 with 1 Axes>"
      ]
     },
     "execution_count": 40,
     "metadata": {},
     "output_type": "execute_result"
    },
    {
     "data": {
      "image/png": "[encoded data removed]",
      "text/plain": [
       "<Figure size 432x288 with 1 Axes>"
      ]
     },
     "metadata": {
      "needs_background": "light"
     },
     "output_type": "display_data"
    }
   ],
   "source": [
    "# Q -3 p-2, d - 0-2\n",
    "\n",
    "plot_pacf(shampoo)"
   ]
  },
  {
   "cell_type": "code",
   "execution_count": null,
   "id": "764cd732-6f95-4539-9e2d-28b1bf8572c6",
   "metadata": {},
   "outputs": [],
   "source": [
    "Now ,we will input the ARIMA from the statsmodel"
   ]
  },
  {
   "cell_type": "code",
   "execution_count": 1,
   "id": "17306c36-73dd-4a0f-80b1-e618c9f8883a",
   "metadata": {},
   "outputs": [],
   "source": [
    "from statsmodels.tsa.arima_model import ARIMA"
   ]
  },
  {
   "cell_type": "code",
   "execution_count": 78,
   "id": "937f24ea-fd23-487a-bdc2-b80882aaf290",
   "metadata": {},
   "outputs": [],
   "source": [
    "# WE need to trian and test our model\n",
    "shampoo_train = shampoo[0:25]\n",
    "shampoo_test = shampoo[25:36]\n",
    "# We have some data we keep for the calculation in the error matrix"
   ]
  },
  {
   "cell_type": "code",
   "execution_count": 46,
   "id": "2d481c79-058b-4d26-b6d1-a9a745797197",
   "metadata": {},
   "outputs": [],
   "source": [
    "import warnings\n",
    "warnings.filterwarnings('ignore')\n",
    "                       "
   ]
  },
  {
   "cell_type": "code",
   "execution_count": 72,
   "id": "cf9aee7c-15c1-4688-9cd2-eaf09478dc68",
   "metadata": {},
   "outputs": [],
   "source": [
    "# Create the ARIMA model using the train and test , the reason wy we create our train and test is that so that when we evaluate\n",
    "#our model we will have some unseen data that ew  are keeping in the test ,for the calculation of error matrix which is the best practice.\n",
    "\n",
    "shampoo_model = ARIMA(shampoo_train,order=(3,1,2))\n",
    "#order is what we need to specify(2,1,3) we can type that first\n",
    "# it didnt work we tried 3,1,3, it didnt then 3,1,2 and it worked , so you keep trying"
   ]
  },
  {
   "cell_type": "code",
   "execution_count": 73,
   "id": "6af80d4e-ad05-423e-9f23-b09dd2e18bb7",
   "metadata": {},
   "outputs": [],
   "source": [
    "# once model is created we need to fit it\n",
    "shampoo_model_fit = shampoo_model.fit()"
   ]
  },
  {
   "cell_type": "markdown",
   "id": "aeece6e5-de22-4188-9a53-c44d8ffdc84a",
   "metadata": {},
   "source": [
    "This result is based on ARIMA's dependency on the model creation and you fit the data , it basically gives a warning like in this case, whtaevr order we have created is not consistent, so generally in the case of Arima , we need to make sure we specify or experiment with a couple of orders to get the right fit"
   ]
  },
  {
   "cell_type": "markdown",
   "id": "d3eb56da-5f87-4cc1-a683-9fc9d7a76f14",
   "metadata": {},
   "source": [
    "Alternatively, we can use model tunning to achieve the same result"
   ]
  },
  {
   "cell_type": "code",
   "execution_count": 74,
   "id": "715d05cd-74e9-4a35-8eb4-743ba1fc35df",
   "metadata": {},
   "outputs": [
    {
     "data": {
      "text/plain": [
       "272.3891948071348"
      ]
     },
     "execution_count": 74,
     "metadata": {},
     "output_type": "execute_result"
    }
   ],
   "source": [
    "# we use aic information to view how good the model is when you fit it\n",
    "shampoo_model_fit.aic"
   ]
  },
  {
   "cell_type": "code",
   "execution_count": 75,
   "id": "5e426cba-bfc4-4386-b59a-72ba9b98b1ec",
   "metadata": {},
   "outputs": [],
   "source": [
    "# create the forecast to test the model\n",
    "# o has residuals and couple of other things\n",
    "shampoo_forecast = shampoo_model_fit.forecast(steps=11)[0]"
   ]
  },
  {
   "cell_type": "code",
   "execution_count": 79,
   "id": "aed4eb20-9876-413f-b2fc-325adfd0e34b",
   "metadata": {},
   "outputs": [
    {
     "data": {
      "text/plain": [
       "130.9271065518346"
      ]
     },
     "execution_count": 79,
     "metadata": {},
     "output_type": "execute_result"
    }
   ],
   "source": [
    "# we have the observed values test_shampoo, then the forcast values shampoo_forecast\n",
    "np.sqrt(mean_squared_error(shampoo_test,shampoo_forecast))"
   ]
  },
  {
   "cell_type": "markdown",
   "id": "e4244576-8eb0-42c7-b9b3-f4005c3782fc",
   "metadata": {},
   "source": [
    "Here, 130 is the error rate that the ARIMA model contains and we need to test it against the base line model.\n",
    "If it is better than the ARIMA we accept it otherwise ,we reject it.\n",
    "Our baseline model error is 108 and the ARIMA model is 130, this shows that our baseline model is better than ARIMA model when it comes to doing the prediction"
   ]
  },
  {
   "cell_type": "code",
   "execution_count": null,
   "id": "1d1b6dbf-a2ee-494d-823e-725e5351f6f2",
   "metadata": {},
   "outputs": [],
   "source": [
    "# Using the parameter to specify"
   ]
  },
  {
   "cell_type": "markdown",
   "id": "43c084ea-9eca-425a-9f09-41e961c76dd9",
   "metadata": {},
   "source": [
    "You need to choose a range you want to evaluate the p-value eg(0,5) the d-values(0-3) q_values (0,5)\n",
    "This process may show alot of warnings so is important to import the warnings"
   ]
  },
  {
   "cell_type": "code",
   "execution_count": 81,
   "id": "8be9de2b-31a7-4cc1-b720-e403d143b8b4",
   "metadata": {},
   "outputs": [],
   "source": [
    "p_values = range(0,5)\n",
    "d_values = range(0,3)\n",
    "q_values = range(0,5)"
   ]
  },
  {
   "cell_type": "code",
   "execution_count": 85,
   "id": "25b8e723-1b3c-4190-802a-65ed64ca595b",
   "metadata": {
    "jupyter": {
     "source_hidden": true
    },
    "tags": []
   },
   "outputs": [
    {
     "name": "stdout",
     "output_type": "stream",
     "text": [
      "ARIMA(0, 0, 0) MSE = 77950.15\n",
      "ARIMA(0, 0, 1) MSE = 70119.47\n",
      "ARIMA(0, 0, 2) MSE = 58566.44\n",
      "ARIMA(0, 0, 3) MSE = 62031.20\n",
      "ARIMA(0, 1, 0) MSE = 33849.87\n",
      "ARIMA(0, 1, 1) MSE = 40653.60\n",
      "ARIMA(0, 1, 2) MSE = 34511.76\n",
      "ARIMA(0, 1, 3) MSE = 41465.63\n",
      "ARIMA(0, 1, 4) MSE = 14452.71\n",
      "ARIMA(0, 2, 0) MSE = 34017.03\n",
      "ARIMA(0, 2, 1) MSE = 28392.33\n",
      "ARIMA(0, 2, 2) MSE = 24225.79\n",
      "ARIMA(0, 2, 3) MSE = 23015.02\n",
      "ARIMA(1, 0, 0) MSE = 61158.66\n",
      "ARIMA(1, 0, 1) MSE = 46528.71\n",
      "ARIMA(1, 0, 2) MSE = 43922.43\n",
      "ARIMA(1, 0, 3) MSE = 34856.73\n",
      "ARIMA(1, 0, 4) MSE = 25186.07\n",
      "ARIMA(1, 1, 0) MSE = 31687.08\n",
      "ARIMA(1, 1, 1) MSE = 42176.66\n",
      "ARIMA(1, 2, 0) MSE = 18845.87\n",
      "ARIMA(1, 2, 1) MSE = 26129.55\n",
      "ARIMA(2, 0, 0) MSE = 45248.82\n",
      "ARIMA(2, 0, 1) MSE = 29637.25\n",
      "ARIMA(2, 0, 3) MSE = 43808.33\n",
      "ARIMA(2, 0, 4) MSE = 22341.60\n",
      "ARIMA(2, 1, 0) MSE = 35488.37\n",
      "ARIMA(2, 1, 1) MSE = 39633.99\n",
      "ARIMA(2, 1, 2) MSE = 35884.80\n",
      "ARIMA(2, 2, 0) MSE = 34024.26\n",
      "ARIMA(3, 0, 0) MSE = 46326.48\n",
      "ARIMA(3, 1, 0) MSE = 22024.88\n",
      "ARIMA(3, 1, 1) MSE = 22841.66\n",
      "ARIMA(3, 1, 2) MSE = 18095.37\n",
      "ARIMA(3, 1, 4) MSE = 37610.99\n",
      "ARIMA(3, 2, 0) MSE = 24695.27\n",
      "ARIMA(3, 2, 1) MSE = 16368.68\n",
      "ARIMA(3, 2, 2) MSE = 15804.22\n",
      "ARIMA(3, 2, 3) MSE = 14492.82\n",
      "ARIMA(4, 0, 0) MSE = 33233.21\n",
      "ARIMA(4, 0, 1) MSE = 33240.66\n",
      "ARIMA(4, 1, 0) MSE = 22339.38\n",
      "ARIMA(4, 1, 1) MSE = 22615.98\n",
      "ARIMA(4, 1, 2) MSE = 19179.63\n",
      "ARIMA(4, 1, 3) MSE = 20601.63\n",
      "ARIMA(4, 1, 4) MSE = 19303.91\n",
      "ARIMA(4, 2, 0) MSE = 20052.27\n",
      "ARIMA(4, 2, 1) MSE = 15572.78\n",
      "ARIMA(4, 2, 2) MSE = 16401.78\n",
      "ARIMA(4, 2, 3) MSE = 16154.18\n"
     ]
    }
   ],
   "source": [
    "# we need a loop to loop in this values\n",
    "# Iterate it in the same order in which they go in the \n",
    "# order parameter of the arima method\n",
    "# Store the prediction in a list so as to test it\n",
    "# we need to loop through the number of time\n",
    "for p in p_values:\n",
    "    for d in d_values:\n",
    "        for q in q_values:\n",
    "            order = (p,d,q)\n",
    "            train,test = shampoo[0:25], shampoo[25:36]\n",
    "            predictions = list()\n",
    "            for i in range(len(test)):\n",
    "                try:\n",
    "                    model = ARIMA(train, order)\n",
    "                    model_fit = model.fit(disp=0)\n",
    "                    pred_y = model_fit.forecast()[0]\n",
    "                    predictions.append(pred_y)\n",
    "                    error = mean_squared_error(test,predictions)\n",
    "                    print('ARIMA%s MSE = %.2f'% (order,error))\n",
    "                except:\n",
    "                    continue"
   ]
  },
  {
   "cell_type": "code",
   "execution_count": null,
   "id": "80785b15-d621-43cc-a04a-74cd61cc8c36",
   "metadata": {},
   "outputs": [],
   "source": [
    " QUESTION : PLs how did he do the calculation !!!!!"
   ]
  },
  {
   "cell_type": "markdown",
   "id": "4f6f7d19-7fe6-4c4c-8ed3-b80f56df3a0f",
   "metadata": {},
   "source": [
    "From the result, we can see that the baseline model is still better."
   ]
  },
  {
   "cell_type": "markdown",
   "id": "85454793-c09c-4d0d-822d-10317cfe6830",
   "metadata": {},
   "source": [
    "#### Time Series Analysis with Python "
   ]
  },
  {
   "cell_type": "markdown",
   "id": "22c4186e-7b7a-42aa-822f-fdc0b13104a0",
   "metadata": {},
   "source": [
    "In this tutorial, we are going to build a time series model using Python. First, let's import the\n",
    "necessary libraries to perform our little time series analysis.\n",
    "\n",
    "In [1]:\n",
    "import pandas as pd\n",
    "\n",
    "import numpy as np\n",
    "\n",
    "import matplotlib.pylab as plt\n",
    "\n",
    "%matplotlib inline\n",
    "\n",
    "from matplotlib.pylab import rcParams\n",
    "\n",
    "rcParams['figure.figsize'] = 15, 6\n",
    "\n",
    "from datetime import datetime\n",
    "\n",
    "Loading Time Series Data in Pandas\n",
    "\n",
    "This tutorial draws from this one and we \n",
    "will be using this dataset which records the daily passenger\n",
    "count for a certain airline company.\n",
    "\n",
    "A cool thing with jupyter notebook is that you can run linux\n",
    "command right here on the notebook simply by preceeding the command with the exclamation\n",
    "sign !.\n",
    "\n",
    "For instance, let's look at the first 10 rows of our dataset using the linux command head\n",
    "\n",
    "In [2]:\n"
   ]
  },
  {
   "cell_type": "markdown",
   "id": "3c54d09f-54d7-47ee-a3de-aa5bf0105ee2",
   "metadata": {},
   "source": [
    "! head AirPassengers.csv\n",
    "\n",
    "Month,#Passengers\n",
    "\n",
    "1949-01,112\n",
    "\n",
    "1949-02,118\n",
    "\n",
    "1949-03,132\n",
    "\n",
    "1949-04,129\n",
    "\n",
    "1949-05,121\n",
    "\n",
    "1949-06,135\n",
    "\n",
    "1949-07,148\n",
    "\n",
    "1949-08,148\n",
    "\n",
    "1949-09,136\n",
    "\n",
    "See that the data is in csv format, with 2 columns. \n",
    "\n",
    "The first column is a string for the month in %Y-\n",
    "%m format and the second column is the number of passengers. \n",
    "\n",
    "So here is a useful thing to know\n",
    "when working with time series: converting strings to datetime.\n",
    "\n",
    "The python datetime utility handles\n",
    "this task using the strptime function. \n",
    "\n",
    "See Chris Albon's site for a quick guide. Now back to parsing\n",
    "the data:"
   ]
  },
  {
   "cell_type": "markdown",
   "id": "57d12507-765c-4c8e-874e-7126d93d580c",
   "metadata": {},
   "source": [
    "+ define a lambda function that converts a string with format %Y-%m to datetim\n",
    "e\n",
    "\n",
    "custom_date_parser = lambda dates: \n",
    "\n",
    "pd.datetime.strptime(dates, '%Y-%m')\n",
    "\n",
    "#parse the data using pandas read_csv\n",
    "AirPassengers =\n",
    "pd.read_csv('AirPassengers.csv',\n",
    " parse_dates = ['Month'],\n",
    " index_col = 'Month',\n",
    " date_parser = custom_date_parser)\n",
    "AirPassengers.head()"
   ]
  },
  {
   "cell_type": "markdown",
   "id": "0622c5ce-5e52-490f-bf34-e29adeb6b03e",
   "metadata": {},
   "source": [
    "+ Let's see the data types\n",
    "\n",
    "AirPassengers.dtypes\n",
    "\n",
    "#Passengers int64\n",
    "\n",
    "dtype: object\n",
    "\n",
    "Let's walk through the parameters in the read_csv code above\n",
    "\n",
    "• parse_dates tells pandas to parse the specified column as date. values can be\n",
    "boolean or list of ints or names or list of lists or dict, and the default is False."
   ]
  },
  {
   "cell_type": "markdown",
   "id": "e02c2bef-1b1a-410d-82a5-6b0b7bdb0b41",
   "metadata": {},
   "source": [
    " index_col specifies which column to use as index. When analyzing Time Series in\n",
    "Pandas, it's important that the variable containing the time information be used as\n",
    "the dataFrame index. \n",
    "\n",
    "In the present case, this variable is called Month\n",
    "\n",
    "• date_parser This specifies how to parse the date. By default, Pandas usses the\n",
    "format ‘YYYY-MM-DD HH:MM:SS'. So if the date we want to parse are not in this\n",
    "format, we need to define a custom parser, just like\n",
    "\n",
    "the custom_date_parser above.\n",
    "\n",
    "We see that the datatype of the Month is now datetime64[ns]\n",
    "In [5]:\n",
    "    \n",
    "#Let's convert the dataFrame to a Series, since there is only one column anyw\n",
    "ays\n",
    "\n",
    "ts = AirPassengers['#Passengers']\n",
    "\n",
    "ts.head()\n",
    "\n",
    "Out[5]:\n",
    "\n",
    "Month\n",
    "\n",
    "1949-01-01 112\n",
    "\n",
    "1949-02-01 118\n",
    "\n",
    "1949-03-01 132\n",
    "\n",
    "1949-04-01 129\n",
    "\n",
    "1949-05-01 121\n",
    "\n",
    "Name: #Passengers, dtype: int64\n"
   ]
  },
  {
   "cell_type": "markdown",
   "id": "9550f466-2f80-49d9-aca6-aff6f530411c",
   "metadata": {},
   "source": [
    "+ Check for Stationarity in Time Series\n",
    "\n",
    "A Time Series is said to be stationary if it's desciptive statistical properties\n",
    "such mean, variance remain constant in time. We can assume a series to be stationary if the\n",
    "followings are true (more details here):\n",
    "    \n",
    "• constant mean\n",
    "\n",
    "• constant variance\n",
    "\n",
    "• an autocovariance that does not depend on time. \n",
    "\n",
    "\n",
    "But why should we care about stationarity? Well, most of the statistical methods used in the analysis\n",
    "of time series assume that the series is stationary. In addition, having a stationay series has practical\n",
    "advantage since it would mean that the average behavior of the series at time t will be the same at a\n",
    "time in the future. Hence we can make predictions.\n",
    "Let's test stationarity in the present data. First we create a simple plot"
   ]
  },
  {
   "cell_type": "markdown",
   "id": "b5cacf54-e876-4da1-8f2c-c3f361a7dab0",
   "metadata": {},
   "source": [
    "#visualize the time series with a simple line plot\n",
    "ts.plot()\n",
    "Out[6]:\n",
    "<matplotlib.axes._subplots.AxesSubplot at 0x7f2ac3a2d828>\n",
    "\n",
    "We see a clear trend and some seasonality. But it might always be easy to create a visual like this.\n",
    "We can test stationarity using the following methods:\n",
    "    \n",
    "• Plotting Rolling Statistics: Plot the moving average or moving variance and see\n",
    "if it varies with time. see pandas documentation for rolling\n",
    "\n",
    "• Dickey-Fuller Test: This is one of the statistical tests for checking stationary.\n",
    "\n",
    "The\n",
    "null hypothesis H0H0 is defined as The Time Series is non-stationary. i.e. if\n",
    "the p value is less than some confidence level αα (usually α=0.05α=0.05), we\n",
    "reject the null hypothesis and say that the series is stationary"
   ]
  },
  {
   "cell_type": "markdown",
   "id": "c9932d9a-f414-4efd-a567-e91f0824fa23",
   "metadata": {},
   "source": [
    "see here or thi post\n",
    "\n",
    "In [22]:\n",
    "\n",
    "from statsmodels.tsa.stattools import adfuller\n",
    "def test_stationarity(timeseries):\n",
    "\n",
    " #Perform Dickey-Fuller test:\n",
    " print('Results of Dickey-Fuller Test:')\n",
    " dftest = adfuller(timeseries, autolag='AIC')\n",
    " \n",
    " dfoutput = pd.Series(dftest[0:4], index=['Test Statistic','p-value','#Lag\n",
    "s Used','Number of Observations Used'])\n",
    " for key,value in dftest[4].items():\n",
    " dfoutput['Critical Value (%s)'%key] = value\n",
    " print(dfoutput)"
   ]
  },
  {
   "cell_type": "markdown",
   "id": "a324b556-5036-4d3d-9d3e-1781e95c59c2",
   "metadata": {},
   "source": [
    "test_stationarity(ts)\n",
    "\n",
    "Results of Dickey-Fuller Test:\n",
    "\n",
    "Test Statistic 0.815369\n",
    "\n",
    "p-value 0.991880\n",
    "\n",
    "#Lags Used 13.000000\n",
    "\n",
    "Number of Observations Used 130.000000\n",
    "\n",
    "Critical Value (1%) -3.481682\n",
    "\n",
    "Critical Value (5%) -2.884042\n",
    "\n",
    "Critical Value (10%) -2.578770\n",
    "\n",
    "dtype: float64\n",
    "\n",
    "We may conclude that this is a non-stationary series because:\n",
    "\n",
    "• The p-value is greater than the typical confidence level of 0.05, hence we donot\n",
    "reject the null hypothesis\n",
    "\n",
    "• The critical values from the Dickey-Fuller Test are way smaller than the Test\n",
    "Statistics\n",
    "\n",
    "+ Making a Time Series Stationary\n",
    "\n",
    "There are a number of reasons why a time series might be non-stationary:"
   ]
  },
  {
   "cell_type": "markdown",
   "id": "01c548be-24b4-42ff-bbd8-c2e84f505550",
   "metadata": {},
   "source": [
    "• Trends\n",
    "\n",
    "• Seasonality\n",
    "\n",
    "Hence the basic idea of forecasting with time series data is as follows\n",
    "\n",
    "• Estimate trends and seasonalities and remove them to get a \"stationary series\".\n",
    "This process is know as deseasonalization\n",
    "\n",
    "• Make predictions using the stationary series. Calculate means etc ..\n",
    "\n",
    "• Apply the deseasonalization contraints on the predicted value\n",
    "\n",
    "+ Differencing\n",
    "\n",
    "Differencing is a popular method to remove trend and seasonality in a time series. In python, this\n",
    "can be achieved using the diff() method of either a series or a dataframe. Check out this post or this\n",
    "one for an overview of performing differencing of time series.\n",
    "\n",
    "More details about other methods of\n",
    "differencing and when to use them can be found here\n",
    "\n",
    "In [9]:\n",
    "\n",
    "nonseasonal_diff = ts.diff(periods=1)\n",
    "\n",
    "plt.plot(nonseasonal_diff)\n",
    "\n",
    "plt.show()"
   ]
  },
  {
   "cell_type": "markdown",
   "id": "8db94aea-5bd6-4206-8b8f-56db00c673bb",
   "metadata": {},
   "source": [
    "test_stationarity(nonseasonal_diff.dropna(inplace=False))\n",
    "\n",
    "Results of Dickey-Fuller Test:\n",
    "\n",
    "Test Statistic -2.829267\n",
    "\n",
    "p-value 0.054213\n",
    "\n",
    "#Lags Used 12.000000\n",
    "\n",
    "Number of Observations Used 130.000000\n",
    "\n",
    "Critical Value (1%) -3.481682\n",
    "\n",
    "Critical Value (5%) -2.884042\n",
    "\n",
    "Critical Value (10%) -2.578770\n",
    "\n",
    "dtype: float64\n",
    "\n",
    "In [11]:\n",
    "\n",
    "seasonal_diff = \n",
    "\n",
    "nonseasonal_diff.diff(periods=12)\n",
    "\n",
    "plt.plot(seasonal_diff)\n",
    "\n",
    "plt.show()\n",
    "\n",
    "test_stationarity(seasonal_diff.dropna(inplace=False))"
   ]
  },
  {
   "cell_type": "markdown",
   "id": "4c86ac89-1d6a-44d6-b185-1e4db85809b4",
   "metadata": {},
   "source": [
    "Results of Dickey-Fuller Test:\n",
    "    \n",
    "Test Statistic -1.559562e+01\n",
    "\n",
    "p-value 1.856512e-28\n",
    "\n",
    "#Lags Used 0.000000e+00\n",
    "\n",
    "Number of Observations Used 1.300000e+02\n",
    "\n",
    "Critical Value (1%) -3.481682e+00\n",
    "\n",
    "Critical Value (5%) -2.884042e+00\n",
    "\n",
    "Critical Value (10%) -2.578770e+00\n",
    "\n",
    "dtype: float64\n",
    "\n",
    "The Autocorrelation and Partial Autocorrelation plots\n",
    "\n",
    "These plots help in identifying the order of an Autoregressive ARMA(p, q)\n",
    "see also pandas visualization documentation for the autocorrelation_plot\n",
    "\n",
    "In [12]:\n",
    "#ACF and PACF plots:\n",
    "from statsmodels.tsa.stattools import acf, pacf\n",
    "\n",
    "from statsmodels.graphics.tsaplots import plot_acf, plot_pacf\n",
    "\n",
    "In [13]:\n",
    "lag_acf = acf(seasonal_diff.dropna(inplace=False), nlags=20)\n",
    "\n",
    "lag_pacf = pacf(seasonal_diff.dropna(inplace=False), nlags=20, method='ols')\n",
    "\n",
    "In [14]:\n",
    "p=plot_acf(lag_acf)"
   ]
  },
  {
   "cell_type": "markdown",
   "id": "0d08dcfd-b9ae-413a-942b-0e5d4b67249e",
   "metadata": {},
   "source": [
    "def PlotAcf(data):\n",
    "    \n",
    " fig, axes = plt.subplots(nrows=4, \n",
    " \n",
    " figsize=(8, 12))\n",
    " \n",
    " fig.tight_layout()\n",
    " \n",
    " axes[0].plot(data)\n",
    " \n",
    " axes[0].set_title('Raw Data')\n",
    " \n",
    " axes[1].acorr(data, maxlags=data.size-1)\n",
    " \n",
    " axes[1].set_title('Matplotlib \n",
    " Autocorrelation')\n",
    " \n",
    " plot_acf(data, lags=20, ax=axes[2])\n",
    " \n",
    " axes[2].set_title('Statsmodels Autocorrelation')\n",
    " pd.tools.plotting.autocorrelation_plot(data, ax=axes[3])\n",
    " \n",
    " axes[3].set_title('Pandas Autocorrelation')\n",
    " \n",
    " Remove some of the titles and labels that were automatically added\n",
    " \n",
    " #for ax in axes.flat:\n",
    " \n",
    " ax.set(title='', xlabel='')\n",
    " \n",
    " #plt.show()\n",
    " \n",
    "In [17]:\n",
    "#PlotAcf(ts_log_diff)"
   ]
  },
  {
   "cell_type": "markdown",
   "id": "cb1d60ae-fa2d-4625-be91-b0e0d7343953",
   "metadata": {},
   "source": [
    "Forcasting: ARIMA\n",
    "\n",
    "In [18]:\n",
    "    \n",
    "from statsmodels.tsa.arima_model import ARIMA\n",
    "\n",
    "from statsmodels.tsa.statespace.sarimax import SARIMAX\n",
    "\n",
    "• Combined AR and MA\n",
    "\n",
    "In [19]:\n",
    "\n",
    "model = SARIMAX(ts, trend='n', order=\n",
    "\n",
    "(0,1,0), seasonal_order=(1,1,1,12))\n",
    "\n",
    "results_ARIMA = model.fit(disp=-1)\n",
    "\n",
    "plt.plot(ts, label='original')\n",
    "\n",
    "plt.plot(results_ARIMA.fittedvalues, color='red', label='fitted')\n",
    "\n",
    "plt.title('RSS: %.4f'% \n",
    "\n",
    "sum((results_ARIMA.fittedvalues-ts)**2))\n",
    "\n",
    "plt.legend()\n",
    "Out[19\n",
    "<matplotlib.legend.Legend at 0x7f2ab1a178d0>"
   ]
  },
  {
   "cell_type": "markdown",
   "id": "16efde03-5ecb-4205-a75e-765fce87e4ae",
   "metadata": {},
   "source": [
    "df = pd.DataFrame(ts)\n",
    "\n",
    "df['forecast'] = \n",
    "\n",
    "results_ARIMA.predict(start = '1959-05-\n",
    "\n",
    "01', end= '1960-12-01\n",
    "\n",
    "', dynamic= True)\n",
    "\n",
    "df[['#Passengers', \n",
    "\n",
    "'forecast']].plot(figsize=(12, 8))\n",
    "\n",
    "#plt.title('RMSE: %.4f'% \n",
    "\n",
    "np.sqrt(sum((predictions-\n",
    "\n",
    "original_TS)**2)/len(origin\n",
    "al_TS)))\n",
    "\n",
    "Out[20]:\n",
    "\n",
    "<matplotlib.axes._subplots.AxesSubplot at 0x7f2ab2827048"
   ]
  },
  {
   "cell_type": "markdown",
   "id": "c969542e-6d0d-4b0f-b879-26256ecf52ef",
   "metadata": {},
   "source": [
    "#predict(results_ARIMA.fittedvalues, ts)\n",
    "\n",
    "+ Other Tutorials\n",
    "\n",
    "• Sean Abu's Seaonal ARIMA with Python"
   ]
  },
  {
   "cell_type": "code",
   "execution_count": null,
   "id": "b735d566-2b36-4b5d-80be-a3e0e8f4500f",
   "metadata": {},
   "outputs": [],
   "source": [
    "#### Times Series Analysis: Quiz"
   ]
  },
  {
   "cell_type": "markdown",
   "id": "cc2bd918-100b-4658-bc30-0d5d3bd67d82",
   "metadata": {},
   "source": [
    "1. A restaurant has been experiencing higher sales during the weekends as compared to the weekdays. Daily restaurant sales patterns for this restaurant over a week are an example of the _seasonality________ component of time series"
   ]
  },
  {
   "cell_type": "markdown",
   "id": "9f70380a-5dbe-48fe-ad8d-97aab718796d",
   "metadata": {},
   "source": [
    "2.  Which of the following is not one of the four types of variation that is estimated in time-series analysis?\n",
    "\n",
    "four types of variations estimated in time-series analysis are :-\n",
    "1. Trend\n",
    "2. Seasonal\n",
    "3. Cyclical\n",
    "4. Irregular\n"
   ]
  },
  {
   "cell_type": "markdown",
   "id": "697d5d0b-b6eb-4677-8ae9-663f2a83c5c8",
   "metadata": {},
   "source": [
    " 3. The cyclical_________ component of a time series measures the fluctuations in a time series due to economic conditions of prosperity and recession with a duration of approximately 2 years or longer"
   ]
  },
  {
   "cell_type": "code",
   "execution_count": null,
   "id": "ef2c8ab3-ba22-4d5f-a3a7-8efd9724acd6",
   "metadata": {},
   "outputs": [],
   "source": [
    "rend is a pattern in data that shows the movement of a series to relatively higher or lower values over a long period of time. In other words, a trend is observed when there is an increasing or decreasing slope in the time series. Trend usually happens for some time and then disappears, it does not repeat"
   ]
  },
  {
   "cell_type": "markdown",
   "id": "2654413d-4d24-4315-9c1c-6c2992c60ba4",
   "metadata": {},
   "source": [
    "Seasonality is a characteristic of a time series in which the data experiences regular and predictable changes that recur every calendar year. Any predictable fluctuation or pattern that recurs or repeats over a one-year period is said to be seasonal."
   ]
  },
  {
   "cell_type": "code",
   "execution_count": null,
   "id": "233edcf0-2809-4279-aa44-e16889c7aec1",
   "metadata": {},
   "outputs": [],
   "source": [
    "A cyclic pattern exists when data exhibit rises and falls that are not of fixed period. The duration of these fluctuations is usually of at least 2 years. Think of business cycles which usually last several years, but where the length of the current cycle is unknown beforehand.14 Dec 2011"
   ]
  },
  {
   "cell_type": "markdown",
   "id": "aa22c18c-6976-43f2-933b-dcb6ccc39c27",
   "metadata": {},
   "source": [
    " 4. Which term most closely relates to associative forecasting techniques?\n",
    " \n",
    " Associate techniques use predictor variables.\n"
   ]
  },
  {
   "cell_type": "markdown",
   "id": "6be69877-60c5-4f9c-902f-a605b69bf18d",
   "metadata": {},
   "source": [
    "5. The number of daily births in a particular country hospital over a period of 10 days.\n",
    "random pattern"
   ]
  },
  {
   "cell_type": "markdown",
   "id": "71143617-e4ec-47d9-9c6d-50d51cdaea8c",
   "metadata": {},
   "source": [
    "6. The sales of a new popular ice-cream flavour in a beach resort. Choose the true statement.\n",
    "\n",
    "seasonal"
   ]
  },
  {
   "cell_type": "code",
   "execution_count": null,
   "id": "337abb30-9b5b-428b-b9e8-0edae4951522",
   "metadata": {},
   "outputs": [],
   "source": [
    "7. This time series plot is an example of:\n",
    "    \n",
    "    irregular change"
   ]
  },
  {
   "cell_type": "code",
   "execution_count": null,
   "id": "83a6f07a-025c-438e-8ac8-bec6236fa6db",
   "metadata": {},
   "outputs": [],
   "source": [
    "8. cyclical variation"
   ]
  },
  {
   "cell_type": "code",
   "execution_count": null,
   "id": "6422804a-0431-4741-8bb7-ae296117ca3f",
   "metadata": {},
   "outputs": [],
   "source": [
    "9. a decreasing trend"
   ]
  },
  {
   "cell_type": "code",
   "execution_count": null,
   "id": "05b954f5-a2dc-47eb-9b30-7ef9cc2256ac",
   "metadata": {},
   "outputs": [],
   "source": [
    "10. multiple trends"
   ]
  },
  {
   "cell_type": "markdown",
   "id": "14c83b8e-9b38-4a5f-8b92-d199d9338659",
   "metadata": {},
   "source": [
    "###  Weeek 13 Day 2 – Neural Networks Introduction"
   ]
  },
  {
   "cell_type": "markdown",
   "id": "fcf70a54-05fa-4615-85e7-015d753bd10f",
   "metadata": {},
   "source": [
    "####  Introduction to neural networks"
   ]
  },
  {
   "cell_type": "markdown",
   "id": "0b4ec76f-9bdb-4fa4-ae63-a1aebb811fad",
   "metadata": {},
   "source": [
    "We will be setting our goals and introducing the frame work.\n",
    "\n",
    "Creating a machine learning algorithm ultimately means building a model that outputs correct information,given that we have provided input data.\n",
    "\n",
    "Think of the modeel as a black box, we feed input and it delivers an output.\n",
    "For instance, we may want to create a model that will predict the weather tommorow given mediological information for the past few days, the input we feed to the model could be matrix such as temperature, humidity and precipitation, the output we will obtain wil be the weather forecast for tommorrow\n",
    "\n",
    "Before we get confortable and confident  about the model's output ,we must train the model.\n",
    "Training is an essential concept in machine learning as this is the process through which the model learns how to make sense of the input data.\n",
    "\n",
    "Once , we have trained our model, we can simply fed it with data and obtain an output\n",
    "\n",
    "The basic logic behind training an algorithm involves four incredients.\n",
    "\n",
    "+ Data\n",
    "\n",
    "+ Model\n",
    "\n",
    "+ objective function which is to minimize the error \n",
    "\n",
    "+ Optimize the algorithm."
   ]
  },
  {
   "cell_type": "markdown",
   "id": "78eda045-1c3a-4674-a964-9eea86c65011",
   "metadata": {},
   "source": [
    "+ Data : we must employ a certain amount of data to train with. Usually,this is historical data which is readily available.\n",
    "\n",
    "+ Model : \n",
    "We need a model, the simplest model we can train is a linear model.\n",
    "\n",
    "In the weather forcast example, that will mean to find some coefficient, multiply each variable with them and sum up everything to get the output\n",
    "Examplw W1(temperature) + W2(humidity) + W3(precipitation).\n",
    "\n",
    "The linear model is just a tip of the eye bear.\n",
    "Stepping on the linear model , deep machine learning helps us to create non complicated non linear models.\n",
    "\n",
    "They usually fit the data much better than a simple linear relationship\n",
    "\n",
    "+ Objective functon:\n",
    "\n",
    "So far we took data, feed it ti the model and obtained an output.\n",
    "\n",
    "We need this output to be as close to reality as possible and this is where the objective function comes in. \n",
    "It estimates how correct the models output are on average. the entire machine learning framework boils down to optimizing this function.\n",
    "\n",
    "For example , if our function is measuring the prediction error of the model, be it worth to minimize this error or in othrwords, minimize the objective .\n",
    "\n",
    "+ Optimization algorithm\n",
    "\n",
    "It consists of the mecahnics to which we varies the parameters of the model to optimize the objective function.\n",
    "\n",
    "For instance, if our weather forcast model is  weather tommorrwo equals W1 x temp. + W2 X humidty\n",
    "\n",
    "The optimization algorithm may go through values like\n",
    "\n",
    "1.05 X temp + 1.2 X humidty or \n",
    "\n",
    "1.05 X temp - 1.2 X humity or \n",
    "\n",
    "1.04 X temp - 1.19 X humidity and so on \n",
    "\n",
    "W1 and W2 are the parameters that will change.\n",
    "\n",
    "For each set of parameters we will calculate the objective function, then we will choose the moel with the highest predictive power.\n",
    "\n",
    "How do we know which one is the best?\n",
    "It will be the one with the opti,al objective function.\n",
    "\n",
    "WE used the word ingredients instead of process because the machine learning process is iterative(Continuous or repeatedly)\n",
    "\n",
    "We feed data into the model and compare the accuracy through the objective function, then we vary the model's parameters and repeat the operation, when we reach a point after which we can no longer optimize or we don't need to , we will stop, since we woulld have found a good enough solution to our problem.\n"
   ]
  },
  {
   "cell_type": "markdown",
   "id": "1023ca90-fcb5-4381-b939-870aae4cddc9",
   "metadata": {},
   "source": [
    "#### Training the model theory"
   ]
  },
  {
   "cell_type": "markdown",
   "id": "35c8f71c-711e-4380-83ba-cdd1f5ffaf08",
   "metadata": {},
   "source": [
    "We will be exploring the concept of training the model through the data.\n",
    " For example, you have a coffee making machine that doesn't know how to make coffee,\n",
    " \n",
    " In a non machine learning setting , we will need to incorporate the instructions in the machine's electronics.\n",
    "For instance, the engineers may set the machines electronics too.\n",
    "First, grind 20 grams of coffee beans, second heat the water to 200degrees farenhight, pour 10ml  grinded coffee into the cup.\n",
    "\n",
    "In amachine learning setting, we will notexclusively provide instructions to the machine, instead we just need to state our goal.\n",
    "\n",
    "In the coffee machine case , that will be a cup of coffee, then we will let the machine work out the problem on its own.\n",
    "The machine learning process is a kind of \n",
    "trail and error training.\n",
    "The machine will try various combinations of grinding, heating and pouring some of those will not make sense.\n",
    "\n",
    "The machine wil try heating the water ,pouring it before grinding the coffee, resulting in a cup of hot water.\n",
    "or may grind the coffee and pour the water without heating the water. after a thousans of tials and errors, the algorithmn will train itself to reach the set goal every time which is to make a cup of coffee .\n",
    "\n",
    "It is possible that it will learn to make the best cofee you have ever tried much better than the one obtained by following a set of instructions. \n",
    "This is because it would have gone through so many more recipes than a human would ever be able to  do.\n",
    "\n",
    "A reasonable optimization algorithmn  will not try all combinations,as there are usually inexhaustible many other options.\n",
    "\n",
    "In the coffee example, if the coffee machine learns that grinding the coffee  has to go before pouring the water, it will not waste time attempting it in the wrong order\n",
    "This example shows us why machine learning is so powerful, it allows systems to learn on there own situation\n",
    "ww humans cannot define the original set of rules for the computer to follow, even if we can define the set of rules, an algorithm can probably provide a better one\n",
    "\n",
    "\n",
    "Another exampl , is self driving cars, contrary to what many people think,self driivng cars don't follow rules such as a voice clip. Essentially, they train on hours on footage of real people while driving and learn how to mimick them efficiently.\n",
    "\n",
    "It is not the set of rules they know but the final goal. The final goal fundamentally is to drive safe and efficiently. Avoid curves , dont bomb into other cars, dont go over the speed limit,stop in red lights and so on\n",
    ".\n",
    "\n",
    "Training Data is at the core of the process.\n",
    "\n",
    "+ After trying the algorithm will learn \n",
    "+ why machine learning is so powerful is that it allows systems to learn on its own ."
   ]
  },
  {
   "cell_type": "markdown",
   "id": "ee976f56-a35a-46e8-b1e4-8669f1d0d638",
   "metadata": {},
   "source": [
    "#### Types of Machine Learning"
   ]
  },
  {
   "cell_type": "markdown",
   "id": "765586ac-b022-4af9-9b58-642a8cbac1ee",
   "metadata": {},
   "source": [
    "+ There are three major types of machine learning:\n",
    "\n",
    "+ Supervised\n",
    "\n",
    "+ Unsupervised\n",
    "\n",
    "+ Reinforcement"
   ]
  },
  {
   "cell_type": "markdown",
   "id": "aec16d09-8023-4576-8ec3-d53c1424144b",
   "metadata": {},
   "source": [
    "supervised learning :\n",
    "\n",
    "This refers to the case where we provide the algorithm with inputs and the corresponding desired output.\n",
    "Base on this information , it learns ohw to produce output close to the ones we are looking for,\n",
    "\n",
    "Those example, the one about the weather fircast and that of preparing coffee demonstrates supervised learning.\n",
    "\n",
    "\n",
    "Unsupervised :-\n",
    "\n",
    "Here we feed input but there are no target output. This means we dont tell the algorithm exactly what our goal is instead we ask it to provide dependence or underlining logic in the data provided.\n",
    "\n",
    "For instance, imagine , we administer the website cancerdagos.com  , users have the option to submit photos of their cats or dogs to the website. once a photo has been submitted we will like it to be automatically classified in the cell page cat or the cell page dogs\n",
    "\n",
    "In supervised learning , we will train the algorithm on a dataset of say 1000 cat photos and 1000 dog photos, each will be labbelled cat or dog. the model will then learn hpw to input pictures as cat or dog, minimizing mismatches over the trained set.\n",
    "\n",
    "Sometimes however, we may not have the resources or the need to label the whole dataset.\n",
    "\n",
    "In the previous dataset, there was a person who mnually labelled all 2000 pictures.\n",
    "\n",
    "Now imagine a dataset of 2 million pictures , if it takes a person 5 seconds to label a picture, a dataset of 2 million observations will take around 2800 hours or 345 working days to label all pictures.\n",
    "\n",
    "\n",
    "With unsupervised learning though we can \n",
    "train the algorithm without labelling the photos or in an unsupervised way.\n",
    "we can simply  ask it to split them into two groups base on visual similarities\n",
    "The result will be two groups thaat are unlabelled. once, we have obtained that,we can examine them and say oh,yes!\n",
    "The first set is dogs and the second set is cat.\n",
    "Thanks to algorithm\n",
    "\n",
    "Unsupervised learning is especially useful \n",
    "when our goal is to split a  data into a certain number of categories whcih we do not prior to implementing it . This is called clustering.\n",
    ".\n",
    "\n",
    "\n",
    "+ Reinforcement learning :\n",
    "\n",
    "With reinforcement learning ,we will train a model to act in an enviromnment base on the reward it receives\n",
    "It is much like training your pet and rewarding it with a treats every time it achieves a goal. maybe to sit! or stand!\n",
    "\n",
    "in thesame way the machine learning algorithm could be thought how to play super mario by rewarding it for progressing with an increase in score \n",
    "\n",
    "supervised learning  is the focus of the course and this is because it is the simplest and most commonly used.\n",
    "\n",
    "Supervised learning can be divided into additional sub type:\n",
    "\n",
    "Classification and regression\n",
    "The difference is very trsight forward\n",
    "Classification supervised learning provides output which are \n",
    "categorical such as cats and dogs\n",
    "\n",
    "In regression supervised learning models \n",
    "The output will be of numerical type fr example predicting the eur/usd exchange rate will always give us a continuous number like 1.21 or 1.19\n"
   ]
  },
  {
   "cell_type": "markdown",
   "id": "0004afe0-1f0f-4097-9b37-2ac21f23c2fa",
   "metadata": {},
   "source": [
    "#### The Linear Model"
   ]
  },
  {
   "cell_type": "markdown",
   "id": "38189209-a9a8-4a89-8b17-70430cac954e",
   "metadata": {},
   "source": [
    "Let's consider a variable X the function fof x gives us a variable y\n",
    "f(x) -> y \n",
    "y is a function of X but we dont know this function.\n",
    "\n",
    "\n",
    "\n",
    "We want to make the algorithm find that on its own.\n",
    "This is done by providing it with many pairs of x and y as possible and following the methodologies to come"
   ]
  },
  {
   "cell_type": "markdown",
   "id": "fbe5e6bc-5684-4c9a-a009-172b30a551c1",
   "metadata": {},
   "source": [
    "Let's start with the simplest model possible , the linear model. it is extremely important as it is the basis for more complicated models including non linear ones\n",
    "\n",
    "y = f(x) \n",
    "In the linear model universe\n",
    "f(x) = xw + b\n",
    "\n",
    "x is the input we have , in the traditional statistical jog in we will call w the coefficint of x and b the intercept\n",
    "\n",
    "In machine learning though \n",
    "w = weight(s) when we have more than one parameter.\n",
    "b = bias or biases\n",
    "\n",
    "There are many ways to define the linear model: \n",
    "wx + b\n",
    "xw + b\n",
    "x^Tw + b (t stands for transpose)\n",
    "w^T x + b\n",
    "\n",
    "It deosnt matter , we will keep the linear model simple and represent it in the following way.\n",
    "\n",
    "xw + b\n",
    "the goal of the machine learning algorithm is to find such values for W and B , so the output of :\n",
    "xw + b\n",
    "\n",
    "is as close to the observed values as possible.\n",
    "\n",
    "\n",
    "Example: say our goal is to predict the price of an apartment,we may do that base on its size,so the input x , is the size, xw is the model we are using\n",
    "\n",
    "The calculation of this expression gives us the price or the output y.\n",
    "\n",
    "Let's inprt real values\n",
    "\n",
    "The size of an apartment is 743sqft\n",
    ",The possible model for predicting its price is\n",
    "\n",
    "743 X 336.1 - 3237.51\n",
    "\n",
    "input x = size\n",
    "\n",
    "size = 743\n",
    "\n",
    "weight =\n",
    "336.1\n",
    "\n",
    "b = -3237.51\n",
    "\n",
    "If we calculate the output following this model for 743sqft apartment,we will obtain a price of $ 246,484.79\n",
    "\n",
    "y = $ 246,484.79\n",
    "\n",
    "Similarly, given an apartment of a different size, our model will predict a price of $332,862.49\n",
    "say 1000ft X 336.1 - 3237.51 =  $332,862.49\n",
    "\n",
    "+ Knowing the size of any apartment, we can get a prediction about the price based on the linear model.\n",
    "Though this example may over simplify how things work in real life. This is just to show us the principle behind it."
   ]
  },
  {
   "cell_type": "markdown",
   "id": "9f2db3de-494e-43cb-aec7-d7041d03564d",
   "metadata": {},
   "source": [
    "#### The linear model. Multiple inputs"
   ]
  },
  {
   "cell_type": "markdown",
   "id": "387a4710-2943-4921-a59b-da6288451a32",
   "metadata": {},
   "source": [
    "linear model multiple inputs:\n",
    "What if we have\n",
    "additional information saying that the apartment\n",
    "we are valueing is located by the sea, the closer the apartment is to the beach,the higher the price.\n",
    "\n",
    "+ Well a better linear model will predict the price based on both size and proximity to the beach.\n",
    "\n",
    "The linear model tackling this issue is \n",
    "price of apartment equals its size X the weight of size + the appartment proximity to the beach X the weigth of proximity + the bias.\n",
    "\n",
    "if we want to state this expresion \n",
    "in linear algebraic term, we can use the same frame work as before,\n",
    "x times w plus b\n",
    "\n",
    "y = xw + b\n",
    "\n",
    "X and W are both vectors\n",
    "X is 1 by 2 , W is 2 by 1\n",
    "multiplying x and w , will give us a  scalars.\n",
    "( 1x2 x 2x1 = 1x1) shape\n",
    "\n",
    "let's continue our housing example\n",
    "The output y = xw + b\n",
    "x has 2 elements , a size of 743 and a distance from the beach of 1.21 miles\n",
    "W has two elements too, one for each input.\n",
    "the values are 403.77 and -15,212\n",
    "\n",
    "and the bias is 1212.45\n",
    "\n",
    "To calculate the new projected price, we must multiply\n",
    "\n",
    "y = 743 X 403.77 -1.21 X 15,21+ 1212.45\n",
    "\n",
    "     x1     w1      x2   w2         B\n",
    "     \n",
    " =   $282,444.04\n",
    " \n",
    " similarly , if 1000sqft apartment is 2 miles away from the beach , its price becomes $ 373,958.45\n",
    " \n",
    " y = 1000 X 403.77 - 2 X 15,21+ 1212.45\n",
    " \n",
    " Notice that te weigth of the distance from the beach is negative. this is because we expect this variable to have a negative impact on our apartment price.\n",
    "\n",
    "The greater the distance from the beach the lower the price"
   ]
  },
  {
   "cell_type": "markdown",
   "id": "bdad7f68-fed7-4735-8486-8168495658d6",
   "metadata": {},
   "source": [
    "#### The linear model. Multiple inputs and multiple outputs"
   ]
  },
  {
   "cell_type": "markdown",
   "id": "983218b5-f951-4e67-9bee-76209f60defe",
   "metadata": {},
   "source": [
    "Multiple input and output:\n",
    "    \n",
    "Here is our new situation, we may be interested in knowing the price for buying the property but also price  for which we can rent it out.\n",
    "Our input are unchanged, size and proximity to the beach\n",
    "\n",
    "This time though we have two outputs, therefore, we can create two linear models.\n",
    "The price as a function of the size and proximity to the beach and the \n",
    "rent as a function of the size and proximity to the beach.\n",
    "\n",
    "Price = size x Weigth of size + proximity x weigth of proximity + bias\n",
    "\n",
    "Rent = size x Weigth of size + proximity x weigth of proximity + bias\n",
    "\n",
    "\n",
    "y1 = X1W11 + X2w21 + B1\n",
    "\n",
    "y2 = X1W12 + X2W22 + B2\n",
    "\n",
    "Notice the indices oof the weigth, the first number refers to the respective input and the second refers to the output\n",
    "\n",
    "We have 2 outputs, 2 inputs, 4 weights and 2 bias.\n",
    "\n",
    "There is a different weigth for each input in each equation.\n",
    "\n",
    "Lets see this in linear algebraic terms\n",
    "y = xw + B\n",
    "\n",
    "In general , if we have k-imputs and m- outputs the number of weigths will be \n",
    "k x m.\n",
    "The number of biases will be equal to the number of outputs - m.\n",
    "\n",
    "Two outputs, 2 inputs, 4 weigths and 2 biases\n",
    "\n",
    "\n",
    "Let the weight for price  W1 and W2 be equal to 403.77 and -15.512 as before and the weigth for the rent W11 and W12 be equal to 13.9 and -484.73\n",
    "\n",
    "The biases B1B2 are 1,112.45 and 212.34\n",
    "\n",
    "The inputs are same as before\n",
    "743 and 1.21 miles\n",
    "\n",
    "the first output \n",
    "y1 = 743 X 403.77 -1.21 X 15,21+ 1,112.45\n",
    "\n",
    "= $ 282,444.04\n",
    "\n",
    "The second output is found by :\n",
    "y2 = 743 X 13.9 -1.21 X 484.75 + 212.34 = \n",
    "$9952.79.\n",
    "\n",
    "Basically, you can buy the house around 282k and rent it out for 10k\n",
    "This is how we use thesame model\n",
    "XW + B =Y to represent linear relationship.\n",
    "\n",
    "Notice , how the previous exampke is actually part of this one, here aree the respective output, input ,weight and bias.\n",
    "\n",
    "Finally, is important to note that this was only one observation we could extend this example to many input, output and observation .\n",
    "\n",
    "YN1 YN2 ....YNM = XN1 XN2 ...xNK * WK1 WK2 ...WKM + B1B2 ... BM \n",
    "\n",
    "The output matrix( will be B1B2 ... Bm where m is the number of output variables and n is number of observations \n",
    "\n",
    "The input matrix will be N by K , where K is the number of input variables\n",
    "\n",
    "The weigth matrix (K X M)remains the same as the weigth dont change depending on the number of observations\n",
    "the same applies to the biasses (1 X M).\n",
    "\n",
    "This shows that we can feed as much data as we want to in our model, it will not change as each model is determined by the weigth and biases\n",
    "\n",
    "This property will help us greatly when creating machine learning algorithms.\n",
    "\n",
    "In machine learning, we vary only the weights and the biases but the logi of the model remains the same."
   ]
  },
  {
   "cell_type": "markdown",
   "id": "d1b6d96d-3211-4cc8-b88b-5a12074124ed",
   "metadata": {},
   "source": [
    "#### Graphical representation"
   ]
  },
  {
   "cell_type": "markdown",
   "id": "5dd66e64-60a5-4cc7-ac7a-d38e3eac64e6",
   "metadata": {},
   "source": [
    "We will be looking at two situations in which Machine learning and Neural network come in handy.\n",
    "\n",
    "We may be wondering how our linear model will solve our cats and dogs problem.\n",
    "Y = XW + B\n",
    "\n",
    "It depends on the data.\n",
    "\n",
    "We have a scatter plot of  a dataset consisting of animal photos.\n",
    "\n",
    "Let the blue dots represents the dogs and the orange dots represent the cats.\n",
    "\n",
    "A linear model or a straigth line can solve this problem easily.\n",
    "Every thing below the line is one category and every thing above it is the other.\n",
    "\n",
    "In this situation, we have a classification problem.\n",
    "\n",
    "We are trying to classify the photos into dogs and cats.\n",
    "\n",
    "Such a model is called the linear classifier.\n",
    "\n",
    "This is because the data represented in the graph is linearly seperable.\n",
    "\n",
    "What about in a case ,we have about 4 categories all twined together.\n",
    "\n",
    "The data is non linearly seperable , therefore,we must use a non linear model. We will learn this under deep neural networks\n",
    "\n",
    "In our apartment picture y = XW + B\n",
    "A linear model represents the data well. this is the well known linear relationships.\n",
    "\n",
    "However, different regresion problems may not necessarily be solved by a linear model."
   ]
  },
  {
   "cell_type": "markdown",
   "id": "1df0f61c-7725-47da-a4c4-01e5a922ecac",
   "metadata": {},
   "source": [
    "#### The Objective function"
   ]
  },
  {
   "cell_type": "markdown",
   "id": "05795b2b-5733-468d-8c4f-34ce94c47aa6",
   "metadata": {},
   "source": [
    "Objective function is the third building block of the machine learning algorithm\n",
    "\n",
    "This  is a measure used to  evaluate how well the model output match the desired  \n",
    "correct values.\n",
    "\n",
    "Objective funs=ctions are generally split into two types\n",
    "\n",
    "+ loss or cost function\n",
    "\n",
    "the lower the loss function the higher the level of accuracy of the model.\n",
    "Most often we work with loss function.\n",
    "An intuitive example is the loss function that \n",
    "measure the error of prediction.\n",
    "We want to minimize the error of prediction thus minimize the loss\n",
    "\n",
    "+ Reward functions:\n",
    "\n",
    "They are basically the opposite of loss functions.\n",
    "\n",
    "The higher the reward function the higher the level of accuracy of the model.\n",
    "Usually reward functions are used in\n",
    "reinforced learning where the goal is  to maximize the specific result. eg is the algorithm we mentioned earler , the one playing super mario, the score obtained by the algorithm for playing the game is the reward function.\n",
    "\n",
    "Maximizing the final score will mean maximizing the reward function.\n",
    "\n",
    "when dealing with surpervised learning we normally \n",
    "enconter loss function therefore we will be dealing mostly with loss function."
   ]
  },
  {
   "cell_type": "markdown",
   "id": "77d1107a-3a55-4d17-9c1d-ee332c0d94c0",
   "metadata": {},
   "source": [
    "#### L2- norm Loss "
   ]
  },
  {
   "cell_type": "markdown",
   "id": "0c206d93-0404-4333-9498-dde3a0058a14",
   "metadata": {},
   "source": [
    "Earlier we divided supervised learning into two types:\n",
    "\n",
    "+ Regression \n",
    "+ Classification\n",
    "\n",
    "\n",
    "We will be discussing two of the most common type of loss function, each is used with two tyoes of machine learning\n",
    "\n",
    "I.Categorical - Cross - entropy\n",
    "\n",
    "Ii. Regression - L2 norm continuous number\n",
    "\n",
    "Note that the objective function is a seperate block in our framework from the  model\n",
    "\n",
    "This is to say that this lecture applies to all model regardless of this  linearity .\n",
    "\n",
    "We will define another concept called the target denoted by T\n",
    "\n",
    "The target is the desired value at which we are aiming.\n",
    "\n",
    "Generally ,we want our output  to be as close as possible to the target T.\n",
    "\n",
    "In the cats and dogs example we have been employing so far, the target will be the lebals we asign to each foyer, so we are 100 % sure that thses values are correct. They are the values we aspire to \n",
    "\n",
    "The y values are the output of our models. The machine learning algorithm aims to find a function of x that outputs values close to the target as possible using this new notation , the loss function evaluates the accuracy of the output regarding the target.\n",
    "\n",
    "Looking at the two common function we talked about that are involed with loss function.\n",
    "\n",
    "I .Regression \n",
    "Ii.Classification\n",
    "\n",
    "+ Regresion : The output of a regression are a continuous number. a commonly used loss function is the squared loss also called the L2- Norm loss in  machine learning.\n",
    "THe method for calculating it equals the \n",
    "least squared method used in statistics.\n",
    "L2-norm ->  OLS(statistics)\n",
    "\n",
    "Mathematically , it looks like this \n",
    "L2-norm = Σi (yi -ti)2 \n",
    "\n",
    "Naturally,he lower the sum is ,\n",
    "the lower the error of prediction, therefore  the lower the cost function(The loss)\n",
    "\n",
    "\"norm\" comes from the fact it is the vector norm, or Euclidean distance of the outputs and the targets."
   ]
  },
  {
   "cell_type": "markdown",
   "id": "45c50ba3-7e09-4f01-8e0c-5d0cc24732ec",
   "metadata": {},
   "source": [
    "#### Cross-entropy loss"
   ]
  },
  {
   "cell_type": "markdown",
   "id": "974d04fd-3d71-49b0-a9b3-de9032af6c1f",
   "metadata": {},
   "source": [
    "We discussed that the output of a \n",
    "\n",
    "regression is number( Numbers 1, \n",
    "\n",
    "10,1.21) but \n",
    "\n",
    "for classification things are different sinnce the outputs are categories like cats and dogs. we need a beter suited strategy.\n",
    "\n",
    "The most common loss function used for classification is Cross-entropy loss, and it is defined as Lof y and t minus the sum of the target ,times the natural log of the output.\n",
    "\n",
    "Cross-entropy = L(y,t) = - Σi t, in yi \n",
    "\n",
    "for exampl:\n",
    "Let's consider our cats and dogs problem, we will introduce a 3rd category Horse\n",
    "\n",
    "Cat       Dog        Horse\n",
    "\n",
    "We have an image labelled as dog but how does it look in numerical terms.\n",
    "\n",
    "The target vectoe t will be \n",
    "\n",
    "T = [ 0, 1  , 0]\n",
    "\n",
    "The fiest zero means ti is not a cat, the second the 1 chosen is a Dog and the 3rd 0 means ,it is not a horse\n",
    "\n",
    "Lets examine a different image\n",
    "\n",
    "Cat     Dog         Horse\n",
    "\n",
    "This time the target image is horse and is labelled 1,\n",
    "\n",
    "Imagine , if the output of our model for the two images are  as follows;"
   ]
  },
  {
   "cell_type": "raw",
   "id": "357746a3-d521-4e31-ab14-e7c4e7962bce",
   "metadata": {},
   "source": [
    "Dogs   y = [0.4, 0.4, 0.2]\n",
    "\n",
    "       t =[0, 1, 0]\n",
    "    \n",
    "     \n",
    "Horse   y = [0.1 ,0.42 0.7]\n",
    "\n",
    "        t = [0. 0 .1]"
   ]
  },
  {
   "cell_type": "markdown",
   "id": "9c7736bd-32a3-439f-bb4e-52ef0dd83d2e",
   "metadata": {},
   "source": [
    "After some machine learning transformations, this vectors show that the probability for each photo to be a cat ,a dog or a horse.\n",
    "\n",
    "We wiil learn how to create this vectors later in the course, for now all we nee to know is how to inerprete them.\n",
    "\n",
    "The first vector shows that according\n",
    "\n",
    "to our algorithm, there is a 0.4 or a \n",
    "\n",
    "4o% chance that our first photo is a \n",
    "\n",
    "cat, 40% it is a dog and 20% ,it is a Horse.\n",
    "\n",
    "The cross entropy of each photo\n",
    "\n",
    "Cross-entropy = L(y,t) = - Σi t, inyi \n",
    "\n",
    "the cross entropy loss of the first \n",
    "\n",
    "image is -0 times 0.4 minus 1 times \n",
    "\n",
    "natural log of 0.4- 0 times natural log\n",
    "\n",
    "of 0.2 = 0.92\n",
    "\n",
    "L(y,t) = -0 x in 0.4 - 1 x in 0.4- 0 x\n",
    "\n",
    "0.2 = 0.92\n",
    "\n",
    "\n",
    "the cross entropy loss of the second \n",
    "\n",
    "image is -0 times 0.1 minus 0 times \n",
    "\n",
    "natural log of 0.2 -0 times natural log\n",
    "\n",
    "of 0.7 = 0.36\n",
    "\n",
    "\n",
    "L(y,t) = -0 x in 0.1 -0 x in 0.2 - \n",
    "\n",
    "1x0.7 = 0.36"
   ]
  },
  {
   "cell_type": "markdown",
   "id": "6a0f7705-cc0b-4351-89c9-87ced319d209",
   "metadata": {},
   "source": [
    "As we already know the lower the loss function or the cross entropy in this case, the more accurate the model.\n",
    "\n",
    "What is the meaning of this two cross entropies, They show that the second loss is lower , therefore its prediction is superior. \n",
    "\n",
    "The first image the model is not sure if it is a dog or a cat. There was an eqaul 40% probability for both assumptions.\n",
    "\n",
    "We can oppose this with the second photo where the model was 70% sure it was a horse, thus the cross entropy was lower"
   ]
  },
  {
   "cell_type": "markdown",
   "id": "e67077a6-858d-4284-80a1-797ddd99c55d",
   "metadata": {},
   "source": [
    "An important note is that with classification our target vectors consists of a bunch of zeros and ones which indicates the correct categories ,therfore we can simplify the above formulas too. Minus the log of the probability  of the output for the correct answer\n",
    "Here is how our initial formula will change"
   ]
  },
  {
   "cell_type": "markdown",
   "id": "dc800474-e64f-4276-97d2-07cfd7870448",
   "metadata": {},
   "source": [
    "L(y,t) = -1 x in 0.4\n",
    "  \n",
    "L(y,t)  = -1 x in 0.7"
   ]
  },
  {
   "cell_type": "markdown",
   "id": "133c5220-2970-486c-86f8-cb0040fb940b",
   "metadata": {},
   "source": [
    "Those were examples of commonly used loss functions for regression and classification problems . Most regression and classification problems are solved by using them but there are other loss functions that can help us solve our problems"
   ]
  },
  {
   "cell_type": "markdown",
   "id": "46c5ac3d-72b4-4b8c-a162-77914b7048b2",
   "metadata": {},
   "source": [
    "+ WE must emphasize that any function that holds the basic property : \n",
    "\n",
    "+ Of being higher for worse results \n",
    "\n",
    "+ And lower for better results can be a loss function.\n",
    "\n",
    "+ We will often use this observation when coding.\n",
    "    "
   ]
  },
  {
   "cell_type": "markdown",
   "id": "e8d29ca1-52ee-4290-8f01-8e08590a115a",
   "metadata": {},
   "source": [
    "#### One-parameter gradient descent"
   ]
  },
  {
   "cell_type": "markdown",
   "id": "217062d8-124f-42e7-8868-6b2d5b092432",
   "metadata": {},
   "source": [
    "We have learnt conceptually , how to input data into a model. We also measured how close to the target are the output we obtained through the objective function.\n",
    "However,the actual optimization process happens when the optimization algorithm varies the model's pararmeter till the loss function has been minimized.\n",
    "\n",
    "In the context of the linear model,this immplies\n",
    "varying w and b.\n",
    "\n",
    "The simplest and the most fundamental optimization algorithm is the \"Gradient Descent\"\n",
    "\n",
    "The gradient is the multi -variance generallization of the derivative concept.\n",
    "\n",
    "f'(X) -> ▽Fx(X1,X2,...,XN)\n",
    "\n",
    "Let's consider a non machine learning example so as to understand the logic behind the gradient descent.\n",
    "Here is a function of F of x equal to 3 x X2 plus 3 x X \n",
    "minus 4\n",
    "\n",
    "f(X) = 5X^2 + 3X - 4\n",
    "\n",
    "Goal: To find the minimum of this function using the gradient descent methodology.\n",
    "\n",
    "Step 1:\n",
    "Find the first derivative of the function in our case, it is 10 times x plus 3\n",
    "f(X) = 10X + 3\n",
    "\n",
    "Step 2:\n",
    "Choose any arbitrary number\n",
    "For example x non = 4\n",
    "x non is the proper way to say x zero.\n",
    "X0 = 4\n",
    "then we calculate a different number X1 following the update rule\n",
    "X1 =?\n",
    "\n",
    "Xi plus 1 = Xi- eta times the first derivative of the function and xi\n",
    "\n",
    "Xi+1 = Xi -ηf'(Xi)\n",
    "\n",
    "X1 = 4 - η[10*4 +3] =\n",
    "\n",
    "X1 = 4 - η43\n",
    "\n",
    "η(eta) is the learning rate\n",
    "\n",
    "It is the rate at which the machine learning algorithm forgets old believes for new ones.\n",
    "\n",
    "We choose the learning rate for each case\n",
    "\n",
    "Using the update rule , we can find X2 X3 and so on.\n",
    "\n",
    "X2 = X1 -ηf'(X1)\n",
    "\n",
    "X3 = X2 -ηf'(X2)\n",
    "\n",
    "After conducting the updat operation long enough, the values will evantually stop updating.That is the point at which we know we have reached the minimum of the function.\n",
    "This is because the first derivative of the fuction is 0 when we have reached the minimum.\n",
    "So the first derivative :\n",
    "Xi+1 = Xi -ηf'(Xi)\n",
    "\n",
    "Will now become xi plus 1 = xi- 0 \n",
    "or Xi plus 1 = xi\n",
    "\n",
    "Xi + 1 = Xi-o \n",
    "\n",
    "or\n",
    "\n",
    "Xi + 1 = Xi\n",
    "\n",
    "\n",
    "Therefore, the update rule will no longer update."
   ]
  },
  {
   "cell_type": "markdown",
   "id": "b8aba8ce-65c7-4b44-8e33-8fd99018561d",
   "metadata": {},
   "source": [
    "+ Gradint descent function example:\n",
    "\n",
    "Searching for the minimum of 5x^2+3x-4 \n",
    "Update rule: Xi+1 = Xi -η*f'(Xi)\n",
    "    \n",
    "Let's take an eta of 0.01 , we start descending.\n",
    "Learning rate η(eta) = 0.01"
   ]
  },
  {
   "cell_type": "raw",
   "id": "a0065650-5071-4718-b36a-98b73901c0fd",
   "metadata": {},
   "source": [
    "Xi       Value        F(xi)                   \n",
    "\n",
    " 0       4.00          43.00\n",
    " \n",
    " 1       3.57          38.70\n",
    " 2        3.18         34.83\n",
    " 3        2.83          31.35\n",
    " 4        2.52         28.21\n",
    " 5        2.24         25.39\n",
    " 6        1.99         22.85\n",
    "    \n",
    ".\n",
    ".\n",
    ".\n",
    ".\n",
    "    \n",
    "    \n",
    "85         -0. 30            0.01\n",
    "86          -0.30            0.00\n",
    "87          -0.30            0.00\n",
    "88          -0.30            0.00\n",
    "89          -0.30            0.00\n",
    "90          -0.30            0.00\n",
    "\n"
   ]
  },
  {
   "cell_type": "markdown",
   "id": "cc4eaa75-4a1a-4526-8e95-fd5658b7d0ae",
   "metadata": {},
   "source": [
    "Around the 86th observation,ouer sequence doesnt change anymore, it is coverged to -0.30 , once the minimum is reached all subsequent values are equal to it.\n",
    "\n",
    "Hence ,pur update rule has become \n",
    "\n",
    "Xi+1 = Xi - 0"
   ]
  },
  {
   "cell_type": "markdown",
   "id": "582bfc3e-2f04-4a0f-9805-d75952fde0f4",
   "metadata": {},
   "source": [
    "Graphically ,gradent descent has an oval shape. we start from any arbitrary point and descend to the minimum.\n",
    "\n",
    "The speed of minimization depends on the etta."
   ]
  },
  {
   "cell_type": "markdown",
   "id": "74130065-8ac8-47fd-b8f4-54563d2d87ef",
   "metadata": {},
   "source": [
    "Let's try with an etta of 0.1, we hvave converged to the minimal of -0.3 after the first iteration. Now knowing the minimal is -0.3.\n",
    "\n",
    "Lets check out an eta of 0.001, this step is so small that we need at least 900 iterations before we reached the desires value, we descend to the same extreme but in a much slower manner.\n",
    "\n",
    "Finally, lets try with an eta of 0.2, we obtained a sequence of 4 and -4.6 until infinity.\n",
    "\n",
    "No matter how many iterations we excute , our seqeunce will never raech -0.3, we already know -0.30 is the desired value, but if we didnt, we will be deceived.\n",
    "\n",
    "This situation is called Oscilliation, we built around the minimum value but we never reach it.\n",
    "\n",
    "We can use 4 or -4.6 in the algorithm but this will not be its true minimum.\n",
    "\n",
    "Grapghically we are stuck into these 2 points.\n",
    "Never reaching the minimum"
   ]
  },
  {
   "cell_type": "markdown",
   "id": "8d22a1f3-4140-4955-a9d4-ab4abb61669c",
   "metadata": {},
   "source": [
    "Now that we have seen different learning rate and its performance,lets state this rule.\n",
    "\n",
    "Generally, we want the learning rate to be high enough so that we can reach the closest minimum after repeating the operation in a rational amount of time.\n",
    "\n",
    "So perhaps,0.001 was too small for this function.\n",
    "\n",
    "At the same time, we want eta to be low enough so we are sure enough we reach the minimum , so we don't oscillate around the minimum.\n",
    "\n",
    "Like in the case where we choose an eta of 0.2.\n",
    "\n",
    "In deep learning, we will discuss a few smaller techniques that will allow us to chose the right rate"
   ]
  },
  {
   "cell_type": "markdown",
   "id": "dc519db3-c4a9-4640-b686-dbe8baf87ca9",
   "metadata": {},
   "source": [
    "+ Key take aways\n",
    "\n",
    "1. Using gradeint descent,we can find the minimum value of our function through a trial and error method.(that's just how computers think)\n",
    "\n",
    "2. There is an updaterule tha allows us to chery -pick the trials so we can reach the minimum faster, Each consequent trial is better than the previous one with a nice update rule.\n",
    "\n",
    "3. We must think about the learning rate which has to be high enough so we don't iterate forever but low enough so we don't oscillate forever.\n",
    "\n",
    "4. Finally, once we have converged we should stop updating or as we see in the coding example we should break the loop.\n",
    "One way to know we have converged is when the diffence between the terminal place i +1 and place 1 is 0.001\n",
    "\n",
    "Xi+1 = Xi = 0.001"
   ]
  },
  {
   "cell_type": "markdown",
   "id": "30c5d93b-9fc8-4da9-ac70-b675cc6edf21",
   "metadata": {},
   "source": [
    "+ Download and look at the excel file available in the course resources. you can play around with the learning rate and arbitrary choose the number X9 and see what happens . this will give you a good intuition about the learning rate which is essential to teaching the algorithm."
   ]
  },
  {
   "cell_type": "markdown",
   "id": "d3a8c8c3-c348-4178-899e-fef9a176ac39",
   "metadata": {},
   "source": [
    "#### N-parameter gradient descent"
   ]
  },
  {
   "cell_type": "markdown",
   "id": "0c0b59f6-0d21-4c98-8c74-8df2a0979fd6",
   "metadata": {},
   "source": [
    "If we want to create working models that can be easily adapted to \"Different problems\", you must understand the drivers of a machine learning algorithm. This is why we have covered several theoritical steps. This is where the introductory part ends .\n",
    "We will step on the 1 - Dimentional gradient descent concept and explain the concept (N- Dimentional) of the gradient descent used in machine learning.\n",
    "\n",
    "In addition ,we will enploy what we have learnt about linear model and loss functons."
   ]
  },
  {
   "cell_type": "markdown",
   "id": "96ada8a9-865b-4f8b-8415-447ae90ae879",
   "metadata": {},
   "source": [
    "Let's consider the linear model we have studied so far\n",
    "\n",
    "Xw + B = y  - > Model\n",
    "\n",
    "Now each output can be represented using the linear model equation with the input which is just a corresponding xi\n",
    "\n",
    "Xiw + B = yi ->  Single observation\n",
    "\n",
    "Weigth and bias remain unchanged.\n",
    "\n",
    "Using our apartment size example,yi will be the price of a single apartment, the corresponding xi will be information we have about the apartment.\n",
    "\n",
    "743 X 336.1 - 3237.51 = 246.484.79\n",
    "\n",
    "In essence, we are taking a single observation, Therefore the output yi is a scaler and it is equal to the corresponding xi x w plus the bias\n",
    "\n",
    "Naturally , we are interested in the i of target ,so ti. This will be the target to which we will compare the output y \n",
    "\n",
    "model :Xiw + B = yi -> ti\n",
    "\n",
    "\n",
    "Now, is time to pick the loss function we will use.\n",
    "\n",
    "Usually,we denote the loss function with L and in bracket we put the output and the target as the loss function depends on this arguement.\n",
    "\n",
    "L(y,t) -> loss\n",
    "\n",
    "L is for loss but we can have C for cost\n",
    "C(y,t) -> cost\n",
    "\n",
    "And E for error and so on\n",
    "E(y,t) -> error.\n",
    "\n",
    "Depending on the frame work you are using, notations could differ though bearing thesame meaning.\n",
    "\n",
    "Since, we have only discussed two types of loss function\n",
    "\n",
    "+ L2-norm loss\n",
    "\n",
    "+ Cross -entropy\n",
    "\n",
    "Our choice will be limited to them\n",
    "\n",
    "We will look into a regression example  using the l2-norm loss.\n",
    "\n",
    "Loss: L(y,t) = L2-norm /2  = Σi (yi - ti)2 / 2\n",
    "\n",
    "This is conventional \n",
    "\n",
    "This is because a division by the constant of two does not change the nature of the loss function as it is still lower for better predictions,. The machine learning algorithm will not be affected we emphasize this in the  objective function lecture.\n",
    "\n",
    "\" Any function that holds the basic property :\n",
    "\n",
    "+ higher or worse results \n",
    "\n",
    "+ lower for better results \n",
    "\n",
    "Can be a loss function\n",
    "Division by some constant changes nothing.\n",
    "Make sure you know what the gradient(▽) is, unless you are working in the Multi dimensional space.\n",
    "\n",
    "To perform the gradient descent we need old believes to be updated on each step."
   ]
  },
  {
   "cell_type": "markdown",
   "id": "31272dc7-517f-443e-82e9-788fa9846376",
   "metadata": {},
   "source": [
    "#### Update Rule:"
   ]
  },
  {
   "cell_type": "markdown",
   "id": "bc124d5a-5585-435a-92cd-79bd7a54c9eb",
   "metadata": {},
   "source": [
    "xi plus 1 = xi minus eta times the first derivative\n",
    "Xi + 1 = xi-ηf'(xi)\n",
    "\n",
    "becomes wi plus 1 = wi minus eta times the gradient of the loss function with wi for the weight\n",
    "\n",
    "wi + 1 = wi - η▽wL(y,t)\n",
    "\n",
    "bi plus 1 equals bi minus eta times the gradient of the loss function with respect to bi for the biases\n",
    "\n",
    "bi + 1 = bi- η▽bL(y,t)\n",
    "\n",
    "It is basically thesame but for a matrix w and a vector b instead of a number x\n",
    "\n",
    "We want to minimize the loss function by varying the weight and the biases, which means we are trying to optimize the loss function regarding w and b\n",
    "\n",
    "automatically it looks likes this\n",
    "\n",
    "          wi + 1 = wi - η▽wL(y,t)\n",
    "Optimization:\n",
    "         bi + 1 = bi- η▽bL(y,t)\n",
    "         \n",
    "The gradient with respect to w of the loss function is equal to the sum of the gradient of 1/2 times (yi minus ti)2 with respect to w\n",
    " \n",
    " ▽wL= Σi▽w1/2(yi-ti)2 = \n",
    " \n",
    " from the linear model yi= xi times w plus the bias where w and x are matrics and this is why we requrie both formating\n",
    "    |\n",
    "    xiw + b\n",
    "so let's plot that in the formula:\n",
    "so running the operation we obtain the sum of xi times yi minus ti\n",
    "             \n",
    "full derivation in\n",
    "course notes         = ΣiXi (yi-ti) =\n",
    "                     \n",
    "                     = ΣiXiði\n",
    "\n",
    "It is useful to combine yi minus ti into a new variable called delta  (ð ) .\n",
    "delta is often used to measure differences.\n",
    "This notion will come in handy when we start coding in python and when we  start dealing with dipper neural networks.\n",
    "\n",
    "The final output becomes the sum of xi times delta i with respect to i,\n",
    "\n",
    "▽wL=ΣiXiði\n",
    "\n",
    "So we calculate that observation for each expression and then sum them all.\n",
    "\n",
    "In  analogically the gradient of the loss function with respect to the bias  is the sum of delta i, notice that the 1/2 we introduced cancelled out the two we obtained when differentiating the square , that is why we included it to get a neater result.\n",
    "\n",
    "▽wL=Σiði\n",
    "\n",
    "Finally, lets go back to our Update rule,\n",
    "We said that the generalized rule is wi plus 1 equals wi minus eta times the gradient of the loss function with respect to wi\n",
    "\n",
    "wi + 1 = wi - η*▽l(wi)\n",
    "\n",
    "Replacing the gradient with what we found here \n",
    "\n",
    "wi + 1 = wi - η*ΣiXiði\n",
    "\n",
    "\n",
    "         wi + 1 = wi -η*ΣiXiði\n",
    "         \n",
    "Optimization:\n",
    "\n",
    "         bi + 1 = bi- η Σiði\n",
    "\n",
    "\n",
    "In anologically, the update rule for the biases is bi plus 1 equals b1 minus eta times the sum of delta i\n",
    "  \n",
    "     bi + 1 =  bi- η Σiði\n"
   ]
  },
  {
   "cell_type": "markdown",
   "id": "07bbac05-c8b0-43d9-a4c8-2380d505aa6c",
   "metadata": {},
   "source": [
    "This was the generalized gradient descent of a linear model, we can use it to minimize the cost function and train our model to enable it to produce valuable insight from our data"
   ]
  },
  {
   "cell_type": "markdown",
   "id": "23543cbd-13e7-4c90-b90b-cc41a7238183",
   "metadata": {
    "tags": []
   },
   "source": [
    "#### Required Reading: Neural Networks"
   ]
  },
  {
   "cell_type": "markdown",
   "id": "61d53dc9-4a7f-4cf1-9394-af38a5a55cc4",
   "metadata": {},
   "source": [
    "+ Neural Networks\n",
    "\n",
    "Perceptrons\n",
    "\n",
    "The perceptron is a binary linear classifier that is only capable of predicting\n",
    "classes of samples if those samples can be separated via a straight line. The\n",
    "perceptron algorithm was introduced by Frank Rosenblatt in 1957. It\n",
    "classifies samples using hand crafted features which represents information\n",
    "about the samples, weighs the features on how important they are to the\n",
    "final prediction and the resulting computation is compared against a\n",
    "threshold value."
   ]
  },
  {
   "cell_type": "markdown",
   "id": "00a2aa08-5c54-41a4-ab29-3692a807d885",
   "metadata": {},
   "source": [
    "In the image above, X represents the inputs to the model and W represents\n",
    "the weights (how important are individual features). A linear computation\n",
    "of the weighted sum of features is carried out during the formula below:\n",
    "\n",
    "Z = W0X0 + W1X1 + ...+ WmXm\n",
    "\n",
    "\n",
    "The value of z is then passed through a step function to predict the class of\n",
    "the sample. A step function is an instant transformation of a value from 0 to\n",
    "1. What this means is that if z is greater than or equal to 0, its predicts one\n",
    "class, else it predicts the other. The step function can be represented\n",
    "mathematically as:"
   ]
  },
  {
   "cell_type": "markdown",
   "id": "9921888a-445d-4064-a753-75053e87cdc8",
   "metadata": {},
   "source": [
    "f(x) = {1  if w .x+ b > 0\n",
    "        \n",
    "       {0  otherwise"
   ]
  },
  {
   "cell_type": "markdown",
   "id": "4cf9254d-48e3-445f-9ac4-76cb5c35d330",
   "metadata": {},
   "source": [
    "At each iteration, the predicted class gets compared to the actual class and\n",
    "the weights gets updated if the prediction was wrong else it is left\n",
    "unchanged in the case of a correct prediction. Updates of weights continue\n",
    "until all samples are correctly predicted, at which point we can say that the\n",
    "perceptron classifier has found a linear decision boundary that perfectly\n",
    "separates all samples into two mutually exclusive classes.\n",
    "\n",
    "\n",
    "During training the weights are updated by adding a small value to the\n",
    "original weights. The amount added is determined by the perceptron\n",
    "learning rule. The weight update process can be experienced\n",
    "mathematically as shown below.\n",
    "\n",
    "\n",
    "Wj := wj + Δwj\n"
   ]
  },
  {
   "cell_type": "markdown",
   "id": "68cc2f07-7264-449b-a84f-0aca42020d34",
   "metadata": {},
   "source": [
    "The amount by which weights are updated is given by the perceptron\n",
    "learning rule below.\n",
    "\n",
    "\n",
    "Δwj = η(y^(i)-ŷ^(i)) x^(i)j"
   ]
  },
  {
   "cell_type": "markdown",
   "id": "fd18d15d-95b1-4bc1-bb6a-0524c0ca82c0",
   "metadata": {},
   "source": [
    "The first coefficient on the right hand side of the equation is called the\n",
    "learning rate and acts as a scaling factor to increase or decrease the extent\n",
    "of the update.\n",
    "\n",
    "The intuitive understanding of the above equation is that with\n",
    "each pass through the training set, the weights of misclassified examples are\n",
    "nudged in the correct direction so that the value of z can be such that the\n",
    "step function correctly classifies the sample. "
   ]
  },
  {
   "cell_type": "markdown",
   "id": "1ddaab74-1b0f-4730-b27e-ea0c3ae2d6e3",
   "metadata": {},
   "source": [
    "It should be noted that the perceptron learning algorithm described is severely limited as it can only\n",
    "learn simple functions that have a clear linear boundary. The perceptron is\n",
    "almost never used in practice but served as an integral building block\n",
    "during the earlier development of artificial neural networks.\n",
    "\n",
    "\n",
    "Modern iterations are known as multi-layer perceptrons. Multi-layer\n",
    "perceptrons are feed forward neural networks that have several nodes in the\n",
    "structure of a perceptron. However, there are important differences. A\n",
    "multilayer perceptron is made up of multiple layers of neurons stacked to\n",
    "form a network. The activation functions used are non-linear unlike the\n",
    "perceptron model that uses a step function. Nonlinear activations are\n",
    "capable of capturing more interesting representations of data and as such do\n",
    "not require input data to be linearly separable. The other important\n",
    "difference is that multi-layer perceptrons are trained using a different kind\n",
    "of algorithm called backpropagation which enables training across multiple\n",
    "layer"
   ]
  },
  {
   "cell_type": "markdown",
   "id": "b58d46d2-5d36-4a5e-b51b-b24af48a0e42",
   "metadata": {},
   "source": [
    "+ Backpropagation\n",
    "\n",
    "Backpropagation is an algorithm technique that is used to solve the issue of\n",
    "credit assignment in artificial neural networks. What that means is that it is\n",
    "used to determine how much an input’s features and weights contribute to\n",
    "the final output of the model. Unlike the perceptron learning rule,\n",
    "backpropagation is used to calculate the gradients, which tell us how much\n",
    "a change in the parameters of the model affects the final output. The\n",
    "gradients are used to train the model by using them as an error signal to\n",
    "indicate to the model how far off its predictions are from the ground truth.\n",
    "The backpropagation algorithm can be thought of as the chain rule of\n",
    "derivatives applied across layers."
   ]
  },
  {
   "cell_type": "markdown",
   "id": "9a9a1803-8043-481c-88bc-95937729ffba",
   "metadata": {},
   "source": [
    "Let us look at a full fledged illustration of a multi-layer perceptron to\n",
    "understand things further."
   ]
  },
  {
   "cell_type": "markdown",
   "id": "e3270854-a2af-4865-bf95-d8b7b874d2e8",
   "metadata": {},
   "source": [
    "In the diagram , we have \n",
    "\n",
    "inputs-> input layer -> Hidden layer-> output layer -> outputs"
   ]
  },
  {
   "cell_type": "markdown",
   "id": "e5ef364d-6b0a-4102-8700-52776562997c",
   "metadata": {},
   "source": [
    "The network above is made up of three layers, the input layer which are the\n",
    "features fed into the network, the hidden layer which is so called because\n",
    "we cannot observe what goes on inside and the output layer, through which\n",
    "we get the prediction of the model. \n",
    "\n",
    "During training, in order to calculate by\n",
    "how each node contributes to the final prediction and adjust them\n",
    "accordingly to yield a higher accuracy across samples, we need to change\n",
    "the weights using the backpropagation algorithm. It is the weights that are\n",
    "learned during the training process hence they are sometimes referred to as\n",
    "the learnable parameters of the model. To visually understand what goes on\n",
    "during backpropagation, lets us look at the image of a single node below."
   ]
  },
  {
   "cell_type": "markdown",
   "id": "d0fdc1c2-5ece-453e-8e8b-725d49a48961",
   "metadata": {},
   "source": [
    "In the node above x and y are the input features while f is the nonlinear\n",
    "activation function. During training computations are calculated in a\n",
    "forward fashion from the inputs, across the hidden layers, all the way to the\n",
    "output. This is known as the forward pass denoted by green arrows in the\n",
    "image. The prediction of the model is then compared to the ground truth\n",
    "and the error is propagated backwards. This is known as the backward pass\n",
    "and assigns the amount by which every node is responsible for the\n",
    "computed error through the backpropagation algorithm. It is depicted with\n",
    "red arrows in the image above. This process continues until the model finds\n",
    "a set of weights that captures the underlying data representation and\n",
    "correctly predicts majority of samples.\n"
   ]
  },
  {
   "cell_type": "markdown",
   "id": "e1d9d1ac-2d20-4810-9498-cfc1feff4266",
   "metadata": {},
   "source": [
    "+ How to run the Neural Network using TensorFlow\n",
    "\n",
    "For our hands on example, we would do image classification using the\n",
    "MNIST handwritten digits database which contains pictures of handwritten\n",
    "digits ranging from 0 to 9 in black and white. The task is to train a neural\n",
    "network that given an input digit image, it can predict the class of the\n",
    "number contained therein.\n",
    "\n",
    "+ How to get our data\n",
    "\n",
    "TensorFlow includes several preloaded datasets which we can use to learn\n",
    "or test out our ideas during experimentation. The MNIST database is one of\n",
    "such cleaned up datasets that is simple and easy to understand. Each data\n",
    "point is a black and white image with only one color channel. Each pixel in\n",
    "the image denotes the brightness of that point with 0 indicating black and\n",
    "255 white. The numbers range from 0 to 255 for 784 points in a 28 × 28\n",
    "grid."
   ]
  },
  {
   "cell_type": "markdown",
   "id": "923e2678-6878-4aa9-8f69-767faa6f82e4",
   "metadata": {},
   "source": [
    "Let’s go ahead and load the data from TensorFlow along with importing\n",
    "other relevant libraries.\n"
   ]
  },
  {
   "cell_type": "code",
   "execution_count": null,
   "id": "2387b039-d090-42f5-8468-c27b54a8fc84",
   "metadata": {},
   "outputs": [],
   "source": [
    "# Import MNIST data\n",
    "from tensorflow.examples.tutorials.mnist import input_data\n",
    "mnist = input_data.read_data_sets(\"/tmp/data/\", one_hot=True)"
   ]
  },
  {
   "cell_type": "markdown",
   "id": "9c8c2b88-53db-4718-89e1-3d582a4c4c3b",
   "metadata": {},
   "source": [
    "Let us use the matplotlib library to display an image to see what it looks\n",
    "like by running the following lines of code."
   ]
  },
  {
   "cell_type": "code",
   "execution_count": null,
   "id": "e8cda269-3dc7-43d4-a04c-f788ee759efa",
   "metadata": {},
   "outputs": [],
   "source": [
    "plt.imshow(np.reshape(mnist.train.images[8], [28, 28]), cmap='gray')\n",
    "plt.show()"
   ]
  },
  {
   "cell_type": "markdown",
   "id": "95a1c7c4-66be-4228-b301-eb9ec5ec0715",
   "metadata": {},
   "source": [
    "The displayed image is a handwritten digit of number 9.\n",
    "\n",
    "How to train and test the data\n",
    "\n",
    "In order to train an artificial neural network model on our data, we first\n",
    "need to define the parameters that describe the computation graph such as\n",
    "number of neurons in each hidden layer, number of hidden layers, input\n",
    "size, number of output classes etc. Each image in the dataset is 28 by 28\n",
    "pixels therefore, the input shape is 784 which is 28 × 28."
   ]
  },
  {
   "cell_type": "markdown",
   "id": "c699918d-80a1-4025-92dd-72ad99113cc4",
   "metadata": {},
   "source": [
    "+ Parameters\n",
    "\n",
    "learning_rate = 0.1\n",
    "\n",
    "num_steps = 500\n",
    "\n",
    "batch_size = 128\n",
    "\n",
    "display_step = 100"
   ]
  },
  {
   "cell_type": "code",
   "execution_count": null,
   "id": "f11a1171-8edd-44c7-8330-b7b3357e3e37",
   "metadata": {},
   "outputs": [],
   "source": [
    "# Network Parameters\n",
    "n_hidden_1 = 10 # 1st layer number of neurons\n",
    "n_hidden_2 = 10 # 2nd layer number of neurons\n",
    "num_input = 784 # MNIST data input (img shape: 28*28)\n",
    "num_classes = 10 # MNIST total classes (0-9 digits)"
   ]
  },
  {
   "cell_type": "code",
   "execution_count": null,
   "id": "e9ce3c7e-510a-427b-b70f-2c85236858bf",
   "metadata": {},
   "outputs": [],
   "source": [
    "# tf Graph input\n",
    "X = tf.placeholder(\"float\", [None, num_input])\n",
    "Y = tf.placeholder(\"float\", [None, num_classes]"
   ]
  },
  {
   "cell_type": "markdown",
   "id": "bb04b6ee-475c-4a72-bc0e-fc6608261829",
   "metadata": {},
   "source": [
    "We then declare weights and biases which are trainable parameters and\n",
    "initialise them randomly to very small values. The declarations are stored in\n",
    "a Python dictionary.\n"
   ]
  },
  {
   "cell_type": "code",
   "execution_count": null,
   "id": "e8c65746-03d3-4ffe-9636-1c554e9cfd08",
   "metadata": {},
   "outputs": [],
   "source": [
    "# Store layers weight & bias\n",
    "weights = {\n",
    " 'h1': tf.Variable(tf.random_normal([num_input, n_hidden_1])),\n",
    " 'h2': tf.Variable(tf.random_normal([n_hidden_1, n_hidden_2])),\n",
    " 'out': tf.Variable(tf.random_normal([n_hidden_2, num_classes]))\n",
    "    }\n",
    "biases = {\n",
    " 'b1': tf.Variable(tf.random_normal([n_hidden_1])),\n",
    " 'b2': tf.Variable(tf.random_normal([n_hidden_2])),\n",
    " 'out': tf.Variable(tf.random_normal([num_classes]))\n",
    "}"
   ]
  },
  {
   "cell_type": "markdown",
   "id": "bddb7628-a1bc-4b36-baa5-9e42df33e0c9",
   "metadata": {},
   "source": [
    "We are would then describe a 3-layer neural network with 10 units in the\n",
    "output for each of the class digits and define the model by creating a\n",
    "function which forward propagates the inputs through the layers. Note that\n",
    "we are still describing all these operations on the computation grap"
   ]
  },
  {
   "cell_type": "code",
   "execution_count": null,
   "id": "1e88e644-3ded-42bf-9800-7b8937292c96",
   "metadata": {},
   "outputs": [],
   "source": [
    "# Create model\n",
    "def neural_net(x):\n",
    " # Hidden fully connected layer with 10 neurons"
   ]
  },
  {
   "cell_type": "code",
   "execution_count": null,
   "id": "6fb27178-59d4-4286-a08c-72c3621b858c",
   "metadata": {},
   "outputs": [],
   "source": [
    " layer_1 = tf.add(tf.matmul(x, weights['h1']), biases['b1'])\n",
    " # Hidden fully connected layer with 10 neurons\n",
    " layer_2 = tf.add(tf.matmul(layer_1, weights['h2']), biases['b2'])\n",
    " # Output fully connected layer with a neuron for each class\n",
    " out_layer = tf.matmul(layer_2, weights['out']) + biases['out']\n",
    " return out_layer"
   ]
  },
  {
   "cell_type": "markdown",
   "id": "28f3bbee-b703-4591-9aef-582b33377755",
   "metadata": {},
   "source": [
    "Next we call our function, define the loss objective, choose the optimizer\n",
    "that would be used to train the model and initialise all variables."
   ]
  },
  {
   "cell_type": "code",
   "execution_count": null,
   "id": "64036f2f-8f0a-4712-8dc9-a331e41756e9",
   "metadata": {},
   "outputs": [],
   "source": [
    "# Construct model\n",
    "logits = neural_net(X)\n",
    "# Define loss and optimizer\n",
    "loss_op = tf.reduce_mean(tf.nn.softmax_cross_entropy_with_logits(\n",
    " logits=logits, labels=Y))\n",
    "optimizer = tf.train.AdamOptimizer(learning_rate=learning_rate)\n",
    "train_op = optimizer.minimize(loss_op)\n",
    "# Evaluate model (with test logits, for dropout to be disabled)\n",
    "correct_pred = tf.equal(tf.argmax(logits, 1), tf.argmax(Y, 1))\n",
    "accuracy = tf.reduce_mean(tf.cast(correct_pred, tf.float32))\n",
    "# Initialize the variables (i.e. assign their default value)\n",
    "init = tf.global_variables_initializer()"
   ]
  },
  {
   "cell_type": "markdown",
   "id": "13784041-580a-4deb-9462-4d4db888cced",
   "metadata": {},
   "source": [
    "Finally, we create a session, supply images in batches to the model for\n",
    "training and print the loss and accuracy for each mini-batch.\n"
   ]
  },
  {
   "cell_type": "code",
   "execution_count": null,
   "id": "c3993778-8b98-4b4f-918a-ea83ad27ed4e",
   "metadata": {},
   "outputs": [],
   "source": [
    "# Start training\n",
    "with tf.Session() as sess:\n"
   ]
  },
  {
   "cell_type": "code",
   "execution_count": null,
   "id": "922102a2-1f0f-41ea-b068-05cddc69634c",
   "metadata": {},
   "outputs": [],
   "source": [
    " # Run the initializer\n",
    " sess.run(init)"
   ]
  },
  {
   "cell_type": "code",
   "execution_count": null,
   "id": "8a410c37-2635-458b-adf1-497db2958b4c",
   "metadata": {},
   "outputs": [],
   "source": [
    "for step in range(1, num_steps+1):\n",
    " batch_x, batch_y = mnist.train.next_batch(batch_size)\n",
    " # Run optimization op (backprop)\n",
    " sess.run(train_op, feed_dict={X: batch_x, Y: batch_y})\n",
    " if step % display_step == 0 or step == 1:\n",
    " # Calculate batch loss and accuracy\n",
    " loss, acc = sess.run([loss_op, accuracy], feed_dict={X: batch_x,\n",
    " Y: batch_y})\n",
    "    \n",
    " print(\"Step \" + str(step) + \", Minibatch Loss= \" + \\\n",
    " \"{:.4f}\".format(loss) + \", Training Accuracy= \" + \\\n",
    " \"{:.3f}\".format(acc))\n",
    "\n",
    " print(\"Optimization Finished!\")\n",
    "    \n",
    "    \n",
    " # Calculate accuracy for MNIST test images\n",
    " print(\"Testing Accuracy:\", \\\n",
    " sess.run(accuracy, feed_dict={X: mnist.test.images,\n",
    " Y: mnist.test.labels}))"
   ]
  },
  {
   "cell_type": "markdown",
   "id": "30967156-1127-4de1-bbbe-f42e4547ccb6",
   "metadata": {},
   "source": [
    "The session was created using with , so it automatically closes after\n",
    "executing. This is the recommended way of running a session as we would\n",
    "not need to manually close it. Below is the output"
   ]
  },
  {
   "cell_type": "markdown",
   "id": "d3ca7bfa-e1c4-4db8-aa11-26c082948462",
   "metadata": {},
   "source": [
    "The loss drops to 0.4863 after training for 500 steps and we achieve an\n",
    "accuracy of 85% on the test set.\n",
    "Here is the code in full:\n",
    "    \n",
    "    # Parameters"
   ]
  },
  {
   "cell_type": "code",
   "execution_count": null,
   "id": "9da1827c-cf35-4b30-a941-16dce73933ff",
   "metadata": {},
   "outputs": [],
   "source": [
    "learning_rate = 0.1\n",
    "num_steps = 500\n",
    "batch_size = 128\n",
    "display_step = 100"
   ]
  },
  {
   "cell_type": "code",
   "execution_count": null,
   "id": "a6a83671-2e04-46cd-a48d-b286af51f82b",
   "metadata": {},
   "outputs": [],
   "source": [
    "# Network Parameters\n",
    "n_hidden_1 = 10 # 1st layer number of neurons\n",
    "n_hidden_2 = 10 # 2nd layer number of neurons\n",
    "num_input = 784 # MNIST data input (img shape: 28*28)\n",
    "num_classes = 10 # MNIST total classes (0-9 digits)"
   ]
  },
  {
   "cell_type": "code",
   "execution_count": null,
   "id": "d0c2d4eb-6633-4b70-992d-11d7ff8d0cbc",
   "metadata": {},
   "outputs": [],
   "source": [
    "# tf Graph input\n",
    "X = tf.placeholder(\"float\", [None, num_input])\n",
    "Y = tf.placeholder(\"float\", [None, num_classes])\n"
   ]
  },
  {
   "cell_type": "code",
   "execution_count": null,
   "id": "5a6a9bce-9abb-4fbe-b49d-a815035b3d8d",
   "metadata": {},
   "outputs": [],
   "source": [
    "# Store layers weight & bias\n",
    "weights = {\n",
    " 'h1': tf.Variable(tf.random_normal([num_input, n_hidden_1])),\n",
    " 'h2': tf.Variable(tf.random_normal([n_hidden_1, n_hidden_2])),\n",
    " 'out': tf.Variable(tf.random_normal([n_hidden_2, num_classes]))\n",
    "}\n",
    "biases = {\n",
    " 'b1': tf.Variable(tf.random_normal([n_hidden_1])),\n",
    " 'b2': tf.Variable(tf.random_normal([n_hidden_2])),\n",
    " 'out': tf.Variable(tf.random_normal([num_classes]))\n",
    "}\n"
   ]
  },
  {
   "cell_type": "code",
   "execution_count": null,
   "id": "69eb045f-fd02-485f-9e28-e4aed2899020",
   "metadata": {},
   "outputs": [],
   "source": [
    "# Create model\n",
    "def neural_net(x):\n",
    " # Hidden fully connected layer with 10 neurons\n",
    " layer_1 = tf.add(tf.matmul(x, weights['h1']), biases['b1'])\n",
    " # Hidden fully connected layer with 10 neurons\n",
    " layer_2 = tf.add(tf.matmul(layer_1, weights['h2']), biases['b2'])\n",
    " # Output fully connected layer with a neuron for each class\n",
    " out_layer = tf.matmul(layer_2, weights['out']) + biases['out']"
   ]
  },
  {
   "cell_type": "code",
   "execution_count": null,
   "id": "aed4a16e-e1f2-43c3-8eaa-0e5360c64187",
   "metadata": {},
   "outputs": [],
   "source": [
    " return out_layer\n",
    "\n",
    "# Construct model\n",
    "logits = neural_net(X)\n",
    "\n",
    "# Define loss and optimizer\n",
    "loss_op = tf.reduce_mean(tf.nn.softmax_cross_entropy_with_logits(\n",
    " logits=logits, labels=Y))\n",
    "optimizer = tf.train.AdamOptimizer(learning_rate=learning_rate)\n",
    "train_op = optimizer.minimize(loss_op)\n",
    "\n",
    "# Evaluate model (with test logits, for dropout to be disabled)\n",
    "correct_pred = tf.equal(tf.argmax(logits, 1), tf.argmax(Y, 1))\n",
    "accuracy = tf.reduce_mean(tf.cast(correct_pred, tf.float32))"
   ]
  },
  {
   "cell_type": "code",
   "execution_count": null,
   "id": "8f114e12-55b7-4c63-8b4c-6afcb26499b8",
   "metadata": {},
   "outputs": [],
   "source": [
    "# Initialize the variables (i.e. assign their default value)\n",
    "init = tf.global_variables_initializer()"
   ]
  },
  {
   "cell_type": "code",
   "execution_count": null,
   "id": "99e8aef8-0d66-4b27-90ad-26bee815cfab",
   "metadata": {},
   "outputs": [],
   "source": [
    "# Start training\n",
    "with tf.Session() as sess:\n",
    " # Run the initializer\n",
    " sess.run(init)"
   ]
  },
  {
   "cell_type": "code",
   "execution_count": null,
   "id": "b97092bd-109d-424d-bb3c-d163b48272cd",
   "metadata": {},
   "outputs": [],
   "source": [
    " for step in range(1, num_steps+1):\n",
    " batch_x, batch_y = mnist.train.next_batch(batch_size)\n",
    " # Run optimization op (backprop)\n",
    " sess.run(train_op, feed_dict={X: batch_x, Y: batch_y})\n",
    " if step % display_step == 0 or step == 1:\n",
    " # Calculate batch loss and accuracy\n",
    " loss, acc = sess.run([loss_op, accuracy], feed_dict={X: batch_x,\n",
    " Y: batch_y})\n",
    " print(\"Step \" + str(step) + \", Minibatch Loss= \" + \\\n",
    " \"{:.4f}\".format(loss) + \", Training Accuracy= \" + \\\n",
    " \"{:.3f}\".format(acc))"
   ]
  },
  {
   "cell_type": "code",
   "execution_count": null,
   "id": "129821b7-377d-4a63-8b0d-b70c537895d8",
   "metadata": {},
   "outputs": [],
   "source": [
    "print(\"Optimization Finished!\")\n",
    " # Calculate accuracy for MNIST test images\n",
    " print(\"Testing Accuracy:\", \\\n",
    " sess.run(accuracy, feed_dict={X: mnist.test.images,\n",
    " Y: mnist.test.labels}))"
   ]
  },
  {
   "cell_type": "code",
   "execution_count": null,
   "id": "9a689022-8dc4-4eef-8265-12fd7f37c7fe",
   "metadata": {},
   "outputs": [],
   "source": []
  },
  {
   "cell_type": "code",
   "execution_count": null,
   "id": "fbc05802-0d68-42c6-b137-616f7c28a292",
   "metadata": {},
   "outputs": [],
   "source": []
  },
  {
   "cell_type": "markdown",
   "id": "67a645e6-d93f-441f-8e8f-e37af089db8e",
   "metadata": {},
   "source": [
    "feed compare  optimization   - gradient descent\n",
    "\n",
    "is a derivative concept\n",
    "\n",
    "it means finding the smallest number or the minimum number. once it gets to the minimun the gradient stops . -0.3 is the desired minimum\n",
    "\n",
    "you start from any point and descend to the minmal\n",
    "\n",
    "f'(x) = 10x + 3\n",
    "x0 \n",
    "n(eta) = learning rate\n",
    "\n",
    "generally we want the learning rate to be high\n",
    "\n",
    "find the gradient descent using trial and error method\n",
    "\n",
    "x"
   ]
  },
  {
   "cell_type": "markdown",
   "id": "a6b7d4c6-b67f-4df0-9a09-d9e1d2b7c524",
   "metadata": {},
   "source": [
    "N- parameter gradient descent\n",
    "\n",
    "\n",
    "N-Dimentional\n",
    "\n",
    "xw + b = y\n",
    "model: xi w + b = yi -> ti\n",
    "\n",
    "ti = target\n",
    "\n",
    "two types of loss function\n",
    "\n",
    "optimization algorithm\n",
    "\n",
    "tunning \n",
    "\n",
    "The learning rate is one of the parameters very \n",
    "important in training neural network\n",
    "\n",
    "the learning rate is an optimization tuning parameter..\n",
    "\n",
    "back propagation is an algorithm used to to determine input features.\n",
    "can be thought of as the chain rule derivaties applied accross layers \n",
    "\n",
    "it worked with chain room derivative.\n",
    "\n",
    "The library is a soft ware that you can use across a range of task\n",
    "\n",
    "tensoflow is used for training neural network."
   ]
  },
  {
   "cell_type": "code",
   "execution_count": null,
   "id": "ceb2fbe9-fcbd-4080-a700-eb5121838296",
   "metadata": {},
   "outputs": [],
   "source": [
    "#!pip install -q git+https://github.com/tensorflow/examples.git"
   ]
  },
  {
   "cell_type": "markdown",
   "id": "6149365c-0601-411a-b135-a54070142f3e",
   "metadata": {},
   "source": [
    "Tensowflow is very important for neural networkimport MNIST data \n",
    "it is used for training models\n",
    "various image processing sysytems\n",
    "\n",
    "Tensowflow is designed for training neural network models"
   ]
  },
  {
   "cell_type": "markdown",
   "id": "fd07ad55-f94e-435d-ada6-58964db6615c",
   "metadata": {},
   "source": [
    "### Week 13 day 2 : MInimal Examples"
   ]
  },
  {
   "cell_type": "markdown",
   "id": "273e9bf4-b64e-4a55-8cc8-c7a86168fe24",
   "metadata": {},
   "source": [
    "#### Outline"
   ]
  },
  {
   "cell_type": "markdown",
   "id": "fd8c563e-768d-46d8-8b56-92679df0e0c8",
   "metadata": {},
   "source": [
    "#### Simple linera Regression minimal example"
   ]
  },
  {
   "cell_type": "markdown",
   "id": "4f58a6f2-5ea1-45cd-89f1-624a39bc89f0",
   "metadata": {},
   "source": [
    "+ We will be creating our first machine learning algorithm.\n",
    "We will build the model and we will feed it with input.\n",
    "What we expect from the algorithm is to learn the underlying relationship about the data.\n",
    "\n",
    "Here is how we are going to approach the problem.\n",
    "\n",
    "+ First we will import the necessary libraries from python for the problem at hand.\n",
    "\n",
    "+Second, we will generate random data to train them. We have decided to make this example with random data as we running the code will always yield different inputs , however,the model will remain the same.In this way ,you can see the same methodology applied for a potentially infinite number of dataset as this simple examples is the basis for more sophisticated machine learning algorithms.\n",
    "It is more important to see how it works and prove that it works and acquire dep insight.\n",
    "we wil leave the wao effect for a bit later when we will deal with deep learning.\n",
    "\n",
    "+ Third , we will create the targets, these are the correct values,in our apartment example they will be the actual prices properties have. Essentially ,we will use fixed targets to be sure there is a linear relationship. In this way , when we train the algorithm we will be certain about the dependence it has to learn.\n",
    "That is a god way to prove that the optimization is actually working. We know where we want to get by creating fake targets which we would like the algorithm to figure on its ownm if he does that then we can be certain it works .\n",
    "\n",
    "+ Fourth, we will plot the training data so we can visually see it . This is the preparation phase of the lesson.\n",
    "\n",
    "In the second part, we will define the variables we need.\n",
    "\n",
    "+ fifth, we must create weigths.\n",
    "\n",
    "+ sixth, Create biases.\n",
    "\n",
    "+ seveth,Set a learning rate.\n",
    "\n",
    "At the end, we will conclude with an actual regression.\n",
    "\n",
    "Along the way, each line of code will be explained to make sure that everything is understood."
   ]
  },
  {
   "cell_type": "markdown",
   "id": "3e417433-6de5-4947-8342-5bbe37ae6197",
   "metadata": {},
   "source": [
    "The relevant python libraries are numpy and matplotlib.pyplot .\n",
    "\n",
    "Generally, numpy contains all the mathematical operations you will need.\n",
    "Moreover, it is extremely fast and because of this two reasons it is heavily used in data science.\n",
    "\n",
    "Matplot lib is a library used for plotting data. it provides a nice interface and requires very few arguement. it is helpful when plotting data.It creates nice graphs\n",
    "\n",
    "finally, we will import the mpl_toolkits.mplot3d as it provides us with the ability to create nice 3d graphs.\n",
    "\n",
    "This is the tool we will use to visualize the operations we are carrying out.\n",
    "\n",
    "pyplot and mplot 3d are not essential for themachine learning algorithm, the will just provide us wtih good looking plots of our data.\n",
    "\n",
    "This will provide us with an intuition about what is going on there.\n",
    "Any how , numpy is sufficient in bringing a nice algorithm on its own"
   ]
  },
  {
   "cell_type": "markdown",
   "id": "3f73e893-bf61-4343-a057-fa0a3f17b77e",
   "metadata": {},
   "source": [
    "#### Generating the data (optional)"
   ]
  },
  {
   "cell_type": "markdown",
   "id": "a287ecbc-54da-4a1b-863c-b035314d38ad",
   "metadata": {},
   "source": [
    "WE will be genrating the data we will train on. This step is now part of the machine learning algorithm. Essentially, we will create a fake data with a linear realtionship. Once again we will do that to prove that the methodology is working.\n",
    "\n",
    "In real life, we will normally load the data from some external source.\n",
    "\n",
    "+ Generating the data:\n",
    "\n",
    "1.Declare a variable called observations\n",
    "This variable willcontain the size of the data set  we want o generate.\n",
    "Let's work with 1000 observations\n",
    "You can do the same with 100,000 or 10 million if you like.\n",
    "Note, that this choice will affect the speed of the algorithm.\n",
    "\n",
    "You can play around with the number  of observations , you can try 100,000 or 10 million if you like. But be careful as 10 milion may cause computers to feeze!\n",
    "\n",
    "We will create a two variable linear model called x and z\n",
    "f(x,z) = a*x + b* z + c\n",
    "\n",
    "Let's work on the inputs\n",
    "We will use the numpy method np.random.uniform(low,high,size)draw a random value from a specified interval  (low,high),where each number has an equal chance to be selected.\n",
    "This method requires three arguement:\n",
    "\n",
    "i. The lowest point of the interval\n",
    "\n",
    "ii. The highest point of the interval\n",
    "\n",
    "Iii.The size(shape)\n",
    "\n",
    "The size is actually the shape we want to generate the data, lets choose an interval from -10 to 10( you can play around with these numbers for homework.\n"
   ]
  },
  {
   "cell_type": "markdown",
   "id": "065b5a75-1d80-4880-8042-5cdb6e60afb3",
   "metadata": {},
   "source": [
    "According to our theorem , the appropraite size is the number of observations by the number of variables.\n",
    "\n",
    "so observations by 1 as we are only talking about one varaible x.\n",
    "\n",
    "We will generate the z's in the same manner\n",
    "\n",
    "size =  n            x         k\n",
    "     number of                 number of \n",
    "     observations              variables\n",
    "     \n",
    "These are the two input variables we will feed to the algorithm   .\n",
    "\n",
    "Lets combine them in one matrix called inputs, As the theorem suggested, the input matrix should be of shape, the number of observations by the number of variables or 1000 x 2\n",
    "\n",
    "From the linear model \n",
    "inputs = n x 1 = 1000 x 2\n",
    "\n",
    "The appropriate method to use is np column stack , it literally stacks the observations into a matrix. This results in a matrix 1000 by 2\n",
    "\n",
    "np.column_stack(appropriate turples)takes a sequence of !D arrays and stacks them into a single 2D array/\\.\n",
    "\n",
    "Dimensionality is very important in linear algebra.\n",
    "We can only multiply matricesthat are compatible .\n",
    "\n",
    "We want to make sure we can multiply x times w since our linear model relies on that.\n",
    "\n",
    "In this lecture , we will print the shape of each variable , using the shape method to make sure we are working properly.\n",
    "\n",
    "The approriate method is the object in question .shape, As expected , input is a matrix of size 1000 x 2"
   ]
  },
  {
   "cell_type": "markdown",
   "id": "5c380285-f0db-4587-9255-3926f5aba765",
   "metadata": {},
   "source": [
    "In supervised learning we must note, two major parameters : Inputs and targets\n",
    "\n",
    "We also need to generate targets\n",
    "\n",
    "the weigths and the biases are varied through the algorithm \n",
    "And the outputs are the results from the model employed, we will leave them for the computer. since we have only seen the linear model , we will do that in alinear model friendly way.\n",
    "\n",
    "Say our target will be defined by a function f(x)\n",
    "\n",
    "targets = F(x,z) = 2 * x - 3* z + 5 + noise\n",
    "(completely, arbitrary chosen , you can try different functions for homework)\n",
    "Conceptually , the algorithm mus learn that this is the function. the weigths are 2 and -3 and the bias is 5, that's the correct result. if we don't get that as the result, we haven't worked properly.\n",
    "\n",
    "\n",
    "targets = f(x,z) 2*X - 3*z + 5 + noise\n",
    "\n",
    "                  w1    w2   b      \n",
    "\n",
    "You may be wondering about the noise. It is introduced to randomize our data a bit.\n",
    "Real data always contains noise.\n",
    "It's never perfect.\n",
    "\n",
    "Introducing some small noise will make the data a bit random but the underlying linear relationship will be retained.\n",
    "\n",
    "Let's decalre the noise variable using the random. uniform vaiable once again.\n",
    "I will constraint it from -1 to +1 and it's size will match the sizes of the  x's and z's.\n",
    "\n",
    "The target value will be given according to the function we want it.\n",
    "\n",
    "The proper line of code is \n",
    "\n",
    "targets = f(x,z) 2*X - 3*z + 5 + noise\n",
    "\n",
    "                        \n",
    "The targets or a linear combination of two vectors ,1000 by 1 , a scaler an d noise, 1000 by 1 , the shape shoulfd be 1000 by 1\n",
    "We have our input and the desired targts .\n",
    "It is time to create our algorithm"
   ]
  },
  {
   "cell_type": "markdown",
   "id": "99fb5eb8-4117-45c5-b739-39a1968fa80c",
   "metadata": {},
   "source": [
    "targets =f(x,z) 2* X -3*z +  5 + noise\n",
    "\n",
    "1000X1         1000X1 1000X1 scalar 1000X1"
   ]
  },
  {
   "cell_type": "markdown",
   "id": "64cda512-113f-4ac2-955e-2f2d042309e9",
   "metadata": {
    "tags": []
   },
   "source": [
    "#### Initializing the variables"
   ]
  },
  {
   "cell_type": "markdown",
   "id": "722f511b-e4f7-41b3-8e7d-47463016197d",
   "metadata": {},
   "source": [
    "From the #D plot we can see that thier is a strong linear relationship.\n",
    "Note, that  Simple linear problems are quite visual so we can afford to plot them. let's re-examine the linear model. \n",
    "y = xw + b\n",
    "\n",
    "Our algorithm will try to find such values for w and b so the output y are closest to the target.\n",
    "\n",
    "Remember when we performed the gradient descent we started from arbitrary number then proceeded.\n",
    "Well we must do thesame thing now however , this is tricky, conventionally , we dont want to start from an arbitrary number we choose ,rather we randomly select small initial weigths. so we declare a variable called init_range and set it to 0.1.\n",
    "\n",
    "'Our initial weigths and biases will be picked randomly from the interval \n",
    "[ -0, 1,0. 1  ]\n",
    "\n",
    "that will be the radius of the range we will use to initialize the weigth and the biases.\n",
    "Our initial weigths and biases will be picked randomly from the interval -0.1 to 0.1.\n",
    "\n",
    "We will generate them as we did so far by using the random.uniform method.\n",
    "\n",
    "The size of the weigth matrix is 2 x 1 as we have 2 variables so there are two weights , one for each input variable and a single output.\n",
    "\n",
    "Let's declare the bias analogically, the appropriate shape is 1 X 1, so the bias is a scalar.  In machine learning, there are many biases as there are outputs.\n",
    "\n",
    "Each  bias refers to an output.\n",
    "If you recall the example we saw earlier about apartment prices and apartment rents, it involves two biases as there were two outputs. Let's put the weigth and biases so you see how they look like. They are small and close to zero.\n",
    "\n",
    "The first two output is the weigth(-0.02758852, - 0.0355697811)and the last is the bias (-0.05488636)"
   ]
  },
  {
   "cell_type": "markdown",
   "id": "2bfdf16d-1ce3-4895-9c35-f290de7b1bc4",
   "metadata": {},
   "source": [
    "##### Import the relevant libraries"
   ]
  },
  {
   "cell_type": "code",
   "execution_count": 1,
   "id": "e9953839-89d5-4010-b08f-9a25be8c439c",
   "metadata": {},
   "outputs": [],
   "source": [
    "import numpy as np\n",
    "import matplotlib.pyplot as plt\n",
    "from mpl_toolkits.mplot3d import Axes3D"
   ]
  },
  {
   "cell_type": "markdown",
   "id": "dff73eed-bf15-4f5e-a775-77d7df0a9ff6",
   "metadata": {},
   "source": [
    "##### Generate random input data to train on"
   ]
  },
  {
   "cell_type": "code",
   "execution_count": 2,
   "id": "ea0926bf-5835-4646-86af-285c2244db12",
   "metadata": {},
   "outputs": [
    {
     "name": "stdout",
     "output_type": "stream",
     "text": [
      "(1000, 2)\n"
     ]
    }
   ],
   "source": [
    "observations = 1000\n",
    "\n",
    "xs=np.random.uniform(low=-10,high=10,size=(observations,1))\n",
    "zs=np.random.uniform(-10,10,(observations,1))\n",
    "\n",
    "inputs = np.column_stack((xs,zs))\n",
    "print (inputs.shape)"
   ]
  },
  {
   "cell_type": "code",
   "execution_count": null,
   "id": "a2f39a5f-91cd-4ab3-80d8-9bbc7b41aa0a",
   "metadata": {},
   "outputs": [],
   "source": [
    "# targets = f(x,z) = 2*X-3*z + 5 + noise"
   ]
  },
  {
   "cell_type": "markdown",
   "id": "7f38fb6a-28ec-42e2-b962-67345144ec9c",
   "metadata": {},
   "source": [
    "##### Create the targets we will aim at"
   ]
  },
  {
   "cell_type": "code",
   "execution_count": 3,
   "id": "4ad8033a-449c-4ef3-8ae4-56e0f3905fd6",
   "metadata": {},
   "outputs": [
    {
     "name": "stdout",
     "output_type": "stream",
     "text": [
      "(1000, 1)\n"
     ]
    }
   ],
   "source": [
    "noise= np.random.uniform(-1,1,(observations,1))\n",
    "\n",
    "targets = 2*xs-3*zs + 5 + noise\n",
    "                              \n",
    "print(targets.shape)                           "
   ]
  },
  {
   "cell_type": "markdown",
   "id": "70f383b7-fb28-4c95-9b75-7e7d8dc1f16d",
   "metadata": {
    "tags": []
   },
   "source": [
    "##### Plot the training data"
   ]
  },
  {
   "cell_type": "markdown",
   "id": "098d667b-0489-46a7-9db1-89e212448db4",
   "metadata": {},
   "source": [
    "The point is to see that there is a strong trend that our model should learn to reproduce"
   ]
  },
  {
   "cell_type": "code",
   "execution_count": 4,
   "id": "24ccdb79-ee00-4d98-b161-a9cbb1227efd",
   "metadata": {},
   "outputs": [
    {
     "ename": "ValueError",
     "evalue": "operands could not be broadcast together with remapped shapes [original->remapped]: (1000,)  and requested shape (1000,1)",
     "output_type": "error",
     "traceback": [
      "\u001b[1;31m---------------------------------------------------------------------------\u001b[0m",
      "\u001b[1;31mValueError\u001b[0m                                Traceback (most recent call last)",
      "\u001b[1;32m~\\AppData\\Local\\Temp/ipykernel_12084/3155651701.py\u001b[0m in \u001b[0;36m<module>\u001b[1;34m\u001b[0m\n\u001b[0;32m     13\u001b[0m \u001b[1;33m\u001b[0m\u001b[0m\n\u001b[0;32m     14\u001b[0m \u001b[1;31m# Choose the axes\u001b[0m\u001b[1;33m\u001b[0m\u001b[1;33m\u001b[0m\u001b[0m\n\u001b[1;32m---> 15\u001b[1;33m \u001b[0max\u001b[0m\u001b[1;33m.\u001b[0m\u001b[0mplot\u001b[0m\u001b[1;33m(\u001b[0m\u001b[0mxs\u001b[0m\u001b[1;33m,\u001b[0m \u001b[0mzs\u001b[0m\u001b[1;33m,\u001b[0m \u001b[0mtargets\u001b[0m\u001b[1;33m)\u001b[0m\u001b[1;33m\u001b[0m\u001b[1;33m\u001b[0m\u001b[0m\n\u001b[0m\u001b[0;32m     16\u001b[0m \u001b[1;33m\u001b[0m\u001b[0m\n\u001b[0;32m     17\u001b[0m \u001b[1;31m# Set labels\u001b[0m\u001b[1;33m\u001b[0m\u001b[1;33m\u001b[0m\u001b[0m\n",
      "\u001b[1;32m~\\anaconda3\\lib\\site-packages\\mpl_toolkits\\mplot3d\\axes3d.py\u001b[0m in \u001b[0;36mplot\u001b[1;34m(self, xs, ys, zdir, *args, **kwargs)\u001b[0m\n\u001b[0;32m   1568\u001b[0m \u001b[1;33m\u001b[0m\u001b[0m\n\u001b[0;32m   1569\u001b[0m         \u001b[1;31m# Match length\u001b[0m\u001b[1;33m\u001b[0m\u001b[1;33m\u001b[0m\u001b[0m\n\u001b[1;32m-> 1570\u001b[1;33m         \u001b[0mzs\u001b[0m \u001b[1;33m=\u001b[0m \u001b[0mnp\u001b[0m\u001b[1;33m.\u001b[0m\u001b[0mbroadcast_to\u001b[0m\u001b[1;33m(\u001b[0m\u001b[0mzs\u001b[0m\u001b[1;33m,\u001b[0m \u001b[0mnp\u001b[0m\u001b[1;33m.\u001b[0m\u001b[0mshape\u001b[0m\u001b[1;33m(\u001b[0m\u001b[0mxs\u001b[0m\u001b[1;33m)\u001b[0m\u001b[1;33m)\u001b[0m\u001b[1;33m\u001b[0m\u001b[1;33m\u001b[0m\u001b[0m\n\u001b[0m\u001b[0;32m   1571\u001b[0m \u001b[1;33m\u001b[0m\u001b[0m\n\u001b[0;32m   1572\u001b[0m         \u001b[0mlines\u001b[0m \u001b[1;33m=\u001b[0m \u001b[0msuper\u001b[0m\u001b[1;33m(\u001b[0m\u001b[1;33m)\u001b[0m\u001b[1;33m.\u001b[0m\u001b[0mplot\u001b[0m\u001b[1;33m(\u001b[0m\u001b[0mxs\u001b[0m\u001b[1;33m,\u001b[0m \u001b[0mys\u001b[0m\u001b[1;33m,\u001b[0m \u001b[1;33m*\u001b[0m\u001b[0margs\u001b[0m\u001b[1;33m,\u001b[0m \u001b[1;33m**\u001b[0m\u001b[0mkwargs\u001b[0m\u001b[1;33m)\u001b[0m\u001b[1;33m\u001b[0m\u001b[1;33m\u001b[0m\u001b[0m\n",
      "\u001b[1;32m<__array_function__ internals>\u001b[0m in \u001b[0;36mbroadcast_to\u001b[1;34m(*args, **kwargs)\u001b[0m\n",
      "\u001b[1;32m~\\anaconda3\\lib\\site-packages\\numpy\\lib\\stride_tricks.py\u001b[0m in \u001b[0;36mbroadcast_to\u001b[1;34m(array, shape, subok)\u001b[0m\n\u001b[0;32m    409\u001b[0m            [1, 2, 3]])\n\u001b[0;32m    410\u001b[0m     \"\"\"\n\u001b[1;32m--> 411\u001b[1;33m     \u001b[1;32mreturn\u001b[0m \u001b[0m_broadcast_to\u001b[0m\u001b[1;33m(\u001b[0m\u001b[0marray\u001b[0m\u001b[1;33m,\u001b[0m \u001b[0mshape\u001b[0m\u001b[1;33m,\u001b[0m \u001b[0msubok\u001b[0m\u001b[1;33m=\u001b[0m\u001b[0msubok\u001b[0m\u001b[1;33m,\u001b[0m \u001b[0mreadonly\u001b[0m\u001b[1;33m=\u001b[0m\u001b[1;32mTrue\u001b[0m\u001b[1;33m)\u001b[0m\u001b[1;33m\u001b[0m\u001b[1;33m\u001b[0m\u001b[0m\n\u001b[0m\u001b[0;32m    412\u001b[0m \u001b[1;33m\u001b[0m\u001b[0m\n\u001b[0;32m    413\u001b[0m \u001b[1;33m\u001b[0m\u001b[0m\n",
      "\u001b[1;32m~\\anaconda3\\lib\\site-packages\\numpy\\lib\\stride_tricks.py\u001b[0m in \u001b[0;36m_broadcast_to\u001b[1;34m(array, shape, subok, readonly)\u001b[0m\n\u001b[0;32m    346\u001b[0m                          'negative')\n\u001b[0;32m    347\u001b[0m     \u001b[0mextras\u001b[0m \u001b[1;33m=\u001b[0m \u001b[1;33m[\u001b[0m\u001b[1;33m]\u001b[0m\u001b[1;33m\u001b[0m\u001b[1;33m\u001b[0m\u001b[0m\n\u001b[1;32m--> 348\u001b[1;33m     it = np.nditer(\n\u001b[0m\u001b[0;32m    349\u001b[0m         \u001b[1;33m(\u001b[0m\u001b[0marray\u001b[0m\u001b[1;33m,\u001b[0m\u001b[1;33m)\u001b[0m\u001b[1;33m,\u001b[0m \u001b[0mflags\u001b[0m\u001b[1;33m=\u001b[0m\u001b[1;33m[\u001b[0m\u001b[1;34m'multi_index'\u001b[0m\u001b[1;33m,\u001b[0m \u001b[1;34m'refs_ok'\u001b[0m\u001b[1;33m,\u001b[0m \u001b[1;34m'zerosize_ok'\u001b[0m\u001b[1;33m]\u001b[0m \u001b[1;33m+\u001b[0m \u001b[0mextras\u001b[0m\u001b[1;33m,\u001b[0m\u001b[1;33m\u001b[0m\u001b[1;33m\u001b[0m\u001b[0m\n\u001b[0;32m    350\u001b[0m         op_flags=['readonly'], itershape=shape, order='C')\n",
      "\u001b[1;31mValueError\u001b[0m: operands could not be broadcast together with remapped shapes [original->remapped]: (1000,)  and requested shape (1000,1)"
     ]
    },
    {
     "data": {
      "image/png": "[encoded data removed]",
      "text/plain": [
       "<Figure size 432x288 with 1 Axes>"
      ]
     },
     "metadata": {
      "needs_background": "light"
     },
     "output_type": "display_data"
    }
   ],
   "source": [
    "# In other to use the 3D plot, the objects should have a certain shape, so \n",
    "# The proper method to use is reshape and takes as arguements the dimensions\n",
    "\n",
    "targets = targets.reshape(observations,)\n",
    "\n",
    "# plotting according to the convertional matplotlib.pyplot syntax\n",
    "\n",
    "# Declare the figure\n",
    "fig = plt.figure()\n",
    "\n",
    "# A method allowing us to create the 3D plot\n",
    "ax = fig.add_subplot(111, projection='3d')\n",
    "\n",
    "# Choose the axes\n",
    "ax.plot(xs, zs, targets)\n",
    "\n",
    "# Set labels\n",
    "ax.set_xlabel('xs')\n",
    "ax.set_ylabel('zs')\n",
    "ax.set_zlabel('Targets')\n",
    "\n",
    "# You can fiddle with the azim parameter to  plot the dat from diferent angles .Just change the value of azim=100\n",
    "# to azim = 0 ; azim = 200, or whatever. Check and see what happens.\n",
    "ax.view_init(azim=100)\n",
    "\n",
    "# So far we were just describing the plot. This mehod actually shows the plot.\n",
    "plt.show()\n",
    "targets = targets.reshape(observations,1)"
   ]
  },
  {
   "cell_type": "code",
   "execution_count": null,
   "id": "fdd73d75-76a6-485c-b6f2-dee80a032fc3",
   "metadata": {},
   "outputs": [],
   "source": [
    "# Linear relationship in 2D isa straight line.\n",
    "# Linear relationship in 3D is a plane(like in the graph)"
   ]
  },
  {
   "cell_type": "markdown",
   "id": "ebfa19df-b22c-4c57-8a14-0cd4420a91bf",
   "metadata": {},
   "source": [
    "##### Initializing the variables"
   ]
  },
  {
   "cell_type": "code",
   "execution_count": 5,
   "id": "5501b194-70b9-40dd-b35c-d2bfd24e49db",
   "metadata": {},
   "outputs": [
    {
     "name": "stdout",
     "output_type": "stream",
     "text": [
      "[[ 0.00578878]\n",
      " [-0.03779326]]\n",
      "[0.93875556]\n"
     ]
    }
   ],
   "source": [
    "init_range = 0.1\n",
    "\n",
    "weights = np.random.uniform(-init_range,init_range, size=(2,1))\n",
    "\n",
    "biases = np.random.uniform(-init_range,size=1)\n",
    "\n",
    "print(weights)\n",
    "print(biases)"
   ]
  },
  {
   "cell_type": "markdown",
   "id": "74b3b94a-0a1a-4b84-ab3c-6b3dd7c00c73",
   "metadata": {},
   "source": [
    "### Set a learning rate"
   ]
  },
  {
   "cell_type": "code",
   "execution_count": 7,
   "id": "0e7ee442-0b61-4949-8b8e-a2d85ae30b01",
   "metadata": {},
   "outputs": [],
   "source": [
    "learning_rate = 0.02"
   ]
  },
  {
   "cell_type": "markdown",
   "id": "42780e64-9d06-4258-8164-abd8f961ff5b",
   "metadata": {},
   "source": [
    "Finally , we must asssign a learning rate which we denoted with eta earlier. This learning rate is useful for this demonstartion(nothing special about it)\n",
    "\n",
    "For home work you can play around with it so as to see how eta works and how different learning rate effects the speed of optimization .\n",
    "\n",
    "We are now set, we have inputs ,, targets and arbitrary numbers for weigth and biases.  What is left is to vary the weight and biases so that our output are closest to the target.\n",
    "\n",
    "\n",
    "as we know by now,the problem boils down to minimizing the loss function with respect to weigth and biases and because this is a regression we use one last, the L2-norm function.\n",
    "\n",
    "next, let's make our model learn"
   ]
  },
  {
   "cell_type": "markdown",
   "id": "476b7286-1570-4e87-908f-d3a08509f782",
   "metadata": {
    "tags": []
   },
   "source": [
    "### Train the model"
   ]
  },
  {
   "cell_type": "markdown",
   "id": "f3af5e89-7dac-4e57-a0f2-e9701004a118",
   "metadata": {},
   "source": [
    "Since this is an iterative problem we must create a loop and alculate the loss function. We will use a fore loop with 100 iterations to complete this task.\n",
    "\n",
    "Game plan for each iteration :\n",
    "\n",
    "+ Calculate outputs \n",
    "At each iteration we will calculate the output \n",
    "\n",
    "+ compare outputs to the target through the loss function\n",
    "\n",
    "+ Print the loss\n",
    "We will print the loss for each iteration so we know how the algorithm is doing\n",
    "\n",
    "+ Adjust the weigth and biases to get a better fit of the data\n",
    "\n",
    "At the next iteration, this updated  weigth and biases will provide different output, then the procedure will be repeated.\n",
    "\n",
    "The out put creation is done following the well known linear model creation.\n",
    "\n",
    "The outputs are equal to the inputs times the weigth plus the biases.\n",
    "\n",
    "Multiplying matrices requires the dot method. we will use the numpy one\n",
    "\n",
    "np.dot(A,B) is a method used for multiplying matrices.\n",
    "Alternatively, we can use the A.dot(B) to perform the same operation.\n",
    "Now, the dot product of the input is 1000 X 2 * 2 X 1 so is a 100 X 1 matrix.\n",
    "\n",
    "When we add the bias which is the csalar , python has the element wise.\n",
    "\n",
    "This means it is added to each element of the output matrix \n",
    "Outputs = np.dot(inputs,weigths) + biases\n",
    "  |                |      |          |\n",
    "1000X1           1000X2  2X1       Scalar\n",
    "\n",
    "For simplicity lets declar a variable called deltas which will recall the difference between the outputs and the targets.\n",
    "\n",
    "We already introduced such variable in the gradient descent lecture.\n",
    "\n",
    "deltas = output - targets\n",
    "\n",
    "1000X1    1000X1   1000X1\n",
    "\n",
    "This is useful as it is part of the update rule\n",
    "\n",
    "Then we must calculate the loss, we said we will use the L2-norm loss.\n",
    "\n",
    "Pythonically speaking, deltas is a 1000 X 1  array. We are interested in the sum of its terms  \"sqaured\", following the formula for the L2-norm loss.\n",
    "\n",
    "Σi(yi-ti)2\n",
    "\n",
    "There is a numpy method called sum which will allow us to sum all the variabless in the array.\n",
    "\n",
    "np.sum(a) ia s method that allows us to sum  all the values in the array.\n",
    "\n",
    "The L2- norm requires this values to be squared.\n",
    "the code looks like this , then divide the whole expression by 2 to get the elegant update rule from the gradient descent.let's further augument the loss by dividing it by the number of observations we have. This will give us the average loss per observation or the mean loss. similarly, to the division by 2, this dooes not change the logic of the loss function. It is still lower than some accurate result will be obtained. this little improvement makes the learning independent of the number of observations.\n",
    "\n",
    "\" Division by a constant doesn't change the value of the loss as it is still lower for some more accurate result that will be obtained\" \n",
    "\n",
    "loss = np.som(deltas**2 )/ 2 / observations.\n",
    "\n",
    "\n",
    "Instead of adjusting the learning rate,we adjust the loss. That' valuable as thesame learning rate should give us similar results for both 1000 and 1 million observations.\n",
    "\n",
    "We will print the loss as we obtained at each step, as we want to keep an eye on whether it is decreasing as iterations are performed .\n",
    "\n",
    "If it is decreasing , our machine learning algorithm functions well.\n",
    "\n",
    "Finally, we must update the weigth and biases so that they are ready for the next generation\n",
    "\n",
    "Using thesame rescaliing tricks, i will also rescale the deltas.\n",
    "This is yet another way to make the algorithm more universal so the new variable is \n",
    "deltas_scaled= deltas / observations\n",
    "\n",
    "We will follow the gradient descent logic to update the weigth.\n",
    "\n",
    "The new weigth = old weigth minus the learning rate times the dot products of the input and the deltas _ scaled"
   ]
  },
  {
   "cell_type": "markdown",
   "id": "51a55604-3d79-4508-a4b4-bd6b5185744d",
   "metadata": {},
   "source": [
    "Let's update the weigths\n",
    "\n",
    "wi + wi - η Σi xiδi\n",
    "\n",
    "Note, that algebraically , dot product means sum of products"
   ]
  },
  {
   "cell_type": "markdown",
   "id": "323a4811-2c71-472f-ae61-4735e88a3ed0",
   "metadata": {},
   "source": [
    "weigths= \n",
    "2X1\n",
    "\n",
    "\n",
    "weigths - learning_rate * np.dot \n",
    "2X1          Scalar\n",
    "\n",
    "(inputs,deltas_scaled)\n",
    "1000 X2      100)X1"
   ]
  },
  {
   "cell_type": "markdown",
   "id": "6a0c78a6-3d93-4f51-8fdf-13e35e8d79ef",
   "metadata": {},
   "source": [
    "We cannot simply multiply the inputs and the deltas. This is an issue that may arise ocassionally due to the linear algebra involved.To fix it we must transpose the imput matirx using the object .T method\n",
    "\n",
    "\"inputs.T is a method used for transposing matrices\"\n",
    "\n",
    "Now the matrices are compatible\n",
    "\n",
    "2 X 1000  X 1000 X 1 = 2 X 1\n",
    "\n",
    "\n",
    "Weigths= \n",
    "2X1\n",
    "\n",
    "\n",
    "weigths - learning_rate * np.dot \n",
    "2X1          Scalar\n",
    "\n",
    "(inputs.T,deltas_scaled)\n",
    "             2 X 1"
   ]
  },
  {
   "cell_type": "markdown",
   "id": "f7694c37-69fa-4656-9821-1e7c805f2ae8",
   "metadata": {},
   "source": [
    "Often when dealing with matrices, you find the correct way to code it through dimentionality check and Compability error, however, transposing matrices doesn't affect the information they hold, so we can do it freely"
   ]
  },
  {
   "cell_type": "markdown",
   "id": "866c2ce6-bfea-46d8-bf71-0c898223909e",
   "metadata": {},
   "source": [
    "Dimentionality check :\n",
    "\n",
    "print (weigths.shape, inputs.shape, deltas_scaled.shape\n",
    "\n",
    "\n",
    "Compatibility error:\n"
   ]
  },
  {
   "cell_type": "raw",
   "id": "911aa0c0-25d7-4c56-af9e-053721e7e411",
   "metadata": {},
   "source": [
    "A = 5\n",
    "    7\n",
    "    9\n",
    "    \n",
    "    \n",
    "AT   =  5  7  9    "
   ]
  },
  {
   "cell_type": "markdown",
   "id": "52e0de05-d3c7-432a-89c3-d0e5427fb454",
   "metadata": {},
   "source": [
    "Now , let's update the biases, the new bias is equal to the old biases minus the learning rate times the sum of the deltas as explained in the gradient descent lecture.\n",
    "\n",
    "bi + 1 = bi - η Σi δi\n",
    "\n",
    "This is the entire algorithm"
   ]
  },
  {
   "cell_type": "markdown",
   "id": "efb28960-1b86-4f1f-923f-556a6e29a11d",
   "metadata": {},
   "source": [
    "Let's recap what it does, \n",
    "first,it calculates the output for given weigth and biases\n",
    "\n",
    "Second,it calculates the loss function that compares the output to the target\n",
    "\n",
    "Third, it prints the loss so we can later analyze it.\n",
    "\n",
    "Fourth, we upate the weigth and the biases following the gradient descent methodology.\n",
    "\n",
    "When we run the code, what w get is a list of numbers that appears to be indescending order.\n",
    "\n",
    "these are the values of our average loss function.\n",
    "\n",
    "It started at a high value and at each iteration it became lower and lower until it reached the point where it almost stopped changing.\n",
    "\n",
    "This means we have almost minimized the loss function with respect to the weigth and biases.\n",
    "\n",
    "Therefore, we have found a linear function that fits the model well.\n",
    "\n",
    "The weight and the biases are optimized so are the outputs. Since the optimization process has ended we can check these values.\n",
    "\n",
    "Here we observe the values from the last iteration of the fore loop.\n",
    "\n",
    "The one that gave us the lowest loss function,\n",
    "\n",
    "In the memory of the computer, the weigth, biases and output variables are optimized as now.\n",
    "\n",
    "\"CONGRATULATIONS ! You have learnt how to create your first machine learning algorithm. "
   ]
  },
  {
   "cell_type": "code",
   "execution_count": 8,
   "id": "7bf228c2-b67e-42a1-9d3e-6195d5a6fd67",
   "metadata": {},
   "outputs": [
    {
     "name": "stdout",
     "output_type": "stream",
     "text": [
      "215338.56893899842\n",
      "2269638.4531803685\n",
      "744009868.1644828\n",
      "268533015371.95135\n",
      "96947863401390.97\n",
      "3.50008936253978e+16\n",
      "1.2636302794373343e+19\n",
      "4.562059186859486e+21\n",
      "1.647031126357358e+24\n",
      "5.9462436151719905e+26\n",
      "2.1467604688912212e+29\n",
      "7.750406490301115e+31\n",
      "2.7981137921701427e+34\n",
      "1.0101974398027474e+37\n",
      "3.647095662226635e+39\n",
      "1.3167036705250005e+42\n",
      "4.753668991823308e+44\n",
      "1.7162076319581002e+47\n",
      "6.195990173185164e+49\n",
      "2.2369259704553259e+52\n",
      "8.075929201684294e+54\n",
      "2.915636607202587e+57\n",
      "1.052626467241303e+60\n",
      "3.8002763334762693e+62\n",
      "1.3720061826517964e+65\n",
      "4.953326548000902e+67\n",
      "1.7882896011232775e+70\n",
      "6.4562262683374115e+72\n",
      "2.3308784886848227e+75\n",
      "8.415124103778848e+77\n",
      "3.038095465969836e+80\n",
      "1.0968375447014136e+83\n",
      "3.959890704364619e+85\n",
      "1.4296314405231282e+88\n",
      "5.161369866798319e+90\n",
      "1.8633990654364603e+93\n",
      "6.727392468820232e+95\n",
      "2.4287770810348935e+98\n",
      "8.76856543854184e+100\n",
      "3.1656976858999732e+103\n",
      "1.1429055195805187e+106\n",
      "4.126208994957355e+108\n",
      "1.4896770011501852e+111\n",
      "5.378151156346695e+113\n",
      "1.9416631818965165e+116\n",
      "7.009947847009679e+118\n",
      "2.530787485489573e+121\n",
      "9.136851566510349e+123\n",
      "3.298659291903886e+126\n",
      "1.1909083829211969e+129\n",
      "4.2995127747594785e+131\n",
      "1.5522445190095841e+134\n",
      "5.604037417774821e+136\n",
      "2.023214448188775e+139\n",
      "7.304370756655602e+141\n",
      "2.637082401148772e+144\n",
      "9.520605979799216e+146\n",
      "3.4372053820958656e+149\n",
      "1.2409274014465566e+152\n",
      "4.4800954394000574e+154\n",
      "1.617439918139937e+157\n",
      "5.8394110665259696e+159\n",
      "2.108190926997748e+162\n",
      "7.61115964271337e+164\n",
      "2.74784178060029e+167\n",
      "9.920478357645871e+169\n",
      "3.581570508874802e+172\n",
      "1.2930472551412018e+175\n",
      "4.668262707338037e+177\n",
      "1.6853735714665211e+180\n",
      "6.084670579770212e+182\n",
      "2.196736479741136e+185\n",
      "7.930833885189097e+187\n",
      "2.863253134571499e+190\n",
      "1.0337145666288311e+193\n",
      "3.731999076010966e+195\n",
      "1.3473561806107e+198\n",
      "4.8643331374300855e+200\n",
      "1.7561604876577995e+203\n",
      "6.340231171008709e+205\n",
      "2.289001010120861e+208\n",
      "8.263934678427068e+210\n",
      "2.9835118493767625e+213\n",
      "1.0771313305039081e+216\n",
      "3.88874575241081e+218\n",
      "1.4039461204622583e+221\n",
      "5.068638668236588e+223\n",
      "1.8299205058299712e+226\n",
      "6.606525493011752e+228\n",
      "2.385140717903385e+231\n",
      "8.611025947327788e+233\n",
      "3.1088215176978113e+236\n",
      "1.1223716300495107e+239\n",
      "4.052075903260149e+241\n",
      "1.4629128789594633e+244\n",
      "5.281525179979e+246\n",
      "1.9067784984293083e+249\n",
      "6.884004370280764e+251\n",
      "2.485318363359e+254\n",
      "8.972695302047778e+256\n"
     ]
    }
   ],
   "source": [
    "#create a loop with 100 iteration\n",
    "for i in range (100):\n",
    "    outputs = np.dot(inputs,weights) + biases\n",
    "    deltas = outputs - targets\n",
    "    \n",
    "    #deltas is 1000 x1 array\n",
    "    loss=np.sum(deltas ** 2) / 2 / observations\n",
    "    \n",
    "    print(loss)\n",
    "    \n",
    "    deltas_scaled=deltas / observations\n",
    "    \n",
    "    weights = weights - learning_rate * np.dot(inputs.T,deltas_scaled)\n",
    "    biases = biases - learning_rate * np.sum(deltas_scaled)"
   ]
  },
  {
   "cell_type": "markdown",
   "id": "9e2833be-c188-4868-9a60-2d8839134b44",
   "metadata": {},
   "source": [
    "###### Print weights and biases and see if we have worked correctly.\n",
    "\n",
    "The weight seems about right , the bias is close to 5 as we want it but not really, this is because we used few iterations or inappropriate learning rate.\n",
    "\n",
    "Let's re-run the code for the loop. this will continue optimizing the algorithm for another 100 iterations\n",
    "\n",
    "The sought dependence was : \n",
    "\n",
    "t = F( xs, zs) = 2 * XS - 3* zs + 5 + noise\n",
    "\n",
    "\n",
    "We can see that the bias improved when we increase the number of iterations increased.\n",
    "\n",
    "We strongly encourage you to play around with the code for homework.Try different\n",
    "\n",
    " 1) numbers of observations\n",
    " \n",
    " 2) learning rate \n",
    " \n",
    " 3) number of iterations\n",
    " \n",
    " May be initial range for initializing the weight and biases "
   ]
  },
  {
   "cell_type": "code",
   "execution_count": 9,
   "id": "f41c18d1-c67f-4f93-9813-3b326a9cad2f",
   "metadata": {},
   "outputs": [
    {
     "name": "stdout",
     "output_type": "stream",
     "text": [
      "[[ 2.77451892e+124  2.77451892e+124  2.77451892e+124 ...  2.77451892e+124\n",
      "   2.77451892e+124  2.77451892e+124]\n",
      " [-4.11888741e+124 -4.11888741e+124 -4.11888741e+124 ... -4.11888741e+124\n",
      "  -4.11888741e+124 -4.11888741e+124]] [-2.54525111e+128]\n"
     ]
    }
   ],
   "source": [
    "print (weights,biases)"
   ]
  },
  {
   "cell_type": "markdown",
   "id": "3d63df6d-fd95-4373-acc3-eee351f07596",
   "metadata": {},
   "source": [
    "#### plot last outputs vs targets"
   ]
  },
  {
   "cell_type": "markdown",
   "id": "c89f2425-81e9-40c6-8b08-aba159583d12",
   "metadata": {},
   "source": [
    "Since they are the last ones at the end of the training, they represent the final model accuracy. The closer this plot is to a 45 degree line, the closer target and output values are.\n",
    "Obviously,our model worked !"
   ]
  },
  {
   "cell_type": "code",
   "execution_count": 13,
   "id": "88fe5d18-8a13-48ec-939e-70d8db39efa7",
   "metadata": {},
   "outputs": [
    {
     "data": {
      "image/png": "[encoded data removed]",
      "text/plain": [
       "<Figure size 432x288 with 1 Axes>"
      ]
     },
     "metadata": {
      "needs_background": "light"
     },
     "output_type": "display_data"
    }
   ],
   "source": [
    "plt.plot(outputs,targets)\n",
    "plt.xlabel('outputs')\n",
    "plt.ylabel('targets')\n",
    "plt.show()"
   ]
  },
  {
   "cell_type": "markdown",
   "id": "5c444305-d52c-48c9-a626-ab646f1d80d3",
   "metadata": {},
   "source": [
    "### Introduction to Tensorflow"
   ]
  },
  {
   "cell_type": "code",
   "execution_count": null,
   "id": "1de1e128-fb7f-4773-966c-372ab1441a3e",
   "metadata": {},
   "outputs": [],
   "source": []
  },
  {
   "cell_type": "markdown",
   "id": "0a49c05b-40c0-4631-a6fe-af3b5280cdde",
   "metadata": {},
   "source": [
    "#### TensorFlow 2 Intro"
   ]
  },
  {
   "cell_type": "markdown",
   "id": "2aa09e4d-c886-4575-aded-254c73433994",
   "metadata": {},
   "source": [
    "It is most widely used \n",
    "but very hard to use\n",
    "\n",
    "kios was introduced \n",
    "tf 2.0 was introduced and it has the best\n",
    "simplifies api\n",
    "simple execution\n",
    "it is an interface for tf\n",
    "    "
   ]
  },
  {
   "cell_type": "markdown",
   "id": "16036436-68ad-4bc9-b0fb-77594d33109e",
   "metadata": {},
   "source": [
    "Installing the TensorFlow package"
   ]
  },
  {
   "cell_type": "markdown",
   "id": "c643050f-87a0-4832-bdc3-0a360cc706b3",
   "metadata": {},
   "source": [
    "#### A note on coding in TensorFlow"
   ]
  },
  {
   "cell_type": "markdown",
   "id": "8ba15e48-11f4-47a6-a0f7-7afe7644b3c4",
   "metadata": {},
   "source": [
    "\n",
    "\n",
    "Tensorflow is a deep learning library developed by google"
   ]
  },
  {
   "cell_type": "markdown",
   "id": "7033ab12-bd92-4643-836e-915aa7602f21",
   "metadata": {},
   "source": [
    "Types of file formats in Tensorflow and data handling"
   ]
  },
  {
   "cell_type": "markdown",
   "id": "c0366b43-fa60-4663-ae63-bb05cbebf362",
   "metadata": {},
   "source": [
    "Minimal example with Tensor flow"
   ]
  },
  {
   "cell_type": "markdown",
   "id": "f5c3e0f9-012f-44d0-a971-0372324d73bd",
   "metadata": {},
   "source": [
    "Tensor flow is tensor based\n",
    "tensor flow can be represented by n-dimensional array.\n",
    "\n",
    "npz files helps to organise data in a given way"
   ]
  },
  {
   "cell_type": "code",
   "execution_count": null,
   "id": "de745b7e-45d0-4000-9089-4ad55f5d3fff",
   "metadata": {},
   "outputs": [],
   "source": [
    "Model layout – inputs, outputs, target, weights, bias, optimizer, and loss"
   ]
  },
  {
   "cell_type": "markdown",
   "id": "7493aa50-eeb7-43c9-862b-f66ee41e4aca",
   "metadata": {},
   "source": [
    "We must build the model\n",
    "tf 2 is based on keras\n",
    "\n",
    "linear combination + output = output layer\n",
    "\n",
    "We must specify our output size\n",
    "\n",
    "modl.compile\n",
    "\n",
    "Stochaitic gradient descentloss function use l2-nirm loss or least sum of square\n"
   ]
  },
  {
   "cell_type": "code",
   "execution_count": null,
   "id": "bec8b89f-aca5-4fe8-bad0-4e8c4eb096ea",
   "metadata": {},
   "outputs": [],
   "source": [
    "You load your data from npz,s"
   ]
  },
  {
   "cell_type": "markdown",
   "id": "3e4c8d7c-63b3-4437-a80d-32143e142c47",
   "metadata": {},
   "source": [
    "verbose = o  you will not see any result but if you cahnge it to 1 ,you will see the result, if you change it to 2 \n",
    " when it is 2 we can track the last function\n",
    "Use get weight to get the weigth"
   ]
  },
  {
   "cell_type": "markdown",
   "id": "59c09d83-394f-4e25-9693-113f9e4d40c6",
   "metadata": {},
   "source": [
    "#### Customizing your model"
   ]
  },
  {
   "cell_type": "markdown",
   "id": "293930f8-575b-4bf0-8b47-97d727b2b501",
   "metadata": {},
   "source": [
    "The learning rate is an intergral part of the optimizer"
   ]
  },
  {
   "cell_type": "markdown",
   "id": "2b7f9cca-85a4-4a1e-bbfd-b1ac40d92069",
   "metadata": {},
   "source": [
    "#### Neural Networks (Tensor Flow): Quiz"
   ]
  },
  {
   "cell_type": "markdown",
   "id": "efb2aa06-1fe5-48d7-8a14-4911bac3384d",
   "metadata": {},
   "source": [
    "1. What two types of Neural Networks are there"
   ]
  },
  {
   "cell_type": "markdown",
   "id": "929dba8b-02fd-4acf-802f-9aade8c029ed",
   "metadata": {},
   "source": [
    "Biological Neural network and Artificial Neural Network"
   ]
  },
  {
   "cell_type": "markdown",
   "id": "9b9a2669-9842-413b-bc3e-df06f2716d6b",
   "metadata": {},
   "source": [
    "\n",
    "2.  What are ANNs used for?\n",
    "\n",
    "Reproduce Human Brain Functions"
   ]
  },
  {
   "cell_type": "markdown",
   "id": "a86f06dd-0f19-4ec2-9a5e-1552f4ff649a",
   "metadata": {},
   "source": [
    "3. What are the Three Parts of a Neuron?\n",
    "\n",
    "Dendrite, Soma, Axon"
   ]
  },
  {
   "cell_type": "markdown",
   "id": "109de5c4-1839-4c47-902a-96a76ad9b1f3",
   "metadata": {},
   "source": [
    "ANNs are efficient data-driven modelling tools widely used for nonlinear systems dynamic modelling and identification, due to their universal approximation capabilities and flexible structure that allow to captu"
   ]
  },
  {
   "cell_type": "markdown",
   "id": "c3594f5a-a969-4c9e-89c5-1b5e5afdc75c",
   "metadata": {},
   "source": [
    "4. What Problems do ANNs not solve?\n",
    "\n",
    "Geometric problems"
   ]
  },
  {
   "cell_type": "markdown",
   "id": "aa3863f5-f057-474b-9775-52025418a76d",
   "metadata": {},
   "source": [
    "5. What futuristic actions can not be performed by ANNs?\n",
    "\n",
    "Function Approximation"
   ]
  },
  {
   "cell_type": "markdown",
   "id": "58e696c0-68b4-4c2c-a525-c0a70094378d",
   "metadata": {},
   "source": [
    "6. The best type of ANN is one that is built for a specific purpose and not a general purpose. \n",
    "true"
   ]
  },
  {
   "cell_type": "markdown",
   "id": "e18aad76-faad-47fc-85da-241e40f63efd",
   "metadata": {},
   "source": [
    "7. What 2 subjects are neural networks usually associated with?\n",
    "\n",
    "Biology & Artificial-engineering"
   ]
  },
  {
   "cell_type": "markdown",
   "id": "1dcb4f84-480f-442b-aadf-9415eeb5c040",
   "metadata": {},
   "source": [
    "8. Which of the following is/are true for neural networks\n",
    "\n",
    "The training time depends on the size of the network.\n",
    "\n",
    "Neural networks can be simulated on a conventional computer."
   ]
  },
  {
   "cell_type": "markdown",
   "id": "99708540-2171-4267-9d3a-bbb45530b4e0",
   "metadata": {},
   "source": [
    "9. What is/are the advantages of neural networks over conventional computers?\n",
    "\n",
    "\n",
    "They have the ability to learn by example\n",
    "They are more fault tolerant\n",
    "They are more suited for real time operation due to their high 'computational' rates"
   ]
  },
  {
   "cell_type": "markdown",
   "id": "914b8312-4880-4348-b937-555de9853ece",
   "metadata": {},
   "source": [
    "10. What is an activation value?\n",
    "\n",
    "weighted sum of inputs"
   ]
  },
  {
   "cell_type": "code",
   "execution_count": null,
   "id": "431f2a42-aed6-4942-b49c-9eb1c0bdb9e7",
   "metadata": {},
   "outputs": [],
   "source": [
    "#### THe layer"
   ]
  },
  {
   "cell_type": "code",
   "execution_count": null,
   "id": "69549ec4-3524-407a-8cb6-aab1d43bf4a9",
   "metadata": {},
   "outputs": [],
   "source": []
  },
  {
   "cell_type": "markdown",
   "id": "d8020acf-f1e8-4fa9-ab18-5686fcd1b2b6",
   "metadata": {},
   "source": [
    "You can combine lineear and non linear function\n",
    "\n",
    "non linearity is sigmoid function"
   ]
  },
  {
   "cell_type": "markdown",
   "id": "b6d0dc4a-bab0-4796-85cb-27f5abc37039",
   "metadata": {},
   "source": [
    "Input layer  : is our first layer\n",
    "    \n",
    "output layer is the last layer\n",
    "is what we compare our output to.\n",
    "\n",
    "Hidden layers are the hidden units or nodes\n",
    "the weighrt is the number of the hidden units\n",
    "we know the input but we dont know what is inside\n",
    "Hypaparemeters are set by us before we start optimizing.\n",
    "parameters are derived through optimazation\n",
    "The weight is done with the same weigth\n",
    "\n",
    "Depth and weigth and learning rate \n",
    "are hyper parameters and they  are set by us before we start optimizing."
   ]
  },
  {
   "cell_type": "markdown",
   "id": "a7c3f5c0-339b-411e-bb7d-c13b642005ee",
   "metadata": {},
   "source": [
    "Input layer  : is our first layer\n",
    "    \n",
    "output layer is the last layer\n",
    "is what we compare our output to.\n",
    "\n",
    "Hidden layers are the hidden units or nodes\n",
    "the weighrt is the number of the hidden units\n",
    "we know the input but we dont know what is inside\n",
    "Hypaparemeters are set by us before we start optimizing.\n",
    "parameters are derived through optimazation\n",
    "The weight is done with the same weigth\n",
    "\n",
    "Depth and weigth and learning rate \n",
    "are hyper parameters and they  are set by us before we start optimizing."
   ]
  },
  {
   "cell_type": "markdown",
   "id": "2f36125f-0e40-4d6f-9bce-c3a9163db286",
   "metadata": {},
   "source": [
    "An illustration of deep net\n",
    "\n",
    "input layers data  each circle reprens the data we feed to train the model we feed the model we have 8 e.g weather forecast e.g humidty , high and low temperature, ave temp, invusbibilty and distanceprecipitation, clouud cover\n",
    "\n",
    "To combine linearity we need weigth.\n",
    "weight are 8x9 matrix\n",
    "a vector of 8x9\n",
    "\n",
    "each error reps the mathematicaly expression \n",
    "erors represents weigths\n",
    "weigth is a part of the hidden layer\n",
    "non linearity does not change the shape of the experiession , it only changes its linearity.\n",
    "\n",
    "weigth has two index numbers\n",
    "\n",
    "units it refers to and ghidden units is referring to.\n",
    "\n",
    "hiden units and combine the non linearity\n",
    "\n",
    "we can add a 100 hidden layer\n",
    "\n",
    "we will reach the output layer. we decide the number of output we wan to reach ie humidty, temp, distance  etc"
   ]
  },
  {
   "cell_type": "code",
   "execution_count": null,
   "id": "13882873-3b23-44cf-b32d-317299d52792",
   "metadata": {},
   "outputs": [],
   "source": []
  }
 ],
 "metadata": {
  "kernelspec": {
   "display_name": "Python 3 (ipykernel)",
   "language": "python",
   "name": "python3"
  },
  "language_info": {
   "codemirror_mode": {
    "name": "ipython",
    "version": 3
   },
   "file_extension": ".py",
   "mimetype": "text/x-python",
   "name": "python",
   "nbconvert_exporter": "python",
   "pygments_lexer": "ipython3",
   "version": "3.9.7"
  }
 },
 "nbformat": 4,
 "nbformat_minor": 5
}
